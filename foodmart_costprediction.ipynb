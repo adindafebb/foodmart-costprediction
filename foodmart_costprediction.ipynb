{
  "nbformat": 4,
  "nbformat_minor": 0,
  "metadata": {
    "colab": {
      "provenance": [],
      "toc_visible": true,
      "authorship_tag": "ABX9TyNsndiQB1zVY/7ea48xmHqH"
    },
    "kernelspec": {
      "name": "python3",
      "display_name": "Python 3"
    },
    "language_info": {
      "name": "python"
    }
  },
  "cells": [
    {
      "cell_type": "markdown",
      "source": [
        "# crisp-dm "
      ],
      "metadata": {
        "id": "8oFYMr8vJpJg"
      }
    },
    {
      "cell_type": "markdown",
      "source": [
        "## business understanding"
      ],
      "metadata": {
        "id": "TlQ8tsE9Jomf"
      }
    },
    {
      "cell_type": "markdown",
      "source": [
        "**Tujuan**\n",
        "- Memprediksi biaya untuk menarik/mendapatkan pelanggan (Cost Prediction on acquiring Customers) \n",
        "- Mengetahui faktor-faktor yang mempengaruhi biaya -> berdasarkan variabel importance (dari beberapa variabel yang digunakan, mana yang mempengaruhi paling tinggi)\n",
        "- Mengetahui bagaimana pengaruh biaya terhadap penjualan dan keuntungan perusahaan. \n"
      ],
      "metadata": {
        "id": "_Xlzb4XThTjK"
      }
    },
    {
      "cell_type": "code",
      "execution_count": 1,
      "metadata": {
        "id": "l325ti0VcMw_"
      },
      "outputs": [],
      "source": [
        "import pandas as pd\n",
        "import numpy as np"
      ]
    },
    {
      "cell_type": "code",
      "source": [
        "import seaborn as sns # For pairplots and heatmaps\n",
        "import matplotlib.pyplot as plt"
      ],
      "metadata": {
        "id": "MFm2o0CIwujM"
      },
      "execution_count": 2,
      "outputs": []
    },
    {
      "cell_type": "code",
      "source": [
        "from google.colab import drive\n",
        "drive.mount('/content/drive')"
      ],
      "metadata": {
        "colab": {
          "base_uri": "https://localhost:8080/"
        },
        "id": "pGy7xn1xceQM",
        "outputId": "edacba26-9b1f-4272-dcd6-27b4ed4a15e8"
      },
      "execution_count": 3,
      "outputs": [
        {
          "output_type": "stream",
          "name": "stdout",
          "text": [
            "Mounted at /content/drive\n"
          ]
        }
      ]
    },
    {
      "cell_type": "markdown",
      "source": [
        "## data understanding"
      ],
      "metadata": {
        "id": "mmBODCipJl_v"
      }
    },
    {
      "cell_type": "code",
      "source": [
        "df=pd.read_csv(\"/content/drive/MyDrive/Studi Independent Great Edu/media prediction and its cost.csv\")\n",
        "df.head()"
      ],
      "metadata": {
        "colab": {
          "base_uri": "https://localhost:8080/",
          "height": 403
        },
        "id": "zFVqTlSWcaFN",
        "outputId": "5d8c8e10-8296-4c7f-e3de-9a11c0a4a735"
      },
      "execution_count": 139,
      "outputs": [
        {
          "output_type": "execute_result",
          "data": {
            "text/plain": [
              "     food_category food_department food_family  store_sales(in millions)  \\\n",
              "0  Breakfast Foods    Frozen Foods        Food                      7.36   \n",
              "1  Breakfast Foods    Frozen Foods        Food                      5.52   \n",
              "2  Breakfast Foods    Frozen Foods        Food                      3.68   \n",
              "3  Breakfast Foods    Frozen Foods        Food                      3.68   \n",
              "4  Breakfast Foods    Frozen Foods        Food                      4.08   \n",
              "\n",
              "   store_cost(in millions)  unit_sales(in millions)         promotion_name  \\\n",
              "0                   2.7232                      4.0           Bag Stuffers   \n",
              "1                   2.5944                      3.0  Cash Register Lottery   \n",
              "2                   1.3616                      2.0    High Roller Savings   \n",
              "3                   1.1776                      2.0  Cash Register Lottery   \n",
              "4                   1.4280                      3.0       Double Down Sale   \n",
              "\n",
              "  sales_country marital_status gender  ...  grocery_sqft frozen_sqft  \\\n",
              "0           USA              M      F  ...       18670.0      5415.0   \n",
              "1           USA              M      M  ...       18670.0      5415.0   \n",
              "2           USA              S      F  ...       18670.0      5415.0   \n",
              "3           USA              M      F  ...       18670.0      5415.0   \n",
              "4           USA              M      M  ...       18670.0      5415.0   \n",
              "\n",
              "  meat_sqft coffee_bar video_store  salad_bar prepared_food  florist  \\\n",
              "0    3610.0        1.0         1.0        1.0           1.0      1.0   \n",
              "1    3610.0        1.0         1.0        1.0           1.0      1.0   \n",
              "2    3610.0        1.0         1.0        1.0           1.0      1.0   \n",
              "3    3610.0        1.0         1.0        1.0           1.0      1.0   \n",
              "4    3610.0        1.0         1.0        1.0           1.0      1.0   \n",
              "\n",
              "           media_type    cost  \n",
              "0  Daily Paper, Radio  126.62  \n",
              "1  Daily Paper, Radio   59.86  \n",
              "2  Daily Paper, Radio   84.16  \n",
              "3     In-Store Coupon   95.78  \n",
              "4               Radio   50.79  \n",
              "\n",
              "[5 rows x 40 columns]"
            ],
            "text/html": [
              "\n",
              "  <div id=\"df-a4afd2be-23e8-4275-a19e-02f7ee31ee49\">\n",
              "    <div class=\"colab-df-container\">\n",
              "      <div>\n",
              "<style scoped>\n",
              "    .dataframe tbody tr th:only-of-type {\n",
              "        vertical-align: middle;\n",
              "    }\n",
              "\n",
              "    .dataframe tbody tr th {\n",
              "        vertical-align: top;\n",
              "    }\n",
              "\n",
              "    .dataframe thead th {\n",
              "        text-align: right;\n",
              "    }\n",
              "</style>\n",
              "<table border=\"1\" class=\"dataframe\">\n",
              "  <thead>\n",
              "    <tr style=\"text-align: right;\">\n",
              "      <th></th>\n",
              "      <th>food_category</th>\n",
              "      <th>food_department</th>\n",
              "      <th>food_family</th>\n",
              "      <th>store_sales(in millions)</th>\n",
              "      <th>store_cost(in millions)</th>\n",
              "      <th>unit_sales(in millions)</th>\n",
              "      <th>promotion_name</th>\n",
              "      <th>sales_country</th>\n",
              "      <th>marital_status</th>\n",
              "      <th>gender</th>\n",
              "      <th>...</th>\n",
              "      <th>grocery_sqft</th>\n",
              "      <th>frozen_sqft</th>\n",
              "      <th>meat_sqft</th>\n",
              "      <th>coffee_bar</th>\n",
              "      <th>video_store</th>\n",
              "      <th>salad_bar</th>\n",
              "      <th>prepared_food</th>\n",
              "      <th>florist</th>\n",
              "      <th>media_type</th>\n",
              "      <th>cost</th>\n",
              "    </tr>\n",
              "  </thead>\n",
              "  <tbody>\n",
              "    <tr>\n",
              "      <th>0</th>\n",
              "      <td>Breakfast Foods</td>\n",
              "      <td>Frozen Foods</td>\n",
              "      <td>Food</td>\n",
              "      <td>7.36</td>\n",
              "      <td>2.7232</td>\n",
              "      <td>4.0</td>\n",
              "      <td>Bag Stuffers</td>\n",
              "      <td>USA</td>\n",
              "      <td>M</td>\n",
              "      <td>F</td>\n",
              "      <td>...</td>\n",
              "      <td>18670.0</td>\n",
              "      <td>5415.0</td>\n",
              "      <td>3610.0</td>\n",
              "      <td>1.0</td>\n",
              "      <td>1.0</td>\n",
              "      <td>1.0</td>\n",
              "      <td>1.0</td>\n",
              "      <td>1.0</td>\n",
              "      <td>Daily Paper, Radio</td>\n",
              "      <td>126.62</td>\n",
              "    </tr>\n",
              "    <tr>\n",
              "      <th>1</th>\n",
              "      <td>Breakfast Foods</td>\n",
              "      <td>Frozen Foods</td>\n",
              "      <td>Food</td>\n",
              "      <td>5.52</td>\n",
              "      <td>2.5944</td>\n",
              "      <td>3.0</td>\n",
              "      <td>Cash Register Lottery</td>\n",
              "      <td>USA</td>\n",
              "      <td>M</td>\n",
              "      <td>M</td>\n",
              "      <td>...</td>\n",
              "      <td>18670.0</td>\n",
              "      <td>5415.0</td>\n",
              "      <td>3610.0</td>\n",
              "      <td>1.0</td>\n",
              "      <td>1.0</td>\n",
              "      <td>1.0</td>\n",
              "      <td>1.0</td>\n",
              "      <td>1.0</td>\n",
              "      <td>Daily Paper, Radio</td>\n",
              "      <td>59.86</td>\n",
              "    </tr>\n",
              "    <tr>\n",
              "      <th>2</th>\n",
              "      <td>Breakfast Foods</td>\n",
              "      <td>Frozen Foods</td>\n",
              "      <td>Food</td>\n",
              "      <td>3.68</td>\n",
              "      <td>1.3616</td>\n",
              "      <td>2.0</td>\n",
              "      <td>High Roller Savings</td>\n",
              "      <td>USA</td>\n",
              "      <td>S</td>\n",
              "      <td>F</td>\n",
              "      <td>...</td>\n",
              "      <td>18670.0</td>\n",
              "      <td>5415.0</td>\n",
              "      <td>3610.0</td>\n",
              "      <td>1.0</td>\n",
              "      <td>1.0</td>\n",
              "      <td>1.0</td>\n",
              "      <td>1.0</td>\n",
              "      <td>1.0</td>\n",
              "      <td>Daily Paper, Radio</td>\n",
              "      <td>84.16</td>\n",
              "    </tr>\n",
              "    <tr>\n",
              "      <th>3</th>\n",
              "      <td>Breakfast Foods</td>\n",
              "      <td>Frozen Foods</td>\n",
              "      <td>Food</td>\n",
              "      <td>3.68</td>\n",
              "      <td>1.1776</td>\n",
              "      <td>2.0</td>\n",
              "      <td>Cash Register Lottery</td>\n",
              "      <td>USA</td>\n",
              "      <td>M</td>\n",
              "      <td>F</td>\n",
              "      <td>...</td>\n",
              "      <td>18670.0</td>\n",
              "      <td>5415.0</td>\n",
              "      <td>3610.0</td>\n",
              "      <td>1.0</td>\n",
              "      <td>1.0</td>\n",
              "      <td>1.0</td>\n",
              "      <td>1.0</td>\n",
              "      <td>1.0</td>\n",
              "      <td>In-Store Coupon</td>\n",
              "      <td>95.78</td>\n",
              "    </tr>\n",
              "    <tr>\n",
              "      <th>4</th>\n",
              "      <td>Breakfast Foods</td>\n",
              "      <td>Frozen Foods</td>\n",
              "      <td>Food</td>\n",
              "      <td>4.08</td>\n",
              "      <td>1.4280</td>\n",
              "      <td>3.0</td>\n",
              "      <td>Double Down Sale</td>\n",
              "      <td>USA</td>\n",
              "      <td>M</td>\n",
              "      <td>M</td>\n",
              "      <td>...</td>\n",
              "      <td>18670.0</td>\n",
              "      <td>5415.0</td>\n",
              "      <td>3610.0</td>\n",
              "      <td>1.0</td>\n",
              "      <td>1.0</td>\n",
              "      <td>1.0</td>\n",
              "      <td>1.0</td>\n",
              "      <td>1.0</td>\n",
              "      <td>Radio</td>\n",
              "      <td>50.79</td>\n",
              "    </tr>\n",
              "  </tbody>\n",
              "</table>\n",
              "<p>5 rows × 40 columns</p>\n",
              "</div>\n",
              "      <button class=\"colab-df-convert\" onclick=\"convertToInteractive('df-a4afd2be-23e8-4275-a19e-02f7ee31ee49')\"\n",
              "              title=\"Convert this dataframe to an interactive table.\"\n",
              "              style=\"display:none;\">\n",
              "        \n",
              "  <svg xmlns=\"http://www.w3.org/2000/svg\" height=\"24px\"viewBox=\"0 0 24 24\"\n",
              "       width=\"24px\">\n",
              "    <path d=\"M0 0h24v24H0V0z\" fill=\"none\"/>\n",
              "    <path d=\"M18.56 5.44l.94 2.06.94-2.06 2.06-.94-2.06-.94-.94-2.06-.94 2.06-2.06.94zm-11 1L8.5 8.5l.94-2.06 2.06-.94-2.06-.94L8.5 2.5l-.94 2.06-2.06.94zm10 10l.94 2.06.94-2.06 2.06-.94-2.06-.94-.94-2.06-.94 2.06-2.06.94z\"/><path d=\"M17.41 7.96l-1.37-1.37c-.4-.4-.92-.59-1.43-.59-.52 0-1.04.2-1.43.59L10.3 9.45l-7.72 7.72c-.78.78-.78 2.05 0 2.83L4 21.41c.39.39.9.59 1.41.59.51 0 1.02-.2 1.41-.59l7.78-7.78 2.81-2.81c.8-.78.8-2.07 0-2.86zM5.41 20L4 18.59l7.72-7.72 1.47 1.35L5.41 20z\"/>\n",
              "  </svg>\n",
              "      </button>\n",
              "      \n",
              "  <style>\n",
              "    .colab-df-container {\n",
              "      display:flex;\n",
              "      flex-wrap:wrap;\n",
              "      gap: 12px;\n",
              "    }\n",
              "\n",
              "    .colab-df-convert {\n",
              "      background-color: #E8F0FE;\n",
              "      border: none;\n",
              "      border-radius: 50%;\n",
              "      cursor: pointer;\n",
              "      display: none;\n",
              "      fill: #1967D2;\n",
              "      height: 32px;\n",
              "      padding: 0 0 0 0;\n",
              "      width: 32px;\n",
              "    }\n",
              "\n",
              "    .colab-df-convert:hover {\n",
              "      background-color: #E2EBFA;\n",
              "      box-shadow: 0px 1px 2px rgba(60, 64, 67, 0.3), 0px 1px 3px 1px rgba(60, 64, 67, 0.15);\n",
              "      fill: #174EA6;\n",
              "    }\n",
              "\n",
              "    [theme=dark] .colab-df-convert {\n",
              "      background-color: #3B4455;\n",
              "      fill: #D2E3FC;\n",
              "    }\n",
              "\n",
              "    [theme=dark] .colab-df-convert:hover {\n",
              "      background-color: #434B5C;\n",
              "      box-shadow: 0px 1px 3px 1px rgba(0, 0, 0, 0.15);\n",
              "      filter: drop-shadow(0px 1px 2px rgba(0, 0, 0, 0.3));\n",
              "      fill: #FFFFFF;\n",
              "    }\n",
              "  </style>\n",
              "\n",
              "      <script>\n",
              "        const buttonEl =\n",
              "          document.querySelector('#df-a4afd2be-23e8-4275-a19e-02f7ee31ee49 button.colab-df-convert');\n",
              "        buttonEl.style.display =\n",
              "          google.colab.kernel.accessAllowed ? 'block' : 'none';\n",
              "\n",
              "        async function convertToInteractive(key) {\n",
              "          const element = document.querySelector('#df-a4afd2be-23e8-4275-a19e-02f7ee31ee49');\n",
              "          const dataTable =\n",
              "            await google.colab.kernel.invokeFunction('convertToInteractive',\n",
              "                                                     [key], {});\n",
              "          if (!dataTable) return;\n",
              "\n",
              "          const docLinkHtml = 'Like what you see? Visit the ' +\n",
              "            '<a target=\"_blank\" href=https://colab.research.google.com/notebooks/data_table.ipynb>data table notebook</a>'\n",
              "            + ' to learn more about interactive tables.';\n",
              "          element.innerHTML = '';\n",
              "          dataTable['output_type'] = 'display_data';\n",
              "          await google.colab.output.renderOutput(dataTable, element);\n",
              "          const docLink = document.createElement('div');\n",
              "          docLink.innerHTML = docLinkHtml;\n",
              "          element.appendChild(docLink);\n",
              "        }\n",
              "      </script>\n",
              "    </div>\n",
              "  </div>\n",
              "  "
            ]
          },
          "metadata": {},
          "execution_count": 139
        }
      ]
    },
    {
      "cell_type": "code",
      "source": [
        "df1=df.copy() # df1 digunakan untuk EDA\n",
        "df1.head()"
      ],
      "metadata": {
        "colab": {
          "base_uri": "https://localhost:8080/",
          "height": 403
        },
        "id": "0fANm5HgYXxK",
        "outputId": "5468f446-66b0-4709-b514-f5b887e60ad0"
      },
      "execution_count": 19,
      "outputs": [
        {
          "output_type": "execute_result",
          "data": {
            "text/plain": [
              "     food_category food_department food_family  store_sales(in millions)  \\\n",
              "0  Breakfast Foods    Frozen Foods        Food                      7.36   \n",
              "1  Breakfast Foods    Frozen Foods        Food                      5.52   \n",
              "2  Breakfast Foods    Frozen Foods        Food                      3.68   \n",
              "3  Breakfast Foods    Frozen Foods        Food                      3.68   \n",
              "4  Breakfast Foods    Frozen Foods        Food                      4.08   \n",
              "\n",
              "   store_cost(in millions)  unit_sales(in millions)         promotion_name  \\\n",
              "0                   2.7232                      4.0           Bag Stuffers   \n",
              "1                   2.5944                      3.0  Cash Register Lottery   \n",
              "2                   1.3616                      2.0    High Roller Savings   \n",
              "3                   1.1776                      2.0  Cash Register Lottery   \n",
              "4                   1.4280                      3.0       Double Down Sale   \n",
              "\n",
              "  sales_country marital_status gender  ...  grocery_sqft frozen_sqft  \\\n",
              "0           USA              M      F  ...       18670.0      5415.0   \n",
              "1           USA              M      M  ...       18670.0      5415.0   \n",
              "2           USA              S      F  ...       18670.0      5415.0   \n",
              "3           USA              M      F  ...       18670.0      5415.0   \n",
              "4           USA              M      M  ...       18670.0      5415.0   \n",
              "\n",
              "  meat_sqft coffee_bar video_store  salad_bar prepared_food  florist  \\\n",
              "0    3610.0        1.0         1.0        1.0           1.0      1.0   \n",
              "1    3610.0        1.0         1.0        1.0           1.0      1.0   \n",
              "2    3610.0        1.0         1.0        1.0           1.0      1.0   \n",
              "3    3610.0        1.0         1.0        1.0           1.0      1.0   \n",
              "4    3610.0        1.0         1.0        1.0           1.0      1.0   \n",
              "\n",
              "           media_type    cost  \n",
              "0  Daily Paper, Radio  126.62  \n",
              "1  Daily Paper, Radio   59.86  \n",
              "2  Daily Paper, Radio   84.16  \n",
              "3     In-Store Coupon   95.78  \n",
              "4               Radio   50.79  \n",
              "\n",
              "[5 rows x 40 columns]"
            ],
            "text/html": [
              "\n",
              "  <div id=\"df-34a91718-388c-4afb-96ee-fdfea2abc1b1\">\n",
              "    <div class=\"colab-df-container\">\n",
              "      <div>\n",
              "<style scoped>\n",
              "    .dataframe tbody tr th:only-of-type {\n",
              "        vertical-align: middle;\n",
              "    }\n",
              "\n",
              "    .dataframe tbody tr th {\n",
              "        vertical-align: top;\n",
              "    }\n",
              "\n",
              "    .dataframe thead th {\n",
              "        text-align: right;\n",
              "    }\n",
              "</style>\n",
              "<table border=\"1\" class=\"dataframe\">\n",
              "  <thead>\n",
              "    <tr style=\"text-align: right;\">\n",
              "      <th></th>\n",
              "      <th>food_category</th>\n",
              "      <th>food_department</th>\n",
              "      <th>food_family</th>\n",
              "      <th>store_sales(in millions)</th>\n",
              "      <th>store_cost(in millions)</th>\n",
              "      <th>unit_sales(in millions)</th>\n",
              "      <th>promotion_name</th>\n",
              "      <th>sales_country</th>\n",
              "      <th>marital_status</th>\n",
              "      <th>gender</th>\n",
              "      <th>...</th>\n",
              "      <th>grocery_sqft</th>\n",
              "      <th>frozen_sqft</th>\n",
              "      <th>meat_sqft</th>\n",
              "      <th>coffee_bar</th>\n",
              "      <th>video_store</th>\n",
              "      <th>salad_bar</th>\n",
              "      <th>prepared_food</th>\n",
              "      <th>florist</th>\n",
              "      <th>media_type</th>\n",
              "      <th>cost</th>\n",
              "    </tr>\n",
              "  </thead>\n",
              "  <tbody>\n",
              "    <tr>\n",
              "      <th>0</th>\n",
              "      <td>Breakfast Foods</td>\n",
              "      <td>Frozen Foods</td>\n",
              "      <td>Food</td>\n",
              "      <td>7.36</td>\n",
              "      <td>2.7232</td>\n",
              "      <td>4.0</td>\n",
              "      <td>Bag Stuffers</td>\n",
              "      <td>USA</td>\n",
              "      <td>M</td>\n",
              "      <td>F</td>\n",
              "      <td>...</td>\n",
              "      <td>18670.0</td>\n",
              "      <td>5415.0</td>\n",
              "      <td>3610.0</td>\n",
              "      <td>1.0</td>\n",
              "      <td>1.0</td>\n",
              "      <td>1.0</td>\n",
              "      <td>1.0</td>\n",
              "      <td>1.0</td>\n",
              "      <td>Daily Paper, Radio</td>\n",
              "      <td>126.62</td>\n",
              "    </tr>\n",
              "    <tr>\n",
              "      <th>1</th>\n",
              "      <td>Breakfast Foods</td>\n",
              "      <td>Frozen Foods</td>\n",
              "      <td>Food</td>\n",
              "      <td>5.52</td>\n",
              "      <td>2.5944</td>\n",
              "      <td>3.0</td>\n",
              "      <td>Cash Register Lottery</td>\n",
              "      <td>USA</td>\n",
              "      <td>M</td>\n",
              "      <td>M</td>\n",
              "      <td>...</td>\n",
              "      <td>18670.0</td>\n",
              "      <td>5415.0</td>\n",
              "      <td>3610.0</td>\n",
              "      <td>1.0</td>\n",
              "      <td>1.0</td>\n",
              "      <td>1.0</td>\n",
              "      <td>1.0</td>\n",
              "      <td>1.0</td>\n",
              "      <td>Daily Paper, Radio</td>\n",
              "      <td>59.86</td>\n",
              "    </tr>\n",
              "    <tr>\n",
              "      <th>2</th>\n",
              "      <td>Breakfast Foods</td>\n",
              "      <td>Frozen Foods</td>\n",
              "      <td>Food</td>\n",
              "      <td>3.68</td>\n",
              "      <td>1.3616</td>\n",
              "      <td>2.0</td>\n",
              "      <td>High Roller Savings</td>\n",
              "      <td>USA</td>\n",
              "      <td>S</td>\n",
              "      <td>F</td>\n",
              "      <td>...</td>\n",
              "      <td>18670.0</td>\n",
              "      <td>5415.0</td>\n",
              "      <td>3610.0</td>\n",
              "      <td>1.0</td>\n",
              "      <td>1.0</td>\n",
              "      <td>1.0</td>\n",
              "      <td>1.0</td>\n",
              "      <td>1.0</td>\n",
              "      <td>Daily Paper, Radio</td>\n",
              "      <td>84.16</td>\n",
              "    </tr>\n",
              "    <tr>\n",
              "      <th>3</th>\n",
              "      <td>Breakfast Foods</td>\n",
              "      <td>Frozen Foods</td>\n",
              "      <td>Food</td>\n",
              "      <td>3.68</td>\n",
              "      <td>1.1776</td>\n",
              "      <td>2.0</td>\n",
              "      <td>Cash Register Lottery</td>\n",
              "      <td>USA</td>\n",
              "      <td>M</td>\n",
              "      <td>F</td>\n",
              "      <td>...</td>\n",
              "      <td>18670.0</td>\n",
              "      <td>5415.0</td>\n",
              "      <td>3610.0</td>\n",
              "      <td>1.0</td>\n",
              "      <td>1.0</td>\n",
              "      <td>1.0</td>\n",
              "      <td>1.0</td>\n",
              "      <td>1.0</td>\n",
              "      <td>In-Store Coupon</td>\n",
              "      <td>95.78</td>\n",
              "    </tr>\n",
              "    <tr>\n",
              "      <th>4</th>\n",
              "      <td>Breakfast Foods</td>\n",
              "      <td>Frozen Foods</td>\n",
              "      <td>Food</td>\n",
              "      <td>4.08</td>\n",
              "      <td>1.4280</td>\n",
              "      <td>3.0</td>\n",
              "      <td>Double Down Sale</td>\n",
              "      <td>USA</td>\n",
              "      <td>M</td>\n",
              "      <td>M</td>\n",
              "      <td>...</td>\n",
              "      <td>18670.0</td>\n",
              "      <td>5415.0</td>\n",
              "      <td>3610.0</td>\n",
              "      <td>1.0</td>\n",
              "      <td>1.0</td>\n",
              "      <td>1.0</td>\n",
              "      <td>1.0</td>\n",
              "      <td>1.0</td>\n",
              "      <td>Radio</td>\n",
              "      <td>50.79</td>\n",
              "    </tr>\n",
              "  </tbody>\n",
              "</table>\n",
              "<p>5 rows × 40 columns</p>\n",
              "</div>\n",
              "      <button class=\"colab-df-convert\" onclick=\"convertToInteractive('df-34a91718-388c-4afb-96ee-fdfea2abc1b1')\"\n",
              "              title=\"Convert this dataframe to an interactive table.\"\n",
              "              style=\"display:none;\">\n",
              "        \n",
              "  <svg xmlns=\"http://www.w3.org/2000/svg\" height=\"24px\"viewBox=\"0 0 24 24\"\n",
              "       width=\"24px\">\n",
              "    <path d=\"M0 0h24v24H0V0z\" fill=\"none\"/>\n",
              "    <path d=\"M18.56 5.44l.94 2.06.94-2.06 2.06-.94-2.06-.94-.94-2.06-.94 2.06-2.06.94zm-11 1L8.5 8.5l.94-2.06 2.06-.94-2.06-.94L8.5 2.5l-.94 2.06-2.06.94zm10 10l.94 2.06.94-2.06 2.06-.94-2.06-.94-.94-2.06-.94 2.06-2.06.94z\"/><path d=\"M17.41 7.96l-1.37-1.37c-.4-.4-.92-.59-1.43-.59-.52 0-1.04.2-1.43.59L10.3 9.45l-7.72 7.72c-.78.78-.78 2.05 0 2.83L4 21.41c.39.39.9.59 1.41.59.51 0 1.02-.2 1.41-.59l7.78-7.78 2.81-2.81c.8-.78.8-2.07 0-2.86zM5.41 20L4 18.59l7.72-7.72 1.47 1.35L5.41 20z\"/>\n",
              "  </svg>\n",
              "      </button>\n",
              "      \n",
              "  <style>\n",
              "    .colab-df-container {\n",
              "      display:flex;\n",
              "      flex-wrap:wrap;\n",
              "      gap: 12px;\n",
              "    }\n",
              "\n",
              "    .colab-df-convert {\n",
              "      background-color: #E8F0FE;\n",
              "      border: none;\n",
              "      border-radius: 50%;\n",
              "      cursor: pointer;\n",
              "      display: none;\n",
              "      fill: #1967D2;\n",
              "      height: 32px;\n",
              "      padding: 0 0 0 0;\n",
              "      width: 32px;\n",
              "    }\n",
              "\n",
              "    .colab-df-convert:hover {\n",
              "      background-color: #E2EBFA;\n",
              "      box-shadow: 0px 1px 2px rgba(60, 64, 67, 0.3), 0px 1px 3px 1px rgba(60, 64, 67, 0.15);\n",
              "      fill: #174EA6;\n",
              "    }\n",
              "\n",
              "    [theme=dark] .colab-df-convert {\n",
              "      background-color: #3B4455;\n",
              "      fill: #D2E3FC;\n",
              "    }\n",
              "\n",
              "    [theme=dark] .colab-df-convert:hover {\n",
              "      background-color: #434B5C;\n",
              "      box-shadow: 0px 1px 3px 1px rgba(0, 0, 0, 0.15);\n",
              "      filter: drop-shadow(0px 1px 2px rgba(0, 0, 0, 0.3));\n",
              "      fill: #FFFFFF;\n",
              "    }\n",
              "  </style>\n",
              "\n",
              "      <script>\n",
              "        const buttonEl =\n",
              "          document.querySelector('#df-34a91718-388c-4afb-96ee-fdfea2abc1b1 button.colab-df-convert');\n",
              "        buttonEl.style.display =\n",
              "          google.colab.kernel.accessAllowed ? 'block' : 'none';\n",
              "\n",
              "        async function convertToInteractive(key) {\n",
              "          const element = document.querySelector('#df-34a91718-388c-4afb-96ee-fdfea2abc1b1');\n",
              "          const dataTable =\n",
              "            await google.colab.kernel.invokeFunction('convertToInteractive',\n",
              "                                                     [key], {});\n",
              "          if (!dataTable) return;\n",
              "\n",
              "          const docLinkHtml = 'Like what you see? Visit the ' +\n",
              "            '<a target=\"_blank\" href=https://colab.research.google.com/notebooks/data_table.ipynb>data table notebook</a>'\n",
              "            + ' to learn more about interactive tables.';\n",
              "          element.innerHTML = '';\n",
              "          dataTable['output_type'] = 'display_data';\n",
              "          await google.colab.output.renderOutput(dataTable, element);\n",
              "          const docLink = document.createElement('div');\n",
              "          docLink.innerHTML = docLinkHtml;\n",
              "          element.appendChild(docLink);\n",
              "        }\n",
              "      </script>\n",
              "    </div>\n",
              "  </div>\n",
              "  "
            ]
          },
          "metadata": {},
          "execution_count": 19
        }
      ]
    },
    {
      "cell_type": "code",
      "source": [
        "df.shape"
      ],
      "metadata": {
        "colab": {
          "base_uri": "https://localhost:8080/"
        },
        "id": "ilqZcHIycaCN",
        "outputId": "8d9c77ef-5b84-4ade-bdb6-83b9c7c9de94"
      },
      "execution_count": 20,
      "outputs": [
        {
          "output_type": "execute_result",
          "data": {
            "text/plain": [
              "(60428, 40)"
            ]
          },
          "metadata": {},
          "execution_count": 20
        }
      ]
    },
    {
      "cell_type": "code",
      "source": [
        "df.info()"
      ],
      "metadata": {
        "colab": {
          "base_uri": "https://localhost:8080/"
        },
        "id": "dRp8FZmbdvMM",
        "outputId": "78211d95-fb87-4211-8a1f-b9c679e1a7d7"
      },
      "execution_count": 21,
      "outputs": [
        {
          "output_type": "stream",
          "name": "stdout",
          "text": [
            "<class 'pandas.core.frame.DataFrame'>\n",
            "RangeIndex: 60428 entries, 0 to 60427\n",
            "Data columns (total 40 columns):\n",
            " #   Column                      Non-Null Count  Dtype  \n",
            "---  ------                      --------------  -----  \n",
            " 0   food_category               60428 non-null  object \n",
            " 1   food_department             60428 non-null  object \n",
            " 2   food_family                 60428 non-null  object \n",
            " 3   store_sales(in millions)    60428 non-null  float64\n",
            " 4   store_cost(in millions)     60428 non-null  float64\n",
            " 5   unit_sales(in millions)     60428 non-null  float64\n",
            " 6   promotion_name              60428 non-null  object \n",
            " 7   sales_country               60428 non-null  object \n",
            " 8   marital_status              60428 non-null  object \n",
            " 9   gender                      60428 non-null  object \n",
            " 10  total_children              60428 non-null  float64\n",
            " 11  education                   60428 non-null  object \n",
            " 12  member_card                 60428 non-null  object \n",
            " 13  occupation                  60428 non-null  object \n",
            " 14  houseowner                  60428 non-null  object \n",
            " 15  avg_cars_at home(approx)    60428 non-null  float64\n",
            " 16  avg. yearly_income          60428 non-null  object \n",
            " 17  num_children_at_home        60428 non-null  float64\n",
            " 18  avg_cars_at home(approx).1  60428 non-null  float64\n",
            " 19  brand_name                  60428 non-null  object \n",
            " 20  SRP                         60428 non-null  float64\n",
            " 21  gross_weight                60428 non-null  float64\n",
            " 22  net_weight                  60428 non-null  float64\n",
            " 23  recyclable_package          60428 non-null  float64\n",
            " 24  low_fat                     60428 non-null  float64\n",
            " 25  units_per_case              60428 non-null  float64\n",
            " 26  store_type                  60428 non-null  object \n",
            " 27  store_city                  60428 non-null  object \n",
            " 28  store_state                 60428 non-null  object \n",
            " 29  store_sqft                  60428 non-null  float64\n",
            " 30  grocery_sqft                60428 non-null  float64\n",
            " 31  frozen_sqft                 60428 non-null  float64\n",
            " 32  meat_sqft                   60428 non-null  float64\n",
            " 33  coffee_bar                  60428 non-null  float64\n",
            " 34  video_store                 60428 non-null  float64\n",
            " 35  salad_bar                   60428 non-null  float64\n",
            " 36  prepared_food               60428 non-null  float64\n",
            " 37  florist                     60428 non-null  float64\n",
            " 38  media_type                  60428 non-null  object \n",
            " 39  cost                        60428 non-null  float64\n",
            "dtypes: float64(23), object(17)\n",
            "memory usage: 18.4+ MB\n"
          ]
        }
      ]
    },
    {
      "cell_type": "markdown",
      "source": [
        "### EDA"
      ],
      "metadata": {
        "id": "ZGf8mt3CL2gE"
      }
    },
    {
      "cell_type": "markdown",
      "source": [
        "#### promosi dengan penjualan tertinggi"
      ],
      "metadata": {
        "id": "jXR5ILgR1fwo"
      }
    },
    {
      "cell_type": "code",
      "source": [
        "df_category_quantity = df.groupby('promotion_name')['unit_sales(in millions)'].sum().reset_index().sort_values('unit_sales(in millions)')\n",
        "df_category_quantity= df_category_quantity.tail(10))\n",
        "plt.figure(figsize=(16,6))\n",
        "plt.barh(df_category_quantity['promotion_name'], df_category_quantity['unit_sales(in millions)'])\n",
        "\n",
        "plt.xticks(rotation='vertical', size=8)\n",
        "plt.xlabel('Quantity')\n",
        "plt.ylabel('Promo')\n",
        "plt.title('Promo dengan Penjualan Tertinggi')\n",
        "for index, value in enumerate(df_category_quantity['unit_sales(in millions)']):\n",
        "    plt.text(value, index,\n",
        "             str(value))\n",
        "\n",
        "plt.show()"
      ],
      "metadata": {
        "colab": {
          "base_uri": "https://localhost:8080/",
          "height": 414
        },
        "id": "7TWszc5tviZF",
        "outputId": "c8ee9b02-0ac9-4fb7-d4f0-16c4de07bbe0"
      },
      "execution_count": 24,
      "outputs": [
        {
          "output_type": "display_data",
          "data": {
            "text/plain": [
              "<Figure size 1152x432 with 1 Axes>"
            ],
            "image/png": "[encoded data removed]"
          },
          "metadata": {
            "needs_background": "light"
          }
        }
      ]
    },
    {
      "cell_type": "markdown",
      "source": [
        "Penggunaan promosi yang dilakukan masih belum efektif, dari setiap promosi yang dilakukan memiliki hasil yang berbeda, perusahaan harus jeli melihat promosi yang efektif agar bisa memaksimalkan keuntungan dan memangkas biaya. \n"
      ],
      "metadata": {
        "id": "uBJG6-MnCVUK"
      }
    },
    {
      "cell_type": "markdown",
      "source": [
        "#### penjualan berdasarkan region"
      ],
      "metadata": {
        "id": "BaAlG3X91o4_"
      }
    },
    {
      "cell_type": "code",
      "source": [
        "top_region = df.groupby('sales_country')['unit_sales(in millions)'].sum().sort_values(ascending=False).head(10)\n",
        "top_region = top_region.reset_index()"
      ],
      "metadata": {
        "id": "Gf-CbRy11o5A"
      },
      "execution_count": 40,
      "outputs": []
    },
    {
      "cell_type": "code",
      "source": [
        "df_tier1=pd.DataFrame(df.loc[df['sales_country'] =='USA'])#for tier 1\n",
        "df_tier2=pd.DataFrame(df.loc[df['sales_country'] =='Mexico']) #for tier 2\n",
        "df_tier3=pd.DataFrame(df.loc[df['sales_country'] =='Canada']) #for tier 3"
      ],
      "metadata": {
        "id": "SKjENuSR1o5A"
      },
      "execution_count": 41,
      "outputs": []
    },
    {
      "cell_type": "code",
      "source": [
        "df_tier1_list=df_tier1.groupby(\"food_department\")[[\"unit_sales(in millions)\"]].mean().sort_values(by=['unit_sales(in millions)'],ascending=[False]).reset_index()\n",
        "df_tier1_list.rename(columns = {'food_department':'Items_Tier_1','unit_sales(in millions)':'Sales_of_USA'}, inplace = True)\n",
        "\n",
        "df_tier2_list=df_tier2.groupby(\"food_department\")[[\"unit_sales(in millions)\"]].mean().sort_values(by=['unit_sales(in millions)'],ascending=[False]).reset_index()\n",
        "df_tier2_list.rename(columns = {'food_department':'Items_Tier2','unit_sales(in millions)':'Sales_of_Mexico'}, inplace = True)\n",
        "\n",
        "df_tier3_list=df_tier3.groupby(\"food_department\")[[\"unit_sales(in millions)\"]].mean().sort_values(by=['unit_sales(in millions)'],ascending=[False]).reset_index()\n",
        "df_tier3_list.rename(columns = {'food_department':'Items_Tier2','unit_sales(in millions)':'Sales_of_Canada'}, inplace = True)"
      ],
      "metadata": {
        "id": "U6i3kjXM1o5B"
      },
      "execution_count": 42,
      "outputs": []
    },
    {
      "cell_type": "code",
      "source": [
        "df_sales=pd.concat([df_tier1_list,df_tier2_list,df_tier3_list],axis=1)\n",
        "df_sales"
      ],
      "metadata": {
        "colab": {
          "base_uri": "https://localhost:8080/",
          "height": 739
        },
        "outputId": "83fa937b-528f-420d-a0a2-d08ff7352b8c",
        "id": "MpWaB4N51o5B"
      },
      "execution_count": 43,
      "outputs": [
        {
          "output_type": "execute_result",
          "data": {
            "text/plain": [
              "           Items_Tier_1  Sales_of_USA          Items_Tier2  Sales_of_Mexico  \\\n",
              "0              Checkout      3.146444      Canned Products         3.233871   \n",
              "1                  Meat      3.138776              Seafood         3.175926   \n",
              "2                Snacks      3.121524               Snacks         3.153017   \n",
              "3         Starchy Foods      3.119215  Alcoholic Beverages         3.147992   \n",
              "4       Breakfast Foods      3.118677            Household         3.134312   \n",
              "5              Carousel      3.113333          Periodicals         3.133094   \n",
              "6   Alcoholic Beverages      3.107738          Snack Foods         3.123131   \n",
              "7    Health and Hygiene      3.095436                 Deli         3.119326   \n",
              "8           Snack Foods      3.094522         Frozen Foods         3.119048   \n",
              "9             Beverages      3.089240            Beverages         3.113033   \n",
              "10                 Deli      3.080978             Checkout         3.110092   \n",
              "11              Produce      3.079336              Produce         3.109903   \n",
              "12         Canned Foods      3.077960          Baked Goods         3.107075   \n",
              "13                Dairy      3.076923         Baking Goods         3.097801   \n",
              "14          Baked Goods      3.075601         Canned Foods         3.096045   \n",
              "15              Seafood      3.074074             Carousel         3.095238   \n",
              "16         Baking Goods      3.072318                Dairy         3.093124   \n",
              "17         Frozen Foods      3.069679        Starchy Foods         3.074434   \n",
              "18                 Eggs      3.061807   Health and Hygiene         3.072049   \n",
              "19            Household      3.056466      Breakfast Foods         3.069124   \n",
              "20      Canned Products      3.044355                 Eggs         3.057034   \n",
              "21          Periodicals      2.996795                 Meat         3.050847   \n",
              "\n",
              "            Items_Tier2  Sales_of_Canada  \n",
              "0                  Eggs         3.275862  \n",
              "1                  Deli         3.204545  \n",
              "2         Starchy Foods         3.197531  \n",
              "3                Snacks         3.184466  \n",
              "4                  Meat         3.181818  \n",
              "5               Produce         3.162455  \n",
              "6             Household         3.161435  \n",
              "7           Baked Goods         3.154545  \n",
              "8           Snack Foods         3.143791  \n",
              "9          Baking Goods         3.135417  \n",
              "10   Health and Hygiene         3.134694  \n",
              "11         Canned Foods         3.125984  \n",
              "12          Periodicals         3.115942  \n",
              "13         Frozen Foods         3.112219  \n",
              "14      Canned Products         3.107143  \n",
              "15      Breakfast Foods         3.106383  \n",
              "16                Dairy         3.100746  \n",
              "17              Seafood         3.083333  \n",
              "18             Checkout         3.081081  \n",
              "19            Beverages         3.048387  \n",
              "20  Alcoholic Beverages         3.010417  \n",
              "21             Carousel         2.916667  "
            ],
            "text/html": [
              "\n",
              "  <div id=\"df-2a96244e-8912-44b8-9fd6-8fc4ef495f0d\">\n",
              "    <div class=\"colab-df-container\">\n",
              "      <div>\n",
              "<style scoped>\n",
              "    .dataframe tbody tr th:only-of-type {\n",
              "        vertical-align: middle;\n",
              "    }\n",
              "\n",
              "    .dataframe tbody tr th {\n",
              "        vertical-align: top;\n",
              "    }\n",
              "\n",
              "    .dataframe thead th {\n",
              "        text-align: right;\n",
              "    }\n",
              "</style>\n",
              "<table border=\"1\" class=\"dataframe\">\n",
              "  <thead>\n",
              "    <tr style=\"text-align: right;\">\n",
              "      <th></th>\n",
              "      <th>Items_Tier_1</th>\n",
              "      <th>Sales_of_USA</th>\n",
              "      <th>Items_Tier2</th>\n",
              "      <th>Sales_of_Mexico</th>\n",
              "      <th>Items_Tier2</th>\n",
              "      <th>Sales_of_Canada</th>\n",
              "    </tr>\n",
              "  </thead>\n",
              "  <tbody>\n",
              "    <tr>\n",
              "      <th>0</th>\n",
              "      <td>Checkout</td>\n",
              "      <td>3.146444</td>\n",
              "      <td>Canned Products</td>\n",
              "      <td>3.233871</td>\n",
              "      <td>Eggs</td>\n",
              "      <td>3.275862</td>\n",
              "    </tr>\n",
              "    <tr>\n",
              "      <th>1</th>\n",
              "      <td>Meat</td>\n",
              "      <td>3.138776</td>\n",
              "      <td>Seafood</td>\n",
              "      <td>3.175926</td>\n",
              "      <td>Deli</td>\n",
              "      <td>3.204545</td>\n",
              "    </tr>\n",
              "    <tr>\n",
              "      <th>2</th>\n",
              "      <td>Snacks</td>\n",
              "      <td>3.121524</td>\n",
              "      <td>Snacks</td>\n",
              "      <td>3.153017</td>\n",
              "      <td>Starchy Foods</td>\n",
              "      <td>3.197531</td>\n",
              "    </tr>\n",
              "    <tr>\n",
              "      <th>3</th>\n",
              "      <td>Starchy Foods</td>\n",
              "      <td>3.119215</td>\n",
              "      <td>Alcoholic Beverages</td>\n",
              "      <td>3.147992</td>\n",
              "      <td>Snacks</td>\n",
              "      <td>3.184466</td>\n",
              "    </tr>\n",
              "    <tr>\n",
              "      <th>4</th>\n",
              "      <td>Breakfast Foods</td>\n",
              "      <td>3.118677</td>\n",
              "      <td>Household</td>\n",
              "      <td>3.134312</td>\n",
              "      <td>Meat</td>\n",
              "      <td>3.181818</td>\n",
              "    </tr>\n",
              "    <tr>\n",
              "      <th>5</th>\n",
              "      <td>Carousel</td>\n",
              "      <td>3.113333</td>\n",
              "      <td>Periodicals</td>\n",
              "      <td>3.133094</td>\n",
              "      <td>Produce</td>\n",
              "      <td>3.162455</td>\n",
              "    </tr>\n",
              "    <tr>\n",
              "      <th>6</th>\n",
              "      <td>Alcoholic Beverages</td>\n",
              "      <td>3.107738</td>\n",
              "      <td>Snack Foods</td>\n",
              "      <td>3.123131</td>\n",
              "      <td>Household</td>\n",
              "      <td>3.161435</td>\n",
              "    </tr>\n",
              "    <tr>\n",
              "      <th>7</th>\n",
              "      <td>Health and Hygiene</td>\n",
              "      <td>3.095436</td>\n",
              "      <td>Deli</td>\n",
              "      <td>3.119326</td>\n",
              "      <td>Baked Goods</td>\n",
              "      <td>3.154545</td>\n",
              "    </tr>\n",
              "    <tr>\n",
              "      <th>8</th>\n",
              "      <td>Snack Foods</td>\n",
              "      <td>3.094522</td>\n",
              "      <td>Frozen Foods</td>\n",
              "      <td>3.119048</td>\n",
              "      <td>Snack Foods</td>\n",
              "      <td>3.143791</td>\n",
              "    </tr>\n",
              "    <tr>\n",
              "      <th>9</th>\n",
              "      <td>Beverages</td>\n",
              "      <td>3.089240</td>\n",
              "      <td>Beverages</td>\n",
              "      <td>3.113033</td>\n",
              "      <td>Baking Goods</td>\n",
              "      <td>3.135417</td>\n",
              "    </tr>\n",
              "    <tr>\n",
              "      <th>10</th>\n",
              "      <td>Deli</td>\n",
              "      <td>3.080978</td>\n",
              "      <td>Checkout</td>\n",
              "      <td>3.110092</td>\n",
              "      <td>Health and Hygiene</td>\n",
              "      <td>3.134694</td>\n",
              "    </tr>\n",
              "    <tr>\n",
              "      <th>11</th>\n",
              "      <td>Produce</td>\n",
              "      <td>3.079336</td>\n",
              "      <td>Produce</td>\n",
              "      <td>3.109903</td>\n",
              "      <td>Canned Foods</td>\n",
              "      <td>3.125984</td>\n",
              "    </tr>\n",
              "    <tr>\n",
              "      <th>12</th>\n",
              "      <td>Canned Foods</td>\n",
              "      <td>3.077960</td>\n",
              "      <td>Baked Goods</td>\n",
              "      <td>3.107075</td>\n",
              "      <td>Periodicals</td>\n",
              "      <td>3.115942</td>\n",
              "    </tr>\n",
              "    <tr>\n",
              "      <th>13</th>\n",
              "      <td>Dairy</td>\n",
              "      <td>3.076923</td>\n",
              "      <td>Baking Goods</td>\n",
              "      <td>3.097801</td>\n",
              "      <td>Frozen Foods</td>\n",
              "      <td>3.112219</td>\n",
              "    </tr>\n",
              "    <tr>\n",
              "      <th>14</th>\n",
              "      <td>Baked Goods</td>\n",
              "      <td>3.075601</td>\n",
              "      <td>Canned Foods</td>\n",
              "      <td>3.096045</td>\n",
              "      <td>Canned Products</td>\n",
              "      <td>3.107143</td>\n",
              "    </tr>\n",
              "    <tr>\n",
              "      <th>15</th>\n",
              "      <td>Seafood</td>\n",
              "      <td>3.074074</td>\n",
              "      <td>Carousel</td>\n",
              "      <td>3.095238</td>\n",
              "      <td>Breakfast Foods</td>\n",
              "      <td>3.106383</td>\n",
              "    </tr>\n",
              "    <tr>\n",
              "      <th>16</th>\n",
              "      <td>Baking Goods</td>\n",
              "      <td>3.072318</td>\n",
              "      <td>Dairy</td>\n",
              "      <td>3.093124</td>\n",
              "      <td>Dairy</td>\n",
              "      <td>3.100746</td>\n",
              "    </tr>\n",
              "    <tr>\n",
              "      <th>17</th>\n",
              "      <td>Frozen Foods</td>\n",
              "      <td>3.069679</td>\n",
              "      <td>Starchy Foods</td>\n",
              "      <td>3.074434</td>\n",
              "      <td>Seafood</td>\n",
              "      <td>3.083333</td>\n",
              "    </tr>\n",
              "    <tr>\n",
              "      <th>18</th>\n",
              "      <td>Eggs</td>\n",
              "      <td>3.061807</td>\n",
              "      <td>Health and Hygiene</td>\n",
              "      <td>3.072049</td>\n",
              "      <td>Checkout</td>\n",
              "      <td>3.081081</td>\n",
              "    </tr>\n",
              "    <tr>\n",
              "      <th>19</th>\n",
              "      <td>Household</td>\n",
              "      <td>3.056466</td>\n",
              "      <td>Breakfast Foods</td>\n",
              "      <td>3.069124</td>\n",
              "      <td>Beverages</td>\n",
              "      <td>3.048387</td>\n",
              "    </tr>\n",
              "    <tr>\n",
              "      <th>20</th>\n",
              "      <td>Canned Products</td>\n",
              "      <td>3.044355</td>\n",
              "      <td>Eggs</td>\n",
              "      <td>3.057034</td>\n",
              "      <td>Alcoholic Beverages</td>\n",
              "      <td>3.010417</td>\n",
              "    </tr>\n",
              "    <tr>\n",
              "      <th>21</th>\n",
              "      <td>Periodicals</td>\n",
              "      <td>2.996795</td>\n",
              "      <td>Meat</td>\n",
              "      <td>3.050847</td>\n",
              "      <td>Carousel</td>\n",
              "      <td>2.916667</td>\n",
              "    </tr>\n",
              "  </tbody>\n",
              "</table>\n",
              "</div>\n",
              "      <button class=\"colab-df-convert\" onclick=\"convertToInteractive('df-2a96244e-8912-44b8-9fd6-8fc4ef495f0d')\"\n",
              "              title=\"Convert this dataframe to an interactive table.\"\n",
              "              style=\"display:none;\">\n",
              "        \n",
              "  <svg xmlns=\"http://www.w3.org/2000/svg\" height=\"24px\"viewBox=\"0 0 24 24\"\n",
              "       width=\"24px\">\n",
              "    <path d=\"M0 0h24v24H0V0z\" fill=\"none\"/>\n",
              "    <path d=\"M18.56 5.44l.94 2.06.94-2.06 2.06-.94-2.06-.94-.94-2.06-.94 2.06-2.06.94zm-11 1L8.5 8.5l.94-2.06 2.06-.94-2.06-.94L8.5 2.5l-.94 2.06-2.06.94zm10 10l.94 2.06.94-2.06 2.06-.94-2.06-.94-.94-2.06-.94 2.06-2.06.94z\"/><path d=\"M17.41 7.96l-1.37-1.37c-.4-.4-.92-.59-1.43-.59-.52 0-1.04.2-1.43.59L10.3 9.45l-7.72 7.72c-.78.78-.78 2.05 0 2.83L4 21.41c.39.39.9.59 1.41.59.51 0 1.02-.2 1.41-.59l7.78-7.78 2.81-2.81c.8-.78.8-2.07 0-2.86zM5.41 20L4 18.59l7.72-7.72 1.47 1.35L5.41 20z\"/>\n",
              "  </svg>\n",
              "      </button>\n",
              "      \n",
              "  <style>\n",
              "    .colab-df-container {\n",
              "      display:flex;\n",
              "      flex-wrap:wrap;\n",
              "      gap: 12px;\n",
              "    }\n",
              "\n",
              "    .colab-df-convert {\n",
              "      background-color: #E8F0FE;\n",
              "      border: none;\n",
              "      border-radius: 50%;\n",
              "      cursor: pointer;\n",
              "      display: none;\n",
              "      fill: #1967D2;\n",
              "      height: 32px;\n",
              "      padding: 0 0 0 0;\n",
              "      width: 32px;\n",
              "    }\n",
              "\n",
              "    .colab-df-convert:hover {\n",
              "      background-color: #E2EBFA;\n",
              "      box-shadow: 0px 1px 2px rgba(60, 64, 67, 0.3), 0px 1px 3px 1px rgba(60, 64, 67, 0.15);\n",
              "      fill: #174EA6;\n",
              "    }\n",
              "\n",
              "    [theme=dark] .colab-df-convert {\n",
              "      background-color: #3B4455;\n",
              "      fill: #D2E3FC;\n",
              "    }\n",
              "\n",
              "    [theme=dark] .colab-df-convert:hover {\n",
              "      background-color: #434B5C;\n",
              "      box-shadow: 0px 1px 3px 1px rgba(0, 0, 0, 0.15);\n",
              "      filter: drop-shadow(0px 1px 2px rgba(0, 0, 0, 0.3));\n",
              "      fill: #FFFFFF;\n",
              "    }\n",
              "  </style>\n",
              "\n",
              "      <script>\n",
              "        const buttonEl =\n",
              "          document.querySelector('#df-2a96244e-8912-44b8-9fd6-8fc4ef495f0d button.colab-df-convert');\n",
              "        buttonEl.style.display =\n",
              "          google.colab.kernel.accessAllowed ? 'block' : 'none';\n",
              "\n",
              "        async function convertToInteractive(key) {\n",
              "          const element = document.querySelector('#df-2a96244e-8912-44b8-9fd6-8fc4ef495f0d');\n",
              "          const dataTable =\n",
              "            await google.colab.kernel.invokeFunction('convertToInteractive',\n",
              "                                                     [key], {});\n",
              "          if (!dataTable) return;\n",
              "\n",
              "          const docLinkHtml = 'Like what you see? Visit the ' +\n",
              "            '<a target=\"_blank\" href=https://colab.research.google.com/notebooks/data_table.ipynb>data table notebook</a>'\n",
              "            + ' to learn more about interactive tables.';\n",
              "          element.innerHTML = '';\n",
              "          dataTable['output_type'] = 'display_data';\n",
              "          await google.colab.output.renderOutput(dataTable, element);\n",
              "          const docLink = document.createElement('div');\n",
              "          docLink.innerHTML = docLinkHtml;\n",
              "          element.appendChild(docLink);\n",
              "        }\n",
              "      </script>\n",
              "    </div>\n",
              "  </div>\n",
              "  "
            ]
          },
          "metadata": {},
          "execution_count": 43
        }
      ]
    },
    {
      "cell_type": "code",
      "source": [
        "import plotly.graph_objects as go   #importing the library\n",
        "x=df_sales['Items_Tier_1']\n",
        "y1=df_sales['Sales_of_USA']\n",
        "y2=df_sales['Sales_of_Mexico']\n",
        "y3=df_sales['Sales_of_Canada']\n",
        "\n",
        "# Create traces\n",
        "\n",
        "fig = go.Figure()\n",
        "fig.add_trace(go.Scatter(x=x, y=y1,\n",
        "                    mode='lines+markers',line_color='rgb(0,100,80)',\n",
        "                    name='Sales_of_USA'))\n",
        "fig.add_trace(go.Scatter(x=x, y=y2,\n",
        "                    mode='lines+markers',\n",
        "                    name='Sales_of_Mexico'))\n",
        "fig.add_trace(go.Scatter(x=x, y=y3,\n",
        "                    mode='lines+markers',\n",
        "                    name='Sales_of_Canada'))\n",
        "fig.show()"
      ],
      "metadata": {
        "colab": {
          "base_uri": "https://localhost:8080/",
          "height": 542
        },
        "outputId": "e58d06d8-5e00-41a5-b2e9-27228c79acac",
        "id": "mETL9w4T1o5B"
      },
      "execution_count": 47,
      "outputs": [
        {
          "output_type": "display_data",
          "data": {
            "text/html": [
              "<html>\n",
              "<head><meta charset=\"utf-8\" /></head>\n",
              "<body>\n",
              "    <div>            <script src=\"https://cdnjs.cloudflare.com/ajax/libs/mathjax/2.7.5/MathJax.js?config=TeX-AMS-MML_SVG\"></script><script type=\"text/javascript\">if (window.MathJax) {MathJax.Hub.Config({SVG: {font: \"STIX-Web\"}});}</script>                <script type=\"text/javascript\">window.PlotlyConfig = {MathJaxConfig: 'local'};</script>\n",
              "        <script src=\"https://cdn.plot.ly/plotly-2.8.3.min.js\"></script>                <div id=\"237a06df-e87b-4c60-8385-89c54162c3f9\" class=\"plotly-graph-div\" style=\"height:525px; width:100%;\"></div>            <script type=\"text/javascript\">                                    window.PLOTLYENV=window.PLOTLYENV || {};                                    if (document.getElementById(\"237a06df-e87b-4c60-8385-89c54162c3f9\")) {                    Plotly.newPlot(                        \"237a06df-e87b-4c60-8385-89c54162c3f9\",                        [{\"line\":{\"color\":\"rgb(0,100,80)\"},\"mode\":\"lines+markers\",\"name\":\"Sales_of_USA\",\"x\":[\"Checkout\",\"Meat\",\"Snacks\",\"Starchy Foods\",\"Breakfast Foods\",\"Carousel\",\"Alcoholic Beverages\",\"Health and Hygiene\",\"Snack Foods\",\"Beverages\",\"Deli\",\"Produce\",\"Canned Foods\",\"Dairy\",\"Baked Goods\",\"Seafood\",\"Baking Goods\",\"Frozen Foods\",\"Eggs\",\"Household\",\"Canned Products\",\"Periodicals\"],\"y\":[3.1464435146443517,3.1387755102040815,3.121524201853759,3.1192145862552594,3.1186770428015564,3.1133333333333333,3.107737512242899,3.095435684647303,3.0945217781769196,3.0892401835798062,3.080978260869565,3.079336129855918,3.077959927140255,3.076923076923077,3.075601374570447,3.074074074074074,3.072318339100346,3.069679373895481,3.0618066561014263,3.0564658432064533,3.0443548387096775,2.996794871794872],\"type\":\"scatter\"},{\"mode\":\"lines+markers\",\"name\":\"Sales_of_Mexico\",\"x\":[\"Checkout\",\"Meat\",\"Snacks\",\"Starchy Foods\",\"Breakfast Foods\",\"Carousel\",\"Alcoholic Beverages\",\"Health and Hygiene\",\"Snack Foods\",\"Beverages\",\"Deli\",\"Produce\",\"Canned Foods\",\"Dairy\",\"Baked Goods\",\"Seafood\",\"Baking Goods\",\"Frozen Foods\",\"Eggs\",\"Household\",\"Canned Products\",\"Periodicals\"],\"y\":[3.2338709677419355,3.175925925925926,3.1530172413793105,3.1479915433403804,3.13431151241535,3.133093525179856,3.1231306081754737,3.119325551232166,3.119047619047619,3.113033448673587,3.110091743119266,3.109903381642512,3.107074569789675,3.0978013646702047,3.096045197740113,3.0952380952380953,3.093124456048738,3.074433656957929,3.072048611111111,3.0691244239631335,3.0570342205323193,3.0508474576271185],\"type\":\"scatter\"},{\"mode\":\"lines+markers\",\"name\":\"Sales_of_Canada\",\"x\":[\"Checkout\",\"Meat\",\"Snacks\",\"Starchy Foods\",\"Breakfast Foods\",\"Carousel\",\"Alcoholic Beverages\",\"Health and Hygiene\",\"Snack Foods\",\"Beverages\",\"Deli\",\"Produce\",\"Canned Foods\",\"Dairy\",\"Baked Goods\",\"Seafood\",\"Baking Goods\",\"Frozen Foods\",\"Eggs\",\"Household\",\"Canned Products\",\"Periodicals\"],\"y\":[3.2758620689655173,3.2045454545454546,3.197530864197531,3.1844660194174756,3.1818181818181817,3.1624548736462095,3.1614349775784754,3.1545454545454548,3.1437908496732025,3.1354166666666665,3.1346938775510202,3.125984251968504,3.1159420289855073,3.112219451371571,3.107142857142857,3.106382978723404,3.1007462686567164,3.0833333333333335,3.081081081081081,3.0483870967741935,3.0104166666666665,2.9166666666666665],\"type\":\"scatter\"}],                        {\"template\":{\"data\":{\"bar\":[{\"error_x\":{\"color\":\"#2a3f5f\"},\"error_y\":{\"color\":\"#2a3f5f\"},\"marker\":{\"line\":{\"color\":\"#E5ECF6\",\"width\":0.5},\"pattern\":{\"fillmode\":\"overlay\",\"size\":10,\"solidity\":0.2}},\"type\":\"bar\"}],\"barpolar\":[{\"marker\":{\"line\":{\"color\":\"#E5ECF6\",\"width\":0.5},\"pattern\":{\"fillmode\":\"overlay\",\"size\":10,\"solidity\":0.2}},\"type\":\"barpolar\"}],\"carpet\":[{\"aaxis\":{\"endlinecolor\":\"#2a3f5f\",\"gridcolor\":\"white\",\"linecolor\":\"white\",\"minorgridcolor\":\"white\",\"startlinecolor\":\"#2a3f5f\"},\"baxis\":{\"endlinecolor\":\"#2a3f5f\",\"gridcolor\":\"white\",\"linecolor\":\"white\",\"minorgridcolor\":\"white\",\"startlinecolor\":\"#2a3f5f\"},\"type\":\"carpet\"}],\"choropleth\":[{\"colorbar\":{\"outlinewidth\":0,\"ticks\":\"\"},\"type\":\"choropleth\"}],\"contour\":[{\"colorbar\":{\"outlinewidth\":0,\"ticks\":\"\"},\"colorscale\":[[0.0,\"#0d0887\"],[0.1111111111111111,\"#46039f\"],[0.2222222222222222,\"#7201a8\"],[0.3333333333333333,\"#9c179e\"],[0.4444444444444444,\"#bd3786\"],[0.5555555555555556,\"#d8576b\"],[0.6666666666666666,\"#ed7953\"],[0.7777777777777778,\"#fb9f3a\"],[0.8888888888888888,\"#fdca26\"],[1.0,\"#f0f921\"]],\"type\":\"contour\"}],\"contourcarpet\":[{\"colorbar\":{\"outlinewidth\":0,\"ticks\":\"\"},\"type\":\"contourcarpet\"}],\"heatmap\":[{\"colorbar\":{\"outlinewidth\":0,\"ticks\":\"\"},\"colorscale\":[[0.0,\"#0d0887\"],[0.1111111111111111,\"#46039f\"],[0.2222222222222222,\"#7201a8\"],[0.3333333333333333,\"#9c179e\"],[0.4444444444444444,\"#bd3786\"],[0.5555555555555556,\"#d8576b\"],[0.6666666666666666,\"#ed7953\"],[0.7777777777777778,\"#fb9f3a\"],[0.8888888888888888,\"#fdca26\"],[1.0,\"#f0f921\"]],\"type\":\"heatmap\"}],\"heatmapgl\":[{\"colorbar\":{\"outlinewidth\":0,\"ticks\":\"\"},\"colorscale\":[[0.0,\"#0d0887\"],[0.1111111111111111,\"#46039f\"],[0.2222222222222222,\"#7201a8\"],[0.3333333333333333,\"#9c179e\"],[0.4444444444444444,\"#bd3786\"],[0.5555555555555556,\"#d8576b\"],[0.6666666666666666,\"#ed7953\"],[0.7777777777777778,\"#fb9f3a\"],[0.8888888888888888,\"#fdca26\"],[1.0,\"#f0f921\"]],\"type\":\"heatmapgl\"}],\"histogram\":[{\"marker\":{\"pattern\":{\"fillmode\":\"overlay\",\"size\":10,\"solidity\":0.2}},\"type\":\"histogram\"}],\"histogram2d\":[{\"colorbar\":{\"outlinewidth\":0,\"ticks\":\"\"},\"colorscale\":[[0.0,\"#0d0887\"],[0.1111111111111111,\"#46039f\"],[0.2222222222222222,\"#7201a8\"],[0.3333333333333333,\"#9c179e\"],[0.4444444444444444,\"#bd3786\"],[0.5555555555555556,\"#d8576b\"],[0.6666666666666666,\"#ed7953\"],[0.7777777777777778,\"#fb9f3a\"],[0.8888888888888888,\"#fdca26\"],[1.0,\"#f0f921\"]],\"type\":\"histogram2d\"}],\"histogram2dcontour\":[{\"colorbar\":{\"outlinewidth\":0,\"ticks\":\"\"},\"colorscale\":[[0.0,\"#0d0887\"],[0.1111111111111111,\"#46039f\"],[0.2222222222222222,\"#7201a8\"],[0.3333333333333333,\"#9c179e\"],[0.4444444444444444,\"#bd3786\"],[0.5555555555555556,\"#d8576b\"],[0.6666666666666666,\"#ed7953\"],[0.7777777777777778,\"#fb9f3a\"],[0.8888888888888888,\"#fdca26\"],[1.0,\"#f0f921\"]],\"type\":\"histogram2dcontour\"}],\"mesh3d\":[{\"colorbar\":{\"outlinewidth\":0,\"ticks\":\"\"},\"type\":\"mesh3d\"}],\"parcoords\":[{\"line\":{\"colorbar\":{\"outlinewidth\":0,\"ticks\":\"\"}},\"type\":\"parcoords\"}],\"pie\":[{\"automargin\":true,\"type\":\"pie\"}],\"scatter\":[{\"marker\":{\"colorbar\":{\"outlinewidth\":0,\"ticks\":\"\"}},\"type\":\"scatter\"}],\"scatter3d\":[{\"line\":{\"colorbar\":{\"outlinewidth\":0,\"ticks\":\"\"}},\"marker\":{\"colorbar\":{\"outlinewidth\":0,\"ticks\":\"\"}},\"type\":\"scatter3d\"}],\"scattercarpet\":[{\"marker\":{\"colorbar\":{\"outlinewidth\":0,\"ticks\":\"\"}},\"type\":\"scattercarpet\"}],\"scattergeo\":[{\"marker\":{\"colorbar\":{\"outlinewidth\":0,\"ticks\":\"\"}},\"type\":\"scattergeo\"}],\"scattergl\":[{\"marker\":{\"colorbar\":{\"outlinewidth\":0,\"ticks\":\"\"}},\"type\":\"scattergl\"}],\"scattermapbox\":[{\"marker\":{\"colorbar\":{\"outlinewidth\":0,\"ticks\":\"\"}},\"type\":\"scattermapbox\"}],\"scatterpolar\":[{\"marker\":{\"colorbar\":{\"outlinewidth\":0,\"ticks\":\"\"}},\"type\":\"scatterpolar\"}],\"scatterpolargl\":[{\"marker\":{\"colorbar\":{\"outlinewidth\":0,\"ticks\":\"\"}},\"type\":\"scatterpolargl\"}],\"scatterternary\":[{\"marker\":{\"colorbar\":{\"outlinewidth\":0,\"ticks\":\"\"}},\"type\":\"scatterternary\"}],\"surface\":[{\"colorbar\":{\"outlinewidth\":0,\"ticks\":\"\"},\"colorscale\":[[0.0,\"#0d0887\"],[0.1111111111111111,\"#46039f\"],[0.2222222222222222,\"#7201a8\"],[0.3333333333333333,\"#9c179e\"],[0.4444444444444444,\"#bd3786\"],[0.5555555555555556,\"#d8576b\"],[0.6666666666666666,\"#ed7953\"],[0.7777777777777778,\"#fb9f3a\"],[0.8888888888888888,\"#fdca26\"],[1.0,\"#f0f921\"]],\"type\":\"surface\"}],\"table\":[{\"cells\":{\"fill\":{\"color\":\"#EBF0F8\"},\"line\":{\"color\":\"white\"}},\"header\":{\"fill\":{\"color\":\"#C8D4E3\"},\"line\":{\"color\":\"white\"}},\"type\":\"table\"}]},\"layout\":{\"annotationdefaults\":{\"arrowcolor\":\"#2a3f5f\",\"arrowhead\":0,\"arrowwidth\":1},\"autotypenumbers\":\"strict\",\"coloraxis\":{\"colorbar\":{\"outlinewidth\":0,\"ticks\":\"\"}},\"colorscale\":{\"diverging\":[[0,\"#8e0152\"],[0.1,\"#c51b7d\"],[0.2,\"#de77ae\"],[0.3,\"#f1b6da\"],[0.4,\"#fde0ef\"],[0.5,\"#f7f7f7\"],[0.6,\"#e6f5d0\"],[0.7,\"#b8e186\"],[0.8,\"#7fbc41\"],[0.9,\"#4d9221\"],[1,\"#276419\"]],\"sequential\":[[0.0,\"#0d0887\"],[0.1111111111111111,\"#46039f\"],[0.2222222222222222,\"#7201a8\"],[0.3333333333333333,\"#9c179e\"],[0.4444444444444444,\"#bd3786\"],[0.5555555555555556,\"#d8576b\"],[0.6666666666666666,\"#ed7953\"],[0.7777777777777778,\"#fb9f3a\"],[0.8888888888888888,\"#fdca26\"],[1.0,\"#f0f921\"]],\"sequentialminus\":[[0.0,\"#0d0887\"],[0.1111111111111111,\"#46039f\"],[0.2222222222222222,\"#7201a8\"],[0.3333333333333333,\"#9c179e\"],[0.4444444444444444,\"#bd3786\"],[0.5555555555555556,\"#d8576b\"],[0.6666666666666666,\"#ed7953\"],[0.7777777777777778,\"#fb9f3a\"],[0.8888888888888888,\"#fdca26\"],[1.0,\"#f0f921\"]]},\"colorway\":[\"#636efa\",\"#EF553B\",\"#00cc96\",\"#ab63fa\",\"#FFA15A\",\"#19d3f3\",\"#FF6692\",\"#B6E880\",\"#FF97FF\",\"#FECB52\"],\"font\":{\"color\":\"#2a3f5f\"},\"geo\":{\"bgcolor\":\"white\",\"lakecolor\":\"white\",\"landcolor\":\"#E5ECF6\",\"showlakes\":true,\"showland\":true,\"subunitcolor\":\"white\"},\"hoverlabel\":{\"align\":\"left\"},\"hovermode\":\"closest\",\"mapbox\":{\"style\":\"light\"},\"paper_bgcolor\":\"white\",\"plot_bgcolor\":\"#E5ECF6\",\"polar\":{\"angularaxis\":{\"gridcolor\":\"white\",\"linecolor\":\"white\",\"ticks\":\"\"},\"bgcolor\":\"#E5ECF6\",\"radialaxis\":{\"gridcolor\":\"white\",\"linecolor\":\"white\",\"ticks\":\"\"}},\"scene\":{\"xaxis\":{\"backgroundcolor\":\"#E5ECF6\",\"gridcolor\":\"white\",\"gridwidth\":2,\"linecolor\":\"white\",\"showbackground\":true,\"ticks\":\"\",\"zerolinecolor\":\"white\"},\"yaxis\":{\"backgroundcolor\":\"#E5ECF6\",\"gridcolor\":\"white\",\"gridwidth\":2,\"linecolor\":\"white\",\"showbackground\":true,\"ticks\":\"\",\"zerolinecolor\":\"white\"},\"zaxis\":{\"backgroundcolor\":\"#E5ECF6\",\"gridcolor\":\"white\",\"gridwidth\":2,\"linecolor\":\"white\",\"showbackground\":true,\"ticks\":\"\",\"zerolinecolor\":\"white\"}},\"shapedefaults\":{\"line\":{\"color\":\"#2a3f5f\"}},\"ternary\":{\"aaxis\":{\"gridcolor\":\"white\",\"linecolor\":\"white\",\"ticks\":\"\"},\"baxis\":{\"gridcolor\":\"white\",\"linecolor\":\"white\",\"ticks\":\"\"},\"bgcolor\":\"#E5ECF6\",\"caxis\":{\"gridcolor\":\"white\",\"linecolor\":\"white\",\"ticks\":\"\"}},\"title\":{\"x\":0.05},\"xaxis\":{\"automargin\":true,\"gridcolor\":\"white\",\"linecolor\":\"white\",\"ticks\":\"\",\"title\":{\"standoff\":15},\"zerolinecolor\":\"white\",\"zerolinewidth\":2},\"yaxis\":{\"automargin\":true,\"gridcolor\":\"white\",\"linecolor\":\"white\",\"ticks\":\"\",\"title\":{\"standoff\":15},\"zerolinecolor\":\"white\",\"zerolinewidth\":2}}}},                        {\"responsive\": true}                    ).then(function(){\n",
              "                            \n",
              "var gd = document.getElementById('237a06df-e87b-4c60-8385-89c54162c3f9');\n",
              "var x = new MutationObserver(function (mutations, observer) {{\n",
              "        var display = window.getComputedStyle(gd).display;\n",
              "        if (!display || display === 'none') {{\n",
              "            console.log([gd, 'removed!']);\n",
              "            Plotly.purge(gd);\n",
              "            observer.disconnect();\n",
              "        }}\n",
              "}});\n",
              "\n",
              "// Listen for the removal of the full notebook cells\n",
              "var notebookContainer = gd.closest('#notebook-container');\n",
              "if (notebookContainer) {{\n",
              "    x.observe(notebookContainer, {childList: true});\n",
              "}}\n",
              "\n",
              "// Listen for the clearing of the current output cell\n",
              "var outputEl = gd.closest('.output');\n",
              "if (outputEl) {{\n",
              "    x.observe(outputEl, {childList: true});\n",
              "}}\n",
              "\n",
              "                        })                };                            </script>        </div>\n",
              "</body>\n",
              "</html>"
            ]
          },
          "metadata": {}
        }
      ]
    },
    {
      "cell_type": "markdown",
      "source": [
        "Beberapa departemen makanan memiliki kesamaan penjualan di setiap negara, namun untuk beberapa departemen tertentu memiliki penjualan yang berbeda di setiap negara. Ini bisa disebabkan oleh karakter atau kebiasaan mengkonsumsi makanan di setiap negara berbeda-beda. \n"
      ],
      "metadata": {
        "id": "heGvmNA11o5C"
      }
    },
    {
      "cell_type": "markdown",
      "source": [
        "Untuk penjualan makanan tertinggi berada di USA selanjutnya Mexico dan Canada, hal ini dipengaruhi oleh jumlah toko dan penduduk di setiap negara. Akan tetapi beberapa departemen makanan memiliki kecenderungan kesamaan penjualan di setiap negara, hal ini berarti foodmart belum bisa memanfaatkan segmentasi di setiap negara. Dengan perbedaan jumlah penjualan di setiap negara harusnya bisa dimanfaatkan untuk mendapatkan keuntungan yang maksimal.\n"
      ],
      "metadata": {
        "id": "C00iyihpCh5l"
      }
    },
    {
      "cell_type": "markdown",
      "source": [
        "#### penjualan berdasarkan produk (food_family)"
      ],
      "metadata": {
        "id": "nzIVF3mc3Z4u"
      }
    },
    {
      "cell_type": "code",
      "source": [
        "df_category_quantity = df.groupby('food_family')['unit_sales(in millions)'].sum().reset_index().sort_values('unit_sales(in millions)')\n",
        "plt.figure(figsize=(16,6))\n",
        "plt.barh(df_category_quantity['food_family'], df_category_quantity['unit_sales(in millions)'])\n",
        "\n",
        "plt.xticks(rotation='vertical', size=8)\n",
        "plt.xlabel('Quantity')\n",
        "plt.ylabel('food_family')\n",
        "plt.title('food_family dengan Penjualan Tertinggi')\n",
        "for index, value in enumerate(df_category_quantity['unit_sales(in millions)']):\n",
        "    plt.text(value, index,\n",
        "             str(value))\n",
        "\n",
        "plt.show()"
      ],
      "metadata": {
        "colab": {
          "base_uri": "https://localhost:8080/",
          "height": 424
        },
        "id": "h4DrlvNH3ZZg",
        "outputId": "f82fc379-3600-4998-ff78-b058d7c96e9f"
      },
      "execution_count": 50,
      "outputs": [
        {
          "output_type": "display_data",
          "data": {
            "text/plain": [
              "<Figure size 1152x432 with 1 Axes>"
            ],
            "image/png": "[encoded data removed]"
          },
          "metadata": {
            "needs_background": "light"
          }
        }
      ]
    },
    {
      "cell_type": "code",
      "source": [
        "df_category_quantity"
      ],
      "metadata": {
        "colab": {
          "base_uri": "https://localhost:8080/",
          "height": 143
        },
        "id": "oCLeMkb533NT",
        "outputId": "b40cae0a-9c41-407e-d2b7-43b678882031"
      },
      "execution_count": 53,
      "outputs": [
        {
          "output_type": "execute_result",
          "data": {
            "text/plain": [
              "      food_family  unit_sales(in millions)\n",
              "0           Drink                  17299.0\n",
              "2  Non-Consumable                  35714.0\n",
              "1            Food                 133901.0"
            ],
            "text/html": [
              "\n",
              "  <div id=\"df-58a93c4c-7b2c-407b-9cb8-045aaae00a57\">\n",
              "    <div class=\"colab-df-container\">\n",
              "      <div>\n",
              "<style scoped>\n",
              "    .dataframe tbody tr th:only-of-type {\n",
              "        vertical-align: middle;\n",
              "    }\n",
              "\n",
              "    .dataframe tbody tr th {\n",
              "        vertical-align: top;\n",
              "    }\n",
              "\n",
              "    .dataframe thead th {\n",
              "        text-align: right;\n",
              "    }\n",
              "</style>\n",
              "<table border=\"1\" class=\"dataframe\">\n",
              "  <thead>\n",
              "    <tr style=\"text-align: right;\">\n",
              "      <th></th>\n",
              "      <th>food_family</th>\n",
              "      <th>unit_sales(in millions)</th>\n",
              "    </tr>\n",
              "  </thead>\n",
              "  <tbody>\n",
              "    <tr>\n",
              "      <th>0</th>\n",
              "      <td>Drink</td>\n",
              "      <td>17299.0</td>\n",
              "    </tr>\n",
              "    <tr>\n",
              "      <th>2</th>\n",
              "      <td>Non-Consumable</td>\n",
              "      <td>35714.0</td>\n",
              "    </tr>\n",
              "    <tr>\n",
              "      <th>1</th>\n",
              "      <td>Food</td>\n",
              "      <td>133901.0</td>\n",
              "    </tr>\n",
              "  </tbody>\n",
              "</table>\n",
              "</div>\n",
              "      <button class=\"colab-df-convert\" onclick=\"convertToInteractive('df-58a93c4c-7b2c-407b-9cb8-045aaae00a57')\"\n",
              "              title=\"Convert this dataframe to an interactive table.\"\n",
              "              style=\"display:none;\">\n",
              "        \n",
              "  <svg xmlns=\"http://www.w3.org/2000/svg\" height=\"24px\"viewBox=\"0 0 24 24\"\n",
              "       width=\"24px\">\n",
              "    <path d=\"M0 0h24v24H0V0z\" fill=\"none\"/>\n",
              "    <path d=\"M18.56 5.44l.94 2.06.94-2.06 2.06-.94-2.06-.94-.94-2.06-.94 2.06-2.06.94zm-11 1L8.5 8.5l.94-2.06 2.06-.94-2.06-.94L8.5 2.5l-.94 2.06-2.06.94zm10 10l.94 2.06.94-2.06 2.06-.94-2.06-.94-.94-2.06-.94 2.06-2.06.94z\"/><path d=\"M17.41 7.96l-1.37-1.37c-.4-.4-.92-.59-1.43-.59-.52 0-1.04.2-1.43.59L10.3 9.45l-7.72 7.72c-.78.78-.78 2.05 0 2.83L4 21.41c.39.39.9.59 1.41.59.51 0 1.02-.2 1.41-.59l7.78-7.78 2.81-2.81c.8-.78.8-2.07 0-2.86zM5.41 20L4 18.59l7.72-7.72 1.47 1.35L5.41 20z\"/>\n",
              "  </svg>\n",
              "      </button>\n",
              "      \n",
              "  <style>\n",
              "    .colab-df-container {\n",
              "      display:flex;\n",
              "      flex-wrap:wrap;\n",
              "      gap: 12px;\n",
              "    }\n",
              "\n",
              "    .colab-df-convert {\n",
              "      background-color: #E8F0FE;\n",
              "      border: none;\n",
              "      border-radius: 50%;\n",
              "      cursor: pointer;\n",
              "      display: none;\n",
              "      fill: #1967D2;\n",
              "      height: 32px;\n",
              "      padding: 0 0 0 0;\n",
              "      width: 32px;\n",
              "    }\n",
              "\n",
              "    .colab-df-convert:hover {\n",
              "      background-color: #E2EBFA;\n",
              "      box-shadow: 0px 1px 2px rgba(60, 64, 67, 0.3), 0px 1px 3px 1px rgba(60, 64, 67, 0.15);\n",
              "      fill: #174EA6;\n",
              "    }\n",
              "\n",
              "    [theme=dark] .colab-df-convert {\n",
              "      background-color: #3B4455;\n",
              "      fill: #D2E3FC;\n",
              "    }\n",
              "\n",
              "    [theme=dark] .colab-df-convert:hover {\n",
              "      background-color: #434B5C;\n",
              "      box-shadow: 0px 1px 3px 1px rgba(0, 0, 0, 0.15);\n",
              "      filter: drop-shadow(0px 1px 2px rgba(0, 0, 0, 0.3));\n",
              "      fill: #FFFFFF;\n",
              "    }\n",
              "  </style>\n",
              "\n",
              "      <script>\n",
              "        const buttonEl =\n",
              "          document.querySelector('#df-58a93c4c-7b2c-407b-9cb8-045aaae00a57 button.colab-df-convert');\n",
              "        buttonEl.style.display =\n",
              "          google.colab.kernel.accessAllowed ? 'block' : 'none';\n",
              "\n",
              "        async function convertToInteractive(key) {\n",
              "          const element = document.querySelector('#df-58a93c4c-7b2c-407b-9cb8-045aaae00a57');\n",
              "          const dataTable =\n",
              "            await google.colab.kernel.invokeFunction('convertToInteractive',\n",
              "                                                     [key], {});\n",
              "          if (!dataTable) return;\n",
              "\n",
              "          const docLinkHtml = 'Like what you see? Visit the ' +\n",
              "            '<a target=\"_blank\" href=https://colab.research.google.com/notebooks/data_table.ipynb>data table notebook</a>'\n",
              "            + ' to learn more about interactive tables.';\n",
              "          element.innerHTML = '';\n",
              "          dataTable['output_type'] = 'display_data';\n",
              "          await google.colab.output.renderOutput(dataTable, element);\n",
              "          const docLink = document.createElement('div');\n",
              "          docLink.innerHTML = docLinkHtml;\n",
              "          element.appendChild(docLink);\n",
              "        }\n",
              "      </script>\n",
              "    </div>\n",
              "  </div>\n",
              "  "
            ]
          },
          "metadata": {},
          "execution_count": 53
        }
      ]
    },
    {
      "cell_type": "code",
      "source": [
        "df_category_quantity.sum()"
      ],
      "metadata": {
        "colab": {
          "base_uri": "https://localhost:8080/"
        },
        "id": "lNq-X_aJ33KW",
        "outputId": "98d0d9ef-eaab-4d24-99b5-f47752d3d047"
      },
      "execution_count": 54,
      "outputs": [
        {
          "output_type": "execute_result",
          "data": {
            "text/plain": [
              "food_family                DrinkNon-ConsumableFood\n",
              "unit_sales(in millions)                   186914.0\n",
              "dtype: object"
            ]
          },
          "metadata": {},
          "execution_count": 54
        }
      ]
    },
    {
      "cell_type": "code",
      "source": [
        "plt.pie(df['food_family'].value_counts(), labels = [\"Food\", \"Non-Consumable\", \"Drink\"], colors = sns.color_palette(\"YlOrBr\"), autopct = '%1.1f%%')\n",
        "pass"
      ],
      "metadata": {
        "colab": {
          "base_uri": "https://localhost:8080/",
          "height": 248
        },
        "id": "XIG2Dkzn3ZWm",
        "outputId": "5025fb62-af26-41e8-e7d3-03dffa03c94b"
      },
      "execution_count": 57,
      "outputs": [
        {
          "output_type": "display_data",
          "data": {
            "text/plain": [
              "<Figure size 432x288 with 1 Axes>"
            ],
            "image/png": "[encoded data removed]"
          },
          "metadata": {}
        }
      ]
    },
    {
      "cell_type": "markdown",
      "source": [
        "Persentase penjualan makanan sebesar 71.6%, barang non konsumsi sebesar 19.2% dan minuman sebesar 9.2%. Angka ini merupakan nilai yang normal bagi perusahaan foodmart. Dengan fakta bahwa produk paling banyak dijual oleh food mart adalah makanan dan tingkat penjualan produk non konsumsi 19% dengan ketersediaan barang yang lebih rendah dari produk konsumsi maka penjualan produk non konsumsi bisa ditingkatkan.\n"
      ],
      "metadata": {
        "id": "tJmZ1GIKCoC9"
      }
    },
    {
      "cell_type": "markdown",
      "source": [
        "#### penjualan berdasarkan produk (food_category)"
      ],
      "metadata": {
        "id": "4VLGsNaJ5MtK"
      }
    },
    {
      "cell_type": "code",
      "source": [
        "grp_product = df.groupby('food_category')\n",
        "sales_by_product = round(grp_product['unit_sales(in millions)'].mean().sort_values(ascending=True).reset_index(),3)\n",
        "sales_by_product = sales_by_product.tail(10)\n",
        "plt.figure(figsize=(15,6))\n",
        "plt.barh(sales_by_product[:10]['food_category'], sales_by_product[:10]['unit_sales(in millions)'])\n",
        "plt.xticks(rotation='vertical', size=8)\n",
        "plt.xlabel('Penjualan (juta)')\n",
        "plt.ylabel('Produk')\n",
        "plt.title('10 Produk dengan Penjualan Tertinggi')\n",
        "for index, value in enumerate(sales_by_product[:10]['unit_sales(in millions)']):\n",
        "    plt.text(value, index,\n",
        "             str(value))\n",
        "plt.show()"
      ],
      "metadata": {
        "colab": {
          "base_uri": "https://localhost:8080/",
          "height": 407
        },
        "id": "0w4tmKw7vXom",
        "outputId": "873e0f29-694d-4e45-ce2f-b8823d74fda7"
      },
      "execution_count": 140,
      "outputs": [
        {
          "output_type": "display_data",
          "data": {
            "text/plain": [
              "<Figure size 1080x432 with 1 Axes>"
            ],
            "image/png": "[encoded data removed]"
          },
          "metadata": {
            "needs_background": "light"
          }
        }
      ]
    },
    {
      "cell_type": "markdown",
      "source": [
        "Berdasarkan gambar di atas, 10 penjualan tertinggi terdiri dari produk lain (miscellaneous), produk plastik, produk kertas yang merupakan produk nonkonsumsi, hal ini menunjukkan bahwa dengan jumlah produk makanan yang lebih banyak dari jenis produk lain membuat pelanggan tidak terpusat ke satu jenis makanan tertentu melainkan menyebar. Kategori makanan dengan penjualan tertinggi masih dominasi oleh kebutuhan pokok dan kategori makanan dengan penjualan rendah didominasi oleh jenis makanan bukan pokok, hal ini sangat wajar karena perusahaan merupakan foodmart. Akan tetapi inovasi produk harus terus dilakukan karena selalu terjadi perubahan konsumsi.\n",
        "\n",
        "Berdasarkan analisis diketahui adanya kecenderungan harga yang rendah untuk produk makanan yang terlihat dari nilai penjualan tertinggi adalah bukan makanan akan tetapi produk paling tinggi terjual adalah makanan. Harga eceran sangat penting bagi foodmart, biasanya foodmart menetapkan harga eceran yang rendah untuk menarik pelanggan meskipun keuntungan menjadi kecil. Menurut penjualan bersih makanan dengan tingkat penjualan tertinggi adalah makan siap makan, sementara untuk departemen makanan dengan penjualan rendah adalah makanan yang masih bahan belum siap makan\n",
        " \n"
      ],
      "metadata": {
        "id": "i_gbDGWPCvHu"
      }
    },
    {
      "cell_type": "markdown",
      "source": [
        "#### correlation"
      ],
      "metadata": {
        "id": "rGQbV8Bk7-ey"
      }
    },
    {
      "cell_type": "code",
      "source": [
        "#theme\n",
        "theme = [\"#DEF5E5\", \"#459E97\", \"#4B9ABB\",\"#0A4361\",\"#E68193\",]\n",
        "\n",
        "mask = np.zeros_like(df.corr(), dtype=np.bool)\n",
        "mask[np.triu_indices_from(mask)]= True\n",
        "\n",
        "\n",
        "fig, ax = plt.subplots(figsize=(35, 27))\n",
        "\n",
        "heatmap = sns.heatmap(df.corr(),\n",
        "                      mask = mask,\n",
        "                      square = True,\n",
        "                      linewidths = .7,\n",
        "                      cmap = 'PuBuGn',\n",
        "                      cbar_kws = {'shrink': .8,\"ticks\" : [-1, -0.5, 0, 0.5, 1]},\n",
        "                      vmin = -1,\n",
        "                      vmax = 1,\n",
        "                      annot = True,\n",
        "                      annot_kws = {\"size\": 10})\n",
        "\n",
        "#add the column names as labels\n",
        "ax.set_yticklabels(df.corr(), rotation = 0)\n",
        "ax.set_xticklabels(df.corr())\n",
        "\n",
        "sns.set_style({'xtick.bottom': True}, {'ytick.left': True})\n",
        "\n",
        "ax.annotate('correlation',\n",
        "                    fontsize=10,fontweight='bold',\n",
        "                    xy=(2.3, 4.2), xycoords='data',\n",
        "                    xytext=(0.6, 0.95), textcoords='axes fraction',\n",
        "                    arrowprops=dict(\n",
        "                    facecolor=theme[4], shrink=0.025, \n",
        "                    connectionstyle='arc3, rad=0.80'),\n",
        "                    horizontalalignment='left', verticalalignment='top'\n",
        ")\n",
        "\n",
        "ax.set_title('Correlation of Features', size = 50, color = theme[3], weight='bold', pad=40)"
      ],
      "metadata": {
        "colab": {
          "base_uri": "https://localhost:8080/",
          "height": 1000
        },
        "id": "h5algeOV5_6t",
        "outputId": "d0563796-8ede-4fae-950b-7c00d0d9c598"
      },
      "execution_count": 64,
      "outputs": [
        {
          "output_type": "stream",
          "name": "stderr",
          "text": [
            "/usr/local/lib/python3.7/dist-packages/ipykernel_launcher.py:4: DeprecationWarning:\n",
            "\n",
            "`np.bool` is a deprecated alias for the builtin `bool`. To silence this warning, use `bool` by itself. Doing this will not modify any behavior and is safe. If you specifically wanted the numpy scalar type, use `np.bool_` here.\n",
            "Deprecated in NumPy 1.20; for more details and guidance: https://numpy.org/devdocs/release/1.20.0-notes.html#deprecations\n",
            "\n"
          ]
        },
        {
          "output_type": "execute_result",
          "data": {
            "text/plain": [
              "Text(0.5, 1.0, 'Correlation of Features')"
            ]
          },
          "metadata": {},
          "execution_count": 64
        },
        {
          "output_type": "display_data",
          "data": {
            "text/plain": [
              "<Figure size 2520x1944 with 2 Axes>"
            ],
            "image/png": "[encoded data removed]"
          },
          "metadata": {
            "needs_background": "light"
          }
        }
      ]
    },
    {
      "cell_type": "markdown",
      "source": [
        "- store_sales dan store_cost memiliki korelasi positif dan tinggi dengan nilai sebesar 0,95, hal ini berarti biaya toko (store cost) memiliki pengaruh yang positif terhadap penjualan toko (store sales).\n",
        "\n",
        "  Dengan nilai korelasi yang tinggi pula dapat disimpulkan bahwa biaya yang dikeluarkan sangat efektif terhadap penjualan. \n",
        "\n",
        "- harga eceran (SRP) memiliki korelasi yang tinggi dengan penjualan toko (store_sales) dan biaya toko (store_cost) masing-masing sebesar 0,83 dan 0,8 hal ini menunjukan bahwa penetapan harga sangat mempengaruhi biaya dan penjualan sehingga dapat disimpulkan bahwa penetapan harga eceran akan mempengaruhi keuntungan dengan tingkat signifikan yang cukup tinggi\n",
        "\n",
        "- jumlah area kebutuhan sehari - hari (grocery_sqft) memiliki korelasi yang rendah terhadap penjualan (unit_sales) dengan nilai korelasi 0,025 begitu halnya dengan area yang lain seperti area makanan beku, area daging, kopi bar, toko video dan salad bar memiliki korelasi yang rendah terhadap penjualan ini menunjukan bahwa area tersebut masih kurang menarik bagi pelanggan.\n",
        "\n",
        "- dengan adanya coffee bar, salad bar dan video store harus nya memberikan pengaruh yang signifikan terhadap penjualan namun pada kenyataannya coffee bar, salad bar dan video store memiliki pengaruh yang kecil terhadap penjualan.\n",
        "\n"
      ],
      "metadata": {
        "id": "oZz_RSMIC-iv"
      }
    },
    {
      "cell_type": "markdown",
      "source": [
        "## data preparation"
      ],
      "metadata": {
        "id": "5shUznPdh7k_"
      }
    },
    {
      "cell_type": "markdown",
      "source": [
        "### drop variabel yang tidak digunakan"
      ],
      "metadata": {
        "id": "_n27N_fB8pyS"
      }
    },
    {
      "cell_type": "code",
      "source": [
        "# drop variabel yang tidak digunakan (fokus ke supermarketnya)\n",
        "df.drop(['marital_status', 'gender', 'total_children', 'education', 'member_card', \n",
        "         'occupation', 'houseowner', 'avg_cars_at home(approx)', 'avg. yearly_income', 'num_children_at_home',  \n",
        "         'avg_cars_at home(approx).1', 'brand_name', 'SRP', 'gross_weight', 'net_weight', 'recyclable_package', 'low_fat'], axis=1, inplace=True)\n",
        "df.head()"
      ],
      "metadata": {
        "colab": {
          "base_uri": "https://localhost:8080/",
          "height": 403
        },
        "id": "gklGrWR3ha_K",
        "outputId": "ea93aa6e-e8ba-4238-b2d5-1c650ca6337a"
      },
      "execution_count": 76,
      "outputs": [
        {
          "output_type": "execute_result",
          "data": {
            "text/plain": [
              "     food_category food_department food_family  store_sales(in millions)  \\\n",
              "0  Breakfast Foods    Frozen Foods        Food                      7.36   \n",
              "1  Breakfast Foods    Frozen Foods        Food                      5.52   \n",
              "2  Breakfast Foods    Frozen Foods        Food                      3.68   \n",
              "3  Breakfast Foods    Frozen Foods        Food                      3.68   \n",
              "4  Breakfast Foods    Frozen Foods        Food                      4.08   \n",
              "\n",
              "   store_cost(in millions)  unit_sales(in millions)         promotion_name  \\\n",
              "0                   2.7232                      4.0           Bag Stuffers   \n",
              "1                   2.5944                      3.0  Cash Register Lottery   \n",
              "2                   1.3616                      2.0    High Roller Savings   \n",
              "3                   1.1776                      2.0  Cash Register Lottery   \n",
              "4                   1.4280                      3.0       Double Down Sale   \n",
              "\n",
              "  sales_country  units_per_case          store_type  ... grocery_sqft  \\\n",
              "0           USA            17.0  Deluxe Supermarket  ...      18670.0   \n",
              "1           USA            17.0  Deluxe Supermarket  ...      18670.0   \n",
              "2           USA            17.0  Deluxe Supermarket  ...      18670.0   \n",
              "3           USA            17.0  Deluxe Supermarket  ...      18670.0   \n",
              "4           USA            29.0  Deluxe Supermarket  ...      18670.0   \n",
              "\n",
              "  frozen_sqft  meat_sqft  coffee_bar  video_store  salad_bar  prepared_food  \\\n",
              "0      5415.0     3610.0         1.0          1.0        1.0            1.0   \n",
              "1      5415.0     3610.0         1.0          1.0        1.0            1.0   \n",
              "2      5415.0     3610.0         1.0          1.0        1.0            1.0   \n",
              "3      5415.0     3610.0         1.0          1.0        1.0            1.0   \n",
              "4      5415.0     3610.0         1.0          1.0        1.0            1.0   \n",
              "\n",
              "   florist          media_type    cost  \n",
              "0      1.0  Daily Paper, Radio  126.62  \n",
              "1      1.0  Daily Paper, Radio   59.86  \n",
              "2      1.0  Daily Paper, Radio   84.16  \n",
              "3      1.0     In-Store Coupon   95.78  \n",
              "4      1.0               Radio   50.79  \n",
              "\n",
              "[5 rows x 23 columns]"
            ],
            "text/html": [
              "\n",
              "  <div id=\"df-57dffead-5607-427b-bd86-f127ba16d48e\">\n",
              "    <div class=\"colab-df-container\">\n",
              "      <div>\n",
              "<style scoped>\n",
              "    .dataframe tbody tr th:only-of-type {\n",
              "        vertical-align: middle;\n",
              "    }\n",
              "\n",
              "    .dataframe tbody tr th {\n",
              "        vertical-align: top;\n",
              "    }\n",
              "\n",
              "    .dataframe thead th {\n",
              "        text-align: right;\n",
              "    }\n",
              "</style>\n",
              "<table border=\"1\" class=\"dataframe\">\n",
              "  <thead>\n",
              "    <tr style=\"text-align: right;\">\n",
              "      <th></th>\n",
              "      <th>food_category</th>\n",
              "      <th>food_department</th>\n",
              "      <th>food_family</th>\n",
              "      <th>store_sales(in millions)</th>\n",
              "      <th>store_cost(in millions)</th>\n",
              "      <th>unit_sales(in millions)</th>\n",
              "      <th>promotion_name</th>\n",
              "      <th>sales_country</th>\n",
              "      <th>units_per_case</th>\n",
              "      <th>store_type</th>\n",
              "      <th>...</th>\n",
              "      <th>grocery_sqft</th>\n",
              "      <th>frozen_sqft</th>\n",
              "      <th>meat_sqft</th>\n",
              "      <th>coffee_bar</th>\n",
              "      <th>video_store</th>\n",
              "      <th>salad_bar</th>\n",
              "      <th>prepared_food</th>\n",
              "      <th>florist</th>\n",
              "      <th>media_type</th>\n",
              "      <th>cost</th>\n",
              "    </tr>\n",
              "  </thead>\n",
              "  <tbody>\n",
              "    <tr>\n",
              "      <th>0</th>\n",
              "      <td>Breakfast Foods</td>\n",
              "      <td>Frozen Foods</td>\n",
              "      <td>Food</td>\n",
              "      <td>7.36</td>\n",
              "      <td>2.7232</td>\n",
              "      <td>4.0</td>\n",
              "      <td>Bag Stuffers</td>\n",
              "      <td>USA</td>\n",
              "      <td>17.0</td>\n",
              "      <td>Deluxe Supermarket</td>\n",
              "      <td>...</td>\n",
              "      <td>18670.0</td>\n",
              "      <td>5415.0</td>\n",
              "      <td>3610.0</td>\n",
              "      <td>1.0</td>\n",
              "      <td>1.0</td>\n",
              "      <td>1.0</td>\n",
              "      <td>1.0</td>\n",
              "      <td>1.0</td>\n",
              "      <td>Daily Paper, Radio</td>\n",
              "      <td>126.62</td>\n",
              "    </tr>\n",
              "    <tr>\n",
              "      <th>1</th>\n",
              "      <td>Breakfast Foods</td>\n",
              "      <td>Frozen Foods</td>\n",
              "      <td>Food</td>\n",
              "      <td>5.52</td>\n",
              "      <td>2.5944</td>\n",
              "      <td>3.0</td>\n",
              "      <td>Cash Register Lottery</td>\n",
              "      <td>USA</td>\n",
              "      <td>17.0</td>\n",
              "      <td>Deluxe Supermarket</td>\n",
              "      <td>...</td>\n",
              "      <td>18670.0</td>\n",
              "      <td>5415.0</td>\n",
              "      <td>3610.0</td>\n",
              "      <td>1.0</td>\n",
              "      <td>1.0</td>\n",
              "      <td>1.0</td>\n",
              "      <td>1.0</td>\n",
              "      <td>1.0</td>\n",
              "      <td>Daily Paper, Radio</td>\n",
              "      <td>59.86</td>\n",
              "    </tr>\n",
              "    <tr>\n",
              "      <th>2</th>\n",
              "      <td>Breakfast Foods</td>\n",
              "      <td>Frozen Foods</td>\n",
              "      <td>Food</td>\n",
              "      <td>3.68</td>\n",
              "      <td>1.3616</td>\n",
              "      <td>2.0</td>\n",
              "      <td>High Roller Savings</td>\n",
              "      <td>USA</td>\n",
              "      <td>17.0</td>\n",
              "      <td>Deluxe Supermarket</td>\n",
              "      <td>...</td>\n",
              "      <td>18670.0</td>\n",
              "      <td>5415.0</td>\n",
              "      <td>3610.0</td>\n",
              "      <td>1.0</td>\n",
              "      <td>1.0</td>\n",
              "      <td>1.0</td>\n",
              "      <td>1.0</td>\n",
              "      <td>1.0</td>\n",
              "      <td>Daily Paper, Radio</td>\n",
              "      <td>84.16</td>\n",
              "    </tr>\n",
              "    <tr>\n",
              "      <th>3</th>\n",
              "      <td>Breakfast Foods</td>\n",
              "      <td>Frozen Foods</td>\n",
              "      <td>Food</td>\n",
              "      <td>3.68</td>\n",
              "      <td>1.1776</td>\n",
              "      <td>2.0</td>\n",
              "      <td>Cash Register Lottery</td>\n",
              "      <td>USA</td>\n",
              "      <td>17.0</td>\n",
              "      <td>Deluxe Supermarket</td>\n",
              "      <td>...</td>\n",
              "      <td>18670.0</td>\n",
              "      <td>5415.0</td>\n",
              "      <td>3610.0</td>\n",
              "      <td>1.0</td>\n",
              "      <td>1.0</td>\n",
              "      <td>1.0</td>\n",
              "      <td>1.0</td>\n",
              "      <td>1.0</td>\n",
              "      <td>In-Store Coupon</td>\n",
              "      <td>95.78</td>\n",
              "    </tr>\n",
              "    <tr>\n",
              "      <th>4</th>\n",
              "      <td>Breakfast Foods</td>\n",
              "      <td>Frozen Foods</td>\n",
              "      <td>Food</td>\n",
              "      <td>4.08</td>\n",
              "      <td>1.4280</td>\n",
              "      <td>3.0</td>\n",
              "      <td>Double Down Sale</td>\n",
              "      <td>USA</td>\n",
              "      <td>29.0</td>\n",
              "      <td>Deluxe Supermarket</td>\n",
              "      <td>...</td>\n",
              "      <td>18670.0</td>\n",
              "      <td>5415.0</td>\n",
              "      <td>3610.0</td>\n",
              "      <td>1.0</td>\n",
              "      <td>1.0</td>\n",
              "      <td>1.0</td>\n",
              "      <td>1.0</td>\n",
              "      <td>1.0</td>\n",
              "      <td>Radio</td>\n",
              "      <td>50.79</td>\n",
              "    </tr>\n",
              "  </tbody>\n",
              "</table>\n",
              "<p>5 rows × 23 columns</p>\n",
              "</div>\n",
              "      <button class=\"colab-df-convert\" onclick=\"convertToInteractive('df-57dffead-5607-427b-bd86-f127ba16d48e')\"\n",
              "              title=\"Convert this dataframe to an interactive table.\"\n",
              "              style=\"display:none;\">\n",
              "        \n",
              "  <svg xmlns=\"http://www.w3.org/2000/svg\" height=\"24px\"viewBox=\"0 0 24 24\"\n",
              "       width=\"24px\">\n",
              "    <path d=\"M0 0h24v24H0V0z\" fill=\"none\"/>\n",
              "    <path d=\"M18.56 5.44l.94 2.06.94-2.06 2.06-.94-2.06-.94-.94-2.06-.94 2.06-2.06.94zm-11 1L8.5 8.5l.94-2.06 2.06-.94-2.06-.94L8.5 2.5l-.94 2.06-2.06.94zm10 10l.94 2.06.94-2.06 2.06-.94-2.06-.94-.94-2.06-.94 2.06-2.06.94z\"/><path d=\"M17.41 7.96l-1.37-1.37c-.4-.4-.92-.59-1.43-.59-.52 0-1.04.2-1.43.59L10.3 9.45l-7.72 7.72c-.78.78-.78 2.05 0 2.83L4 21.41c.39.39.9.59 1.41.59.51 0 1.02-.2 1.41-.59l7.78-7.78 2.81-2.81c.8-.78.8-2.07 0-2.86zM5.41 20L4 18.59l7.72-7.72 1.47 1.35L5.41 20z\"/>\n",
              "  </svg>\n",
              "      </button>\n",
              "      \n",
              "  <style>\n",
              "    .colab-df-container {\n",
              "      display:flex;\n",
              "      flex-wrap:wrap;\n",
              "      gap: 12px;\n",
              "    }\n",
              "\n",
              "    .colab-df-convert {\n",
              "      background-color: #E8F0FE;\n",
              "      border: none;\n",
              "      border-radius: 50%;\n",
              "      cursor: pointer;\n",
              "      display: none;\n",
              "      fill: #1967D2;\n",
              "      height: 32px;\n",
              "      padding: 0 0 0 0;\n",
              "      width: 32px;\n",
              "    }\n",
              "\n",
              "    .colab-df-convert:hover {\n",
              "      background-color: #E2EBFA;\n",
              "      box-shadow: 0px 1px 2px rgba(60, 64, 67, 0.3), 0px 1px 3px 1px rgba(60, 64, 67, 0.15);\n",
              "      fill: #174EA6;\n",
              "    }\n",
              "\n",
              "    [theme=dark] .colab-df-convert {\n",
              "      background-color: #3B4455;\n",
              "      fill: #D2E3FC;\n",
              "    }\n",
              "\n",
              "    [theme=dark] .colab-df-convert:hover {\n",
              "      background-color: #434B5C;\n",
              "      box-shadow: 0px 1px 3px 1px rgba(0, 0, 0, 0.15);\n",
              "      filter: drop-shadow(0px 1px 2px rgba(0, 0, 0, 0.3));\n",
              "      fill: #FFFFFF;\n",
              "    }\n",
              "  </style>\n",
              "\n",
              "      <script>\n",
              "        const buttonEl =\n",
              "          document.querySelector('#df-57dffead-5607-427b-bd86-f127ba16d48e button.colab-df-convert');\n",
              "        buttonEl.style.display =\n",
              "          google.colab.kernel.accessAllowed ? 'block' : 'none';\n",
              "\n",
              "        async function convertToInteractive(key) {\n",
              "          const element = document.querySelector('#df-57dffead-5607-427b-bd86-f127ba16d48e');\n",
              "          const dataTable =\n",
              "            await google.colab.kernel.invokeFunction('convertToInteractive',\n",
              "                                                     [key], {});\n",
              "          if (!dataTable) return;\n",
              "\n",
              "          const docLinkHtml = 'Like what you see? Visit the ' +\n",
              "            '<a target=\"_blank\" href=https://colab.research.google.com/notebooks/data_table.ipynb>data table notebook</a>'\n",
              "            + ' to learn more about interactive tables.';\n",
              "          element.innerHTML = '';\n",
              "          dataTable['output_type'] = 'display_data';\n",
              "          await google.colab.output.renderOutput(dataTable, element);\n",
              "          const docLink = document.createElement('div');\n",
              "          docLink.innerHTML = docLinkHtml;\n",
              "          element.appendChild(docLink);\n",
              "        }\n",
              "      </script>\n",
              "    </div>\n",
              "  </div>\n",
              "  "
            ]
          },
          "metadata": {},
          "execution_count": 76
        }
      ]
    },
    {
      "cell_type": "code",
      "source": [
        "df.info()"
      ],
      "metadata": {
        "colab": {
          "base_uri": "https://localhost:8080/"
        },
        "id": "1k4GFp7SjlsP",
        "outputId": "e96ce6ee-436f-4661-9088-3ea19e62fd1d"
      },
      "execution_count": 77,
      "outputs": [
        {
          "output_type": "stream",
          "name": "stdout",
          "text": [
            "<class 'pandas.core.frame.DataFrame'>\n",
            "RangeIndex: 60428 entries, 0 to 60427\n",
            "Data columns (total 23 columns):\n",
            " #   Column                    Non-Null Count  Dtype  \n",
            "---  ------                    --------------  -----  \n",
            " 0   food_category             60428 non-null  object \n",
            " 1   food_department           60428 non-null  object \n",
            " 2   food_family               60428 non-null  object \n",
            " 3   store_sales(in millions)  60428 non-null  float64\n",
            " 4   store_cost(in millions)   60428 non-null  float64\n",
            " 5   unit_sales(in millions)   60428 non-null  float64\n",
            " 6   promotion_name            60428 non-null  object \n",
            " 7   sales_country             60428 non-null  object \n",
            " 8   units_per_case            60428 non-null  float64\n",
            " 9   store_type                60428 non-null  object \n",
            " 10  store_city                60428 non-null  object \n",
            " 11  store_state               60428 non-null  object \n",
            " 12  store_sqft                60428 non-null  float64\n",
            " 13  grocery_sqft              60428 non-null  float64\n",
            " 14  frozen_sqft               60428 non-null  float64\n",
            " 15  meat_sqft                 60428 non-null  float64\n",
            " 16  coffee_bar                60428 non-null  float64\n",
            " 17  video_store               60428 non-null  float64\n",
            " 18  salad_bar                 60428 non-null  float64\n",
            " 19  prepared_food             60428 non-null  float64\n",
            " 20  florist                   60428 non-null  float64\n",
            " 21  media_type                60428 non-null  object \n",
            " 22  cost                      60428 non-null  float64\n",
            "dtypes: float64(14), object(9)\n",
            "memory usage: 10.6+ MB\n"
          ]
        }
      ]
    },
    {
      "cell_type": "markdown",
      "source": [
        "### mengubah tipe data"
      ],
      "metadata": {
        "id": "8i-vqYne8vFd"
      }
    },
    {
      "cell_type": "code",
      "source": [
        "# mengubah tipe data \n",
        "df['coffee_bar'] = df['coffee_bar'].astype('object')\n",
        "df['video_store'] = df['video_store'].astype('object')\n",
        "df['salad_bar'] = df['salad_bar'].astype('object')\n",
        "df['prepared_food'] = df['prepared_food'].astype('object')\n",
        "df['florist'] = df['florist'].astype('object')\n",
        "\n",
        "df.info()"
      ],
      "metadata": {
        "colab": {
          "base_uri": "https://localhost:8080/"
        },
        "id": "be64jVhPlZpZ",
        "outputId": "0bb9009d-d852-4a8e-ce52-e69c624e792d"
      },
      "execution_count": 78,
      "outputs": [
        {
          "output_type": "stream",
          "name": "stdout",
          "text": [
            "<class 'pandas.core.frame.DataFrame'>\n",
            "RangeIndex: 60428 entries, 0 to 60427\n",
            "Data columns (total 23 columns):\n",
            " #   Column                    Non-Null Count  Dtype  \n",
            "---  ------                    --------------  -----  \n",
            " 0   food_category             60428 non-null  object \n",
            " 1   food_department           60428 non-null  object \n",
            " 2   food_family               60428 non-null  object \n",
            " 3   store_sales(in millions)  60428 non-null  float64\n",
            " 4   store_cost(in millions)   60428 non-null  float64\n",
            " 5   unit_sales(in millions)   60428 non-null  float64\n",
            " 6   promotion_name            60428 non-null  object \n",
            " 7   sales_country             60428 non-null  object \n",
            " 8   units_per_case            60428 non-null  float64\n",
            " 9   store_type                60428 non-null  object \n",
            " 10  store_city                60428 non-null  object \n",
            " 11  store_state               60428 non-null  object \n",
            " 12  store_sqft                60428 non-null  float64\n",
            " 13  grocery_sqft              60428 non-null  float64\n",
            " 14  frozen_sqft               60428 non-null  float64\n",
            " 15  meat_sqft                 60428 non-null  float64\n",
            " 16  coffee_bar                60428 non-null  object \n",
            " 17  video_store               60428 non-null  object \n",
            " 18  salad_bar                 60428 non-null  object \n",
            " 19  prepared_food             60428 non-null  object \n",
            " 20  florist                   60428 non-null  object \n",
            " 21  media_type                60428 non-null  object \n",
            " 22  cost                      60428 non-null  float64\n",
            "dtypes: float64(9), object(14)\n",
            "memory usage: 10.6+ MB\n"
          ]
        }
      ]
    },
    {
      "cell_type": "code",
      "source": [
        "# unique number of numeric variable\n",
        "columns = df.columns\n",
        "for i in range(len(columns)):\n",
        "    if df[columns[i]].dtypes!=object:\n",
        "        print(\"unique number of {} -> {}\".format(columns[i], len(df[columns[i]].unique())))"
      ],
      "metadata": {
        "colab": {
          "base_uri": "https://localhost:8080/"
        },
        "id": "AEh-cNbsl8ov",
        "outputId": "0f89a982-b4d2-4642-c9b9-c82c071b72f7"
      },
      "execution_count": 79,
      "outputs": [
        {
          "output_type": "stream",
          "name": "stdout",
          "text": [
            "unique number of store_sales(in millions) -> 1033\n",
            "unique number of store_cost(in millions) -> 9919\n",
            "unique number of unit_sales(in millions) -> 6\n",
            "unique number of units_per_case -> 36\n",
            "unique number of store_sqft -> 20\n",
            "unique number of grocery_sqft -> 20\n",
            "unique number of frozen_sqft -> 20\n",
            "unique number of meat_sqft -> 20\n",
            "unique number of cost -> 328\n"
          ]
        }
      ]
    },
    {
      "cell_type": "code",
      "source": [
        "# unique number of categorical variable\n",
        "for i in range(len(columns)):\n",
        "    if df[columns[i]].dtypes==object:\n",
        "        print(\"unique number of {} -> {}\".format(columns[i], len(df[columns[i]].unique())))"
      ],
      "metadata": {
        "colab": {
          "base_uri": "https://localhost:8080/"
        },
        "id": "uXR2BaKDl8lo",
        "outputId": "df5bdb80-c694-4d68-a432-c071a4cbff35"
      },
      "execution_count": 80,
      "outputs": [
        {
          "output_type": "stream",
          "name": "stdout",
          "text": [
            "unique number of food_category -> 45\n",
            "unique number of food_department -> 22\n",
            "unique number of food_family -> 3\n",
            "unique number of promotion_name -> 49\n",
            "unique number of sales_country -> 3\n",
            "unique number of store_type -> 5\n",
            "unique number of store_city -> 19\n",
            "unique number of store_state -> 10\n",
            "unique number of coffee_bar -> 2\n",
            "unique number of video_store -> 2\n",
            "unique number of salad_bar -> 2\n",
            "unique number of prepared_food -> 2\n",
            "unique number of florist -> 2\n",
            "unique number of media_type -> 13\n"
          ]
        }
      ]
    },
    {
      "cell_type": "code",
      "source": [
        "unique_values = {column: list(df[column].unique()) for column in df.select_dtypes(object).columns}\n",
        "for key, value in unique_values.items():\n",
        "    print(f'{key} : {value}')"
      ],
      "metadata": {
        "colab": {
          "base_uri": "https://localhost:8080/"
        },
        "id": "yn21B48RoGJl",
        "outputId": "cf7f2787-d967-4d85-fce6-9e1805b10c46"
      },
      "execution_count": 81,
      "outputs": [
        {
          "output_type": "stream",
          "name": "stdout",
          "text": [
            "food_category : ['Breakfast Foods', 'Bread', 'Canned Shrimp', 'Baking Goods', 'Vegetables', 'Frozen Desserts', 'Candy', 'Snack Foods', 'Dairy', 'Starchy Foods', 'Cleaning Supplies', 'Decongestants', 'Meat', 'Hot Beverages', 'Jams and Jellies', 'Carbonated Beverages', 'Seafood', 'Specialty', 'Kitchen Products', 'Electrical', 'Beer and Wine', 'Candles', 'Fruit', 'Pure Juice Beverages', 'Canned Soup', 'Paper Products', 'Canned Tuna', 'Eggs', 'Hardware', 'Canned Sardines', 'Canned Clams', 'Pain Relievers', 'Side Dishes', 'Bathroom Products', 'Magazines', 'Frozen Entrees', 'Pizza', 'Cold Remedies', 'Canned Anchovies', 'Drinks', 'Hygiene', 'Plastic Products', 'Canned Oysters', 'Packaged Vegetables', 'Miscellaneous']\n",
            "food_department : ['Frozen Foods', 'Baked Goods', 'Canned Foods', 'Baking Goods', 'Produce', 'Snacks', 'Snack Foods', 'Dairy', 'Starchy Foods', 'Household', 'Health and Hygiene', 'Meat', 'Beverages', 'Seafood', 'Deli', 'Alcoholic Beverages', 'Canned Products', 'Eggs', 'Periodicals', 'Breakfast Foods', 'Checkout', 'Carousel']\n",
            "food_family : ['Food', 'Non-Consumable', 'Drink']\n",
            "promotion_name : ['Bag Stuffers', 'Cash Register Lottery', 'High Roller Savings', 'Double Down Sale', 'Green Light Days', 'Big Time Savings', 'Price Savers', 'Price Slashers', 'Dollar Days', 'Two Day Sale', 'Super Duper Savers', 'Weekend Markdown', 'Dollar Cutters', 'Sales Galore', 'Big Promo', 'Free For All', 'Savings Galore', 'Unbeatable Price Savers', 'Price Smashers', 'Shelf Clearing Days', 'Sales Days', 'Go For It', 'Super Savers', 'Wallet Savers', 'Save-It Sale', 'Price Destroyers', 'Two for One', 'Big Time Discounts', 'Shelf Emptiers', 'Bye Bye Baby', 'One Day Sale', 'Fantastic Discounts', 'Saving Days', 'You Save Days', 'Sale Winners', 'Coupon Spectacular', 'Three for One', 'Price Winners', 'Dimes Off', 'I Cant Believe It Sale', 'Money Savers', 'Green Light Special', 'Price Cutters', 'Tip Top Savings', 'Best Savings', 'Pick Your Savings', 'Double Your Savings', 'Mystery Sale', 'Super Wallet Savers']\n",
            "sales_country : ['USA', 'Mexico', 'Canada']\n",
            "store_type : ['Deluxe Supermarket', 'Supermarket', 'Gourmet Supermarket', 'Small Grocery', 'Mid-Size Grocery']\n",
            "store_city : ['Salem', 'Tacoma', 'Seattle', 'Spokane', 'Los Angeles', 'Beverly Hills', 'Portland', 'Bellingham', 'Orizaba', 'Merida', 'Hidalgo', 'Mexico City', 'Vancouver', 'Bremerton', 'Camacho', 'Guadalajara', 'Acapulco', 'San Francisco', 'Victoria']\n",
            "store_state : ['OR', 'WA', 'CA', 'Veracruz', 'Yucatan', 'Zacatecas', 'DF', 'BC', 'Jalisco', 'Guerrero']\n",
            "coffee_bar : [1.0, 0.0]\n",
            "video_store : [1.0, 0.0]\n",
            "salad_bar : [1.0, 0.0]\n",
            "prepared_food : [1.0, 0.0]\n",
            "florist : [1.0, 0.0]\n",
            "media_type : ['Daily Paper, Radio', 'In-Store Coupon', 'Radio', 'Daily Paper', 'Product Attachment', 'Sunday Paper, Radio', 'Sunday Paper, Radio, TV', 'Sunday Paper', 'Street Handout', 'TV', 'Bulk Mail', 'Cash Register Handout', 'Daily Paper, Radio, TV']\n"
          ]
        }
      ]
    },
    {
      "cell_type": "code",
      "source": [
        "df.describe()"
      ],
      "metadata": {
        "colab": {
          "base_uri": "https://localhost:8080/",
          "height": 361
        },
        "id": "dx9BrlXlWzf8",
        "outputId": "ac25f4f1-aaa7-4865-e4f4-5ec315090a9e"
      },
      "execution_count": 83,
      "outputs": [
        {
          "output_type": "execute_result",
          "data": {
            "text/plain": [
              "       store_sales(in millions)  store_cost(in millions)  \\\n",
              "count              60428.000000             60428.000000   \n",
              "mean                   6.541031                 2.619460   \n",
              "std                    3.463047                 1.453009   \n",
              "min                    0.510000                 0.163200   \n",
              "25%                    3.810000                 1.500000   \n",
              "50%                    5.940000                 2.385600   \n",
              "75%                    8.670000                 3.484025   \n",
              "max                   22.920000                 9.726500   \n",
              "\n",
              "       unit_sales(in millions)  units_per_case    store_sqft  grocery_sqft  \\\n",
              "count             60428.000000    60428.000000  60428.000000  60428.000000   \n",
              "mean                  3.093169       18.860694  27988.477494  19133.799696   \n",
              "std                   0.827677       10.258555   5701.022090   3987.395735   \n",
              "min                   1.000000        1.000000  20319.000000  13305.000000   \n",
              "25%                   3.000000       10.000000  23593.000000  16232.000000   \n",
              "50%                   3.000000       19.000000  27694.000000  18670.000000   \n",
              "75%                   4.000000       28.000000  30797.000000  22123.000000   \n",
              "max                   6.000000       36.000000  39696.000000  30351.000000   \n",
              "\n",
              "        frozen_sqft     meat_sqft          cost  \n",
              "count  60428.000000  60428.000000  60428.000000  \n",
              "mean    5312.852552   3541.846280     99.262366  \n",
              "std     1575.907263   1050.471635     30.011257  \n",
              "min     2452.000000   1635.000000     50.790000  \n",
              "25%     4746.000000   3164.000000     69.650000  \n",
              "50%     5062.000000   3375.000000     98.520000  \n",
              "75%     5751.000000   3834.000000    126.620000  \n",
              "max     9184.000000   6122.000000    149.750000  "
            ],
            "text/html": [
              "\n",
              "  <div id=\"df-5cd1825d-13bd-41ea-af39-521413157dcb\">\n",
              "    <div class=\"colab-df-container\">\n",
              "      <div>\n",
              "<style scoped>\n",
              "    .dataframe tbody tr th:only-of-type {\n",
              "        vertical-align: middle;\n",
              "    }\n",
              "\n",
              "    .dataframe tbody tr th {\n",
              "        vertical-align: top;\n",
              "    }\n",
              "\n",
              "    .dataframe thead th {\n",
              "        text-align: right;\n",
              "    }\n",
              "</style>\n",
              "<table border=\"1\" class=\"dataframe\">\n",
              "  <thead>\n",
              "    <tr style=\"text-align: right;\">\n",
              "      <th></th>\n",
              "      <th>store_sales(in millions)</th>\n",
              "      <th>store_cost(in millions)</th>\n",
              "      <th>unit_sales(in millions)</th>\n",
              "      <th>units_per_case</th>\n",
              "      <th>store_sqft</th>\n",
              "      <th>grocery_sqft</th>\n",
              "      <th>frozen_sqft</th>\n",
              "      <th>meat_sqft</th>\n",
              "      <th>cost</th>\n",
              "    </tr>\n",
              "  </thead>\n",
              "  <tbody>\n",
              "    <tr>\n",
              "      <th>count</th>\n",
              "      <td>60428.000000</td>\n",
              "      <td>60428.000000</td>\n",
              "      <td>60428.000000</td>\n",
              "      <td>60428.000000</td>\n",
              "      <td>60428.000000</td>\n",
              "      <td>60428.000000</td>\n",
              "      <td>60428.000000</td>\n",
              "      <td>60428.000000</td>\n",
              "      <td>60428.000000</td>\n",
              "    </tr>\n",
              "    <tr>\n",
              "      <th>mean</th>\n",
              "      <td>6.541031</td>\n",
              "      <td>2.619460</td>\n",
              "      <td>3.093169</td>\n",
              "      <td>18.860694</td>\n",
              "      <td>27988.477494</td>\n",
              "      <td>19133.799696</td>\n",
              "      <td>5312.852552</td>\n",
              "      <td>3541.846280</td>\n",
              "      <td>99.262366</td>\n",
              "    </tr>\n",
              "    <tr>\n",
              "      <th>std</th>\n",
              "      <td>3.463047</td>\n",
              "      <td>1.453009</td>\n",
              "      <td>0.827677</td>\n",
              "      <td>10.258555</td>\n",
              "      <td>5701.022090</td>\n",
              "      <td>3987.395735</td>\n",
              "      <td>1575.907263</td>\n",
              "      <td>1050.471635</td>\n",
              "      <td>30.011257</td>\n",
              "    </tr>\n",
              "    <tr>\n",
              "      <th>min</th>\n",
              "      <td>0.510000</td>\n",
              "      <td>0.163200</td>\n",
              "      <td>1.000000</td>\n",
              "      <td>1.000000</td>\n",
              "      <td>20319.000000</td>\n",
              "      <td>13305.000000</td>\n",
              "      <td>2452.000000</td>\n",
              "      <td>1635.000000</td>\n",
              "      <td>50.790000</td>\n",
              "    </tr>\n",
              "    <tr>\n",
              "      <th>25%</th>\n",
              "      <td>3.810000</td>\n",
              "      <td>1.500000</td>\n",
              "      <td>3.000000</td>\n",
              "      <td>10.000000</td>\n",
              "      <td>23593.000000</td>\n",
              "      <td>16232.000000</td>\n",
              "      <td>4746.000000</td>\n",
              "      <td>3164.000000</td>\n",
              "      <td>69.650000</td>\n",
              "    </tr>\n",
              "    <tr>\n",
              "      <th>50%</th>\n",
              "      <td>5.940000</td>\n",
              "      <td>2.385600</td>\n",
              "      <td>3.000000</td>\n",
              "      <td>19.000000</td>\n",
              "      <td>27694.000000</td>\n",
              "      <td>18670.000000</td>\n",
              "      <td>5062.000000</td>\n",
              "      <td>3375.000000</td>\n",
              "      <td>98.520000</td>\n",
              "    </tr>\n",
              "    <tr>\n",
              "      <th>75%</th>\n",
              "      <td>8.670000</td>\n",
              "      <td>3.484025</td>\n",
              "      <td>4.000000</td>\n",
              "      <td>28.000000</td>\n",
              "      <td>30797.000000</td>\n",
              "      <td>22123.000000</td>\n",
              "      <td>5751.000000</td>\n",
              "      <td>3834.000000</td>\n",
              "      <td>126.620000</td>\n",
              "    </tr>\n",
              "    <tr>\n",
              "      <th>max</th>\n",
              "      <td>22.920000</td>\n",
              "      <td>9.726500</td>\n",
              "      <td>6.000000</td>\n",
              "      <td>36.000000</td>\n",
              "      <td>39696.000000</td>\n",
              "      <td>30351.000000</td>\n",
              "      <td>9184.000000</td>\n",
              "      <td>6122.000000</td>\n",
              "      <td>149.750000</td>\n",
              "    </tr>\n",
              "  </tbody>\n",
              "</table>\n",
              "</div>\n",
              "      <button class=\"colab-df-convert\" onclick=\"convertToInteractive('df-5cd1825d-13bd-41ea-af39-521413157dcb')\"\n",
              "              title=\"Convert this dataframe to an interactive table.\"\n",
              "              style=\"display:none;\">\n",
              "        \n",
              "  <svg xmlns=\"http://www.w3.org/2000/svg\" height=\"24px\"viewBox=\"0 0 24 24\"\n",
              "       width=\"24px\">\n",
              "    <path d=\"M0 0h24v24H0V0z\" fill=\"none\"/>\n",
              "    <path d=\"M18.56 5.44l.94 2.06.94-2.06 2.06-.94-2.06-.94-.94-2.06-.94 2.06-2.06.94zm-11 1L8.5 8.5l.94-2.06 2.06-.94-2.06-.94L8.5 2.5l-.94 2.06-2.06.94zm10 10l.94 2.06.94-2.06 2.06-.94-2.06-.94-.94-2.06-.94 2.06-2.06.94z\"/><path d=\"M17.41 7.96l-1.37-1.37c-.4-.4-.92-.59-1.43-.59-.52 0-1.04.2-1.43.59L10.3 9.45l-7.72 7.72c-.78.78-.78 2.05 0 2.83L4 21.41c.39.39.9.59 1.41.59.51 0 1.02-.2 1.41-.59l7.78-7.78 2.81-2.81c.8-.78.8-2.07 0-2.86zM5.41 20L4 18.59l7.72-7.72 1.47 1.35L5.41 20z\"/>\n",
              "  </svg>\n",
              "      </button>\n",
              "      \n",
              "  <style>\n",
              "    .colab-df-container {\n",
              "      display:flex;\n",
              "      flex-wrap:wrap;\n",
              "      gap: 12px;\n",
              "    }\n",
              "\n",
              "    .colab-df-convert {\n",
              "      background-color: #E8F0FE;\n",
              "      border: none;\n",
              "      border-radius: 50%;\n",
              "      cursor: pointer;\n",
              "      display: none;\n",
              "      fill: #1967D2;\n",
              "      height: 32px;\n",
              "      padding: 0 0 0 0;\n",
              "      width: 32px;\n",
              "    }\n",
              "\n",
              "    .colab-df-convert:hover {\n",
              "      background-color: #E2EBFA;\n",
              "      box-shadow: 0px 1px 2px rgba(60, 64, 67, 0.3), 0px 1px 3px 1px rgba(60, 64, 67, 0.15);\n",
              "      fill: #174EA6;\n",
              "    }\n",
              "\n",
              "    [theme=dark] .colab-df-convert {\n",
              "      background-color: #3B4455;\n",
              "      fill: #D2E3FC;\n",
              "    }\n",
              "\n",
              "    [theme=dark] .colab-df-convert:hover {\n",
              "      background-color: #434B5C;\n",
              "      box-shadow: 0px 1px 3px 1px rgba(0, 0, 0, 0.15);\n",
              "      filter: drop-shadow(0px 1px 2px rgba(0, 0, 0, 0.3));\n",
              "      fill: #FFFFFF;\n",
              "    }\n",
              "  </style>\n",
              "\n",
              "      <script>\n",
              "        const buttonEl =\n",
              "          document.querySelector('#df-5cd1825d-13bd-41ea-af39-521413157dcb button.colab-df-convert');\n",
              "        buttonEl.style.display =\n",
              "          google.colab.kernel.accessAllowed ? 'block' : 'none';\n",
              "\n",
              "        async function convertToInteractive(key) {\n",
              "          const element = document.querySelector('#df-5cd1825d-13bd-41ea-af39-521413157dcb');\n",
              "          const dataTable =\n",
              "            await google.colab.kernel.invokeFunction('convertToInteractive',\n",
              "                                                     [key], {});\n",
              "          if (!dataTable) return;\n",
              "\n",
              "          const docLinkHtml = 'Like what you see? Visit the ' +\n",
              "            '<a target=\"_blank\" href=https://colab.research.google.com/notebooks/data_table.ipynb>data table notebook</a>'\n",
              "            + ' to learn more about interactive tables.';\n",
              "          element.innerHTML = '';\n",
              "          dataTable['output_type'] = 'display_data';\n",
              "          await google.colab.output.renderOutput(dataTable, element);\n",
              "          const docLink = document.createElement('div');\n",
              "          docLink.innerHTML = docLinkHtml;\n",
              "          element.appendChild(docLink);\n",
              "        }\n",
              "      </script>\n",
              "    </div>\n",
              "  </div>\n",
              "  "
            ]
          },
          "metadata": {},
          "execution_count": 83
        }
      ]
    },
    {
      "cell_type": "markdown",
      "source": [
        "Terlihat perbedaan rentang nilai antara variabel dengan tipe data numerik, sehingga perlu dilakukan standarisasi"
      ],
      "metadata": {
        "id": "h7NMdOUMDQ2p"
      }
    },
    {
      "cell_type": "markdown",
      "source": [
        "### standarisasi"
      ],
      "metadata": {
        "id": "3xkQQDaU9IL5"
      }
    },
    {
      "cell_type": "code",
      "source": [
        "# standarisasi\n",
        "df[\"store_sales(in millions)\"] = (df[\"store_sales(in millions)\"] - df[\"store_sales(in millions)\"].mean()) / df[\"store_sales(in millions)\"].std()\n",
        "df[\"store_cost(in millions)\"] = (df[\"store_cost(in millions)\"] - df[\"store_cost(in millions)\"].mean()) / df[\"store_cost(in millions)\"].std()\n",
        "df[\"unit_sales(in millions)\"] = (df[\"unit_sales(in millions)\"] - df[\"unit_sales(in millions)\"].mean()) / df[\"unit_sales(in millions)\"].std()\n",
        "df[\"units_per_case\"] = (df[\"units_per_case\"] - df[\"units_per_case\"].mean()) / df[\"units_per_case\"].std()\n",
        "df[\"store_sqft\"] = (df[\"store_sqft\"] - df[\"store_sqft\"].mean()) / df[\"store_sqft\"].std()\n",
        "\n",
        "df[\"grocery_sqft\"] = (df[\"grocery_sqft\"] - df[\"grocery_sqft\"].mean()) / df[\"grocery_sqft\"].std()\n",
        "df[\"frozen_sqft\"] = (df[\"frozen_sqft\"] - df[\"frozen_sqft\"].mean()) / df[\"frozen_sqft\"].std()\n",
        "df[\"meat_sqft\"] = (df[\"meat_sqft\"] - df[\"meat_sqft\"].mean()) / df[\"meat_sqft\"].std()\n",
        "\n",
        "df.head()"
      ],
      "metadata": {
        "colab": {
          "base_uri": "https://localhost:8080/",
          "height": 403
        },
        "id": "nyakCdj89KwU",
        "outputId": "83f1617a-d2fe-4cf2-d505-dbeee1b95034"
      },
      "execution_count": 84,
      "outputs": [
        {
          "output_type": "execute_result",
          "data": {
            "text/plain": [
              "     food_category food_department food_family  store_sales(in millions)  \\\n",
              "0  Breakfast Foods    Frozen Foods        Food                  0.236488   \n",
              "1  Breakfast Foods    Frozen Foods        Food                 -0.294836   \n",
              "2  Breakfast Foods    Frozen Foods        Food                 -0.826160   \n",
              "3  Breakfast Foods    Frozen Foods        Food                 -0.826160   \n",
              "4  Breakfast Foods    Frozen Foods        Food                 -0.710655   \n",
              "\n",
              "   store_cost(in millions)  unit_sales(in millions)         promotion_name  \\\n",
              "0                 0.071397                 1.095634           Bag Stuffers   \n",
              "1                -0.017247                -0.112567  Cash Register Lottery   \n",
              "2                -0.865693                -1.320767    High Roller Savings   \n",
              "3                -0.992327                -1.320767  Cash Register Lottery   \n",
              "4                -0.819995                -0.112567       Double Down Sale   \n",
              "\n",
              "  sales_country  units_per_case          store_type  ... grocery_sqft  \\\n",
              "0           USA       -0.181380  Deluxe Supermarket  ...    -0.116316   \n",
              "1           USA       -0.181380  Deluxe Supermarket  ...    -0.116316   \n",
              "2           USA       -0.181380  Deluxe Supermarket  ...    -0.116316   \n",
              "3           USA       -0.181380  Deluxe Supermarket  ...    -0.116316   \n",
              "4           USA        0.988376  Deluxe Supermarket  ...    -0.116316   \n",
              "\n",
              "  frozen_sqft  meat_sqft  coffee_bar  video_store  salad_bar prepared_food  \\\n",
              "0    0.064818   0.064879         1.0          1.0        1.0           1.0   \n",
              "1    0.064818   0.064879         1.0          1.0        1.0           1.0   \n",
              "2    0.064818   0.064879         1.0          1.0        1.0           1.0   \n",
              "3    0.064818   0.064879         1.0          1.0        1.0           1.0   \n",
              "4    0.064818   0.064879         1.0          1.0        1.0           1.0   \n",
              "\n",
              "  florist          media_type    cost  \n",
              "0     1.0  Daily Paper, Radio  126.62  \n",
              "1     1.0  Daily Paper, Radio   59.86  \n",
              "2     1.0  Daily Paper, Radio   84.16  \n",
              "3     1.0     In-Store Coupon   95.78  \n",
              "4     1.0               Radio   50.79  \n",
              "\n",
              "[5 rows x 23 columns]"
            ],
            "text/html": [
              "\n",
              "  <div id=\"df-5d2504fb-4987-47e2-967a-0f41dd31af96\">\n",
              "    <div class=\"colab-df-container\">\n",
              "      <div>\n",
              "<style scoped>\n",
              "    .dataframe tbody tr th:only-of-type {\n",
              "        vertical-align: middle;\n",
              "    }\n",
              "\n",
              "    .dataframe tbody tr th {\n",
              "        vertical-align: top;\n",
              "    }\n",
              "\n",
              "    .dataframe thead th {\n",
              "        text-align: right;\n",
              "    }\n",
              "</style>\n",
              "<table border=\"1\" class=\"dataframe\">\n",
              "  <thead>\n",
              "    <tr style=\"text-align: right;\">\n",
              "      <th></th>\n",
              "      <th>food_category</th>\n",
              "      <th>food_department</th>\n",
              "      <th>food_family</th>\n",
              "      <th>store_sales(in millions)</th>\n",
              "      <th>store_cost(in millions)</th>\n",
              "      <th>unit_sales(in millions)</th>\n",
              "      <th>promotion_name</th>\n",
              "      <th>sales_country</th>\n",
              "      <th>units_per_case</th>\n",
              "      <th>store_type</th>\n",
              "      <th>...</th>\n",
              "      <th>grocery_sqft</th>\n",
              "      <th>frozen_sqft</th>\n",
              "      <th>meat_sqft</th>\n",
              "      <th>coffee_bar</th>\n",
              "      <th>video_store</th>\n",
              "      <th>salad_bar</th>\n",
              "      <th>prepared_food</th>\n",
              "      <th>florist</th>\n",
              "      <th>media_type</th>\n",
              "      <th>cost</th>\n",
              "    </tr>\n",
              "  </thead>\n",
              "  <tbody>\n",
              "    <tr>\n",
              "      <th>0</th>\n",
              "      <td>Breakfast Foods</td>\n",
              "      <td>Frozen Foods</td>\n",
              "      <td>Food</td>\n",
              "      <td>0.236488</td>\n",
              "      <td>0.071397</td>\n",
              "      <td>1.095634</td>\n",
              "      <td>Bag Stuffers</td>\n",
              "      <td>USA</td>\n",
              "      <td>-0.181380</td>\n",
              "      <td>Deluxe Supermarket</td>\n",
              "      <td>...</td>\n",
              "      <td>-0.116316</td>\n",
              "      <td>0.064818</td>\n",
              "      <td>0.064879</td>\n",
              "      <td>1.0</td>\n",
              "      <td>1.0</td>\n",
              "      <td>1.0</td>\n",
              "      <td>1.0</td>\n",
              "      <td>1.0</td>\n",
              "      <td>Daily Paper, Radio</td>\n",
              "      <td>126.62</td>\n",
              "    </tr>\n",
              "    <tr>\n",
              "      <th>1</th>\n",
              "      <td>Breakfast Foods</td>\n",
              "      <td>Frozen Foods</td>\n",
              "      <td>Food</td>\n",
              "      <td>-0.294836</td>\n",
              "      <td>-0.017247</td>\n",
              "      <td>-0.112567</td>\n",
              "      <td>Cash Register Lottery</td>\n",
              "      <td>USA</td>\n",
              "      <td>-0.181380</td>\n",
              "      <td>Deluxe Supermarket</td>\n",
              "      <td>...</td>\n",
              "      <td>-0.116316</td>\n",
              "      <td>0.064818</td>\n",
              "      <td>0.064879</td>\n",
              "      <td>1.0</td>\n",
              "      <td>1.0</td>\n",
              "      <td>1.0</td>\n",
              "      <td>1.0</td>\n",
              "      <td>1.0</td>\n",
              "      <td>Daily Paper, Radio</td>\n",
              "      <td>59.86</td>\n",
              "    </tr>\n",
              "    <tr>\n",
              "      <th>2</th>\n",
              "      <td>Breakfast Foods</td>\n",
              "      <td>Frozen Foods</td>\n",
              "      <td>Food</td>\n",
              "      <td>-0.826160</td>\n",
              "      <td>-0.865693</td>\n",
              "      <td>-1.320767</td>\n",
              "      <td>High Roller Savings</td>\n",
              "      <td>USA</td>\n",
              "      <td>-0.181380</td>\n",
              "      <td>Deluxe Supermarket</td>\n",
              "      <td>...</td>\n",
              "      <td>-0.116316</td>\n",
              "      <td>0.064818</td>\n",
              "      <td>0.064879</td>\n",
              "      <td>1.0</td>\n",
              "      <td>1.0</td>\n",
              "      <td>1.0</td>\n",
              "      <td>1.0</td>\n",
              "      <td>1.0</td>\n",
              "      <td>Daily Paper, Radio</td>\n",
              "      <td>84.16</td>\n",
              "    </tr>\n",
              "    <tr>\n",
              "      <th>3</th>\n",
              "      <td>Breakfast Foods</td>\n",
              "      <td>Frozen Foods</td>\n",
              "      <td>Food</td>\n",
              "      <td>-0.826160</td>\n",
              "      <td>-0.992327</td>\n",
              "      <td>-1.320767</td>\n",
              "      <td>Cash Register Lottery</td>\n",
              "      <td>USA</td>\n",
              "      <td>-0.181380</td>\n",
              "      <td>Deluxe Supermarket</td>\n",
              "      <td>...</td>\n",
              "      <td>-0.116316</td>\n",
              "      <td>0.064818</td>\n",
              "      <td>0.064879</td>\n",
              "      <td>1.0</td>\n",
              "      <td>1.0</td>\n",
              "      <td>1.0</td>\n",
              "      <td>1.0</td>\n",
              "      <td>1.0</td>\n",
              "      <td>In-Store Coupon</td>\n",
              "      <td>95.78</td>\n",
              "    </tr>\n",
              "    <tr>\n",
              "      <th>4</th>\n",
              "      <td>Breakfast Foods</td>\n",
              "      <td>Frozen Foods</td>\n",
              "      <td>Food</td>\n",
              "      <td>-0.710655</td>\n",
              "      <td>-0.819995</td>\n",
              "      <td>-0.112567</td>\n",
              "      <td>Double Down Sale</td>\n",
              "      <td>USA</td>\n",
              "      <td>0.988376</td>\n",
              "      <td>Deluxe Supermarket</td>\n",
              "      <td>...</td>\n",
              "      <td>-0.116316</td>\n",
              "      <td>0.064818</td>\n",
              "      <td>0.064879</td>\n",
              "      <td>1.0</td>\n",
              "      <td>1.0</td>\n",
              "      <td>1.0</td>\n",
              "      <td>1.0</td>\n",
              "      <td>1.0</td>\n",
              "      <td>Radio</td>\n",
              "      <td>50.79</td>\n",
              "    </tr>\n",
              "  </tbody>\n",
              "</table>\n",
              "<p>5 rows × 23 columns</p>\n",
              "</div>\n",
              "      <button class=\"colab-df-convert\" onclick=\"convertToInteractive('df-5d2504fb-4987-47e2-967a-0f41dd31af96')\"\n",
              "              title=\"Convert this dataframe to an interactive table.\"\n",
              "              style=\"display:none;\">\n",
              "        \n",
              "  <svg xmlns=\"http://www.w3.org/2000/svg\" height=\"24px\"viewBox=\"0 0 24 24\"\n",
              "       width=\"24px\">\n",
              "    <path d=\"M0 0h24v24H0V0z\" fill=\"none\"/>\n",
              "    <path d=\"M18.56 5.44l.94 2.06.94-2.06 2.06-.94-2.06-.94-.94-2.06-.94 2.06-2.06.94zm-11 1L8.5 8.5l.94-2.06 2.06-.94-2.06-.94L8.5 2.5l-.94 2.06-2.06.94zm10 10l.94 2.06.94-2.06 2.06-.94-2.06-.94-.94-2.06-.94 2.06-2.06.94z\"/><path d=\"M17.41 7.96l-1.37-1.37c-.4-.4-.92-.59-1.43-.59-.52 0-1.04.2-1.43.59L10.3 9.45l-7.72 7.72c-.78.78-.78 2.05 0 2.83L4 21.41c.39.39.9.59 1.41.59.51 0 1.02-.2 1.41-.59l7.78-7.78 2.81-2.81c.8-.78.8-2.07 0-2.86zM5.41 20L4 18.59l7.72-7.72 1.47 1.35L5.41 20z\"/>\n",
              "  </svg>\n",
              "      </button>\n",
              "      \n",
              "  <style>\n",
              "    .colab-df-container {\n",
              "      display:flex;\n",
              "      flex-wrap:wrap;\n",
              "      gap: 12px;\n",
              "    }\n",
              "\n",
              "    .colab-df-convert {\n",
              "      background-color: #E8F0FE;\n",
              "      border: none;\n",
              "      border-radius: 50%;\n",
              "      cursor: pointer;\n",
              "      display: none;\n",
              "      fill: #1967D2;\n",
              "      height: 32px;\n",
              "      padding: 0 0 0 0;\n",
              "      width: 32px;\n",
              "    }\n",
              "\n",
              "    .colab-df-convert:hover {\n",
              "      background-color: #E2EBFA;\n",
              "      box-shadow: 0px 1px 2px rgba(60, 64, 67, 0.3), 0px 1px 3px 1px rgba(60, 64, 67, 0.15);\n",
              "      fill: #174EA6;\n",
              "    }\n",
              "\n",
              "    [theme=dark] .colab-df-convert {\n",
              "      background-color: #3B4455;\n",
              "      fill: #D2E3FC;\n",
              "    }\n",
              "\n",
              "    [theme=dark] .colab-df-convert:hover {\n",
              "      background-color: #434B5C;\n",
              "      box-shadow: 0px 1px 3px 1px rgba(0, 0, 0, 0.15);\n",
              "      filter: drop-shadow(0px 1px 2px rgba(0, 0, 0, 0.3));\n",
              "      fill: #FFFFFF;\n",
              "    }\n",
              "  </style>\n",
              "\n",
              "      <script>\n",
              "        const buttonEl =\n",
              "          document.querySelector('#df-5d2504fb-4987-47e2-967a-0f41dd31af96 button.colab-df-convert');\n",
              "        buttonEl.style.display =\n",
              "          google.colab.kernel.accessAllowed ? 'block' : 'none';\n",
              "\n",
              "        async function convertToInteractive(key) {\n",
              "          const element = document.querySelector('#df-5d2504fb-4987-47e2-967a-0f41dd31af96');\n",
              "          const dataTable =\n",
              "            await google.colab.kernel.invokeFunction('convertToInteractive',\n",
              "                                                     [key], {});\n",
              "          if (!dataTable) return;\n",
              "\n",
              "          const docLinkHtml = 'Like what you see? Visit the ' +\n",
              "            '<a target=\"_blank\" href=https://colab.research.google.com/notebooks/data_table.ipynb>data table notebook</a>'\n",
              "            + ' to learn more about interactive tables.';\n",
              "          element.innerHTML = '';\n",
              "          dataTable['output_type'] = 'display_data';\n",
              "          await google.colab.output.renderOutput(dataTable, element);\n",
              "          const docLink = document.createElement('div');\n",
              "          docLink.innerHTML = docLinkHtml;\n",
              "          element.appendChild(docLink);\n",
              "        }\n",
              "      </script>\n",
              "    </div>\n",
              "  </div>\n",
              "  "
            ]
          },
          "metadata": {},
          "execution_count": 84
        }
      ]
    },
    {
      "cell_type": "code",
      "source": [
        "df.describe()"
      ],
      "metadata": {
        "colab": {
          "base_uri": "https://localhost:8080/",
          "height": 361
        },
        "id": "1DOVVXOY9KtV",
        "outputId": "c743d850-1ecf-439f-8e32-74d2216335fa"
      },
      "execution_count": 85,
      "outputs": [
        {
          "output_type": "execute_result",
          "data": {
            "text/plain": [
              "       store_sales(in millions)  store_cost(in millions)  \\\n",
              "count              6.042800e+04             6.042800e+04   \n",
              "mean               3.480516e-16            -5.644081e-18   \n",
              "std                1.000000e+00             1.000000e+00   \n",
              "min               -1.741539e+00            -1.690464e+00   \n",
              "25%               -7.886208e-01            -7.704424e-01   \n",
              "50%               -1.735555e-01            -1.609485e-01   \n",
              "75%                6.147678e-01             5.950174e-01   \n",
              "max                4.729642e+00             4.891258e+00   \n",
              "\n",
              "       unit_sales(in millions)  units_per_case    store_sqft  grocery_sqft  \\\n",
              "count             6.042800e+04    6.042800e+04  6.042800e+04  6.042800e+04   \n",
              "mean              2.169444e-17    3.809755e-17  1.853728e-16  4.453532e-16   \n",
              "std               1.000000e+00    1.000000e+00  1.000000e+00  1.000000e+00   \n",
              "min              -2.528968e+00   -1.741054e+00 -1.345281e+00 -1.461806e+00   \n",
              "25%              -1.125665e-01   -8.637370e-01 -7.709982e-01 -7.277431e-01   \n",
              "50%              -1.125665e-01    1.357952e-02 -5.165346e-02 -1.163164e-01   \n",
              "75%               1.095634e+00    8.908961e-01  4.926349e-01  7.496623e-01   \n",
              "max               3.512036e+00    1.670733e+00  2.053583e+00  2.813165e+00   \n",
              "\n",
              "        frozen_sqft     meat_sqft          cost  \n",
              "count  6.042800e+04  6.042800e+04  60428.000000  \n",
              "mean  -9.136356e-17 -1.299314e-16     99.262366  \n",
              "std    1.000000e+00  1.000000e+00     30.011257  \n",
              "min   -1.815369e+00 -1.815229e+00     50.790000  \n",
              "25%   -3.596992e-01 -3.596920e-01     69.650000  \n",
              "50%   -1.591798e-01 -1.588299e-01     98.520000  \n",
              "75%    2.780287e-01  2.781167e-01    126.620000  \n",
              "max    2.456456e+00  2.456186e+00    149.750000  "
            ],
            "text/html": [
              "\n",
              "  <div id=\"df-a0afddf3-fa51-4c40-8847-7f6fe4097336\">\n",
              "    <div class=\"colab-df-container\">\n",
              "      <div>\n",
              "<style scoped>\n",
              "    .dataframe tbody tr th:only-of-type {\n",
              "        vertical-align: middle;\n",
              "    }\n",
              "\n",
              "    .dataframe tbody tr th {\n",
              "        vertical-align: top;\n",
              "    }\n",
              "\n",
              "    .dataframe thead th {\n",
              "        text-align: right;\n",
              "    }\n",
              "</style>\n",
              "<table border=\"1\" class=\"dataframe\">\n",
              "  <thead>\n",
              "    <tr style=\"text-align: right;\">\n",
              "      <th></th>\n",
              "      <th>store_sales(in millions)</th>\n",
              "      <th>store_cost(in millions)</th>\n",
              "      <th>unit_sales(in millions)</th>\n",
              "      <th>units_per_case</th>\n",
              "      <th>store_sqft</th>\n",
              "      <th>grocery_sqft</th>\n",
              "      <th>frozen_sqft</th>\n",
              "      <th>meat_sqft</th>\n",
              "      <th>cost</th>\n",
              "    </tr>\n",
              "  </thead>\n",
              "  <tbody>\n",
              "    <tr>\n",
              "      <th>count</th>\n",
              "      <td>6.042800e+04</td>\n",
              "      <td>6.042800e+04</td>\n",
              "      <td>6.042800e+04</td>\n",
              "      <td>6.042800e+04</td>\n",
              "      <td>6.042800e+04</td>\n",
              "      <td>6.042800e+04</td>\n",
              "      <td>6.042800e+04</td>\n",
              "      <td>6.042800e+04</td>\n",
              "      <td>60428.000000</td>\n",
              "    </tr>\n",
              "    <tr>\n",
              "      <th>mean</th>\n",
              "      <td>3.480516e-16</td>\n",
              "      <td>-5.644081e-18</td>\n",
              "      <td>2.169444e-17</td>\n",
              "      <td>3.809755e-17</td>\n",
              "      <td>1.853728e-16</td>\n",
              "      <td>4.453532e-16</td>\n",
              "      <td>-9.136356e-17</td>\n",
              "      <td>-1.299314e-16</td>\n",
              "      <td>99.262366</td>\n",
              "    </tr>\n",
              "    <tr>\n",
              "      <th>std</th>\n",
              "      <td>1.000000e+00</td>\n",
              "      <td>1.000000e+00</td>\n",
              "      <td>1.000000e+00</td>\n",
              "      <td>1.000000e+00</td>\n",
              "      <td>1.000000e+00</td>\n",
              "      <td>1.000000e+00</td>\n",
              "      <td>1.000000e+00</td>\n",
              "      <td>1.000000e+00</td>\n",
              "      <td>30.011257</td>\n",
              "    </tr>\n",
              "    <tr>\n",
              "      <th>min</th>\n",
              "      <td>-1.741539e+00</td>\n",
              "      <td>-1.690464e+00</td>\n",
              "      <td>-2.528968e+00</td>\n",
              "      <td>-1.741054e+00</td>\n",
              "      <td>-1.345281e+00</td>\n",
              "      <td>-1.461806e+00</td>\n",
              "      <td>-1.815369e+00</td>\n",
              "      <td>-1.815229e+00</td>\n",
              "      <td>50.790000</td>\n",
              "    </tr>\n",
              "    <tr>\n",
              "      <th>25%</th>\n",
              "      <td>-7.886208e-01</td>\n",
              "      <td>-7.704424e-01</td>\n",
              "      <td>-1.125665e-01</td>\n",
              "      <td>-8.637370e-01</td>\n",
              "      <td>-7.709982e-01</td>\n",
              "      <td>-7.277431e-01</td>\n",
              "      <td>-3.596992e-01</td>\n",
              "      <td>-3.596920e-01</td>\n",
              "      <td>69.650000</td>\n",
              "    </tr>\n",
              "    <tr>\n",
              "      <th>50%</th>\n",
              "      <td>-1.735555e-01</td>\n",
              "      <td>-1.609485e-01</td>\n",
              "      <td>-1.125665e-01</td>\n",
              "      <td>1.357952e-02</td>\n",
              "      <td>-5.165346e-02</td>\n",
              "      <td>-1.163164e-01</td>\n",
              "      <td>-1.591798e-01</td>\n",
              "      <td>-1.588299e-01</td>\n",
              "      <td>98.520000</td>\n",
              "    </tr>\n",
              "    <tr>\n",
              "      <th>75%</th>\n",
              "      <td>6.147678e-01</td>\n",
              "      <td>5.950174e-01</td>\n",
              "      <td>1.095634e+00</td>\n",
              "      <td>8.908961e-01</td>\n",
              "      <td>4.926349e-01</td>\n",
              "      <td>7.496623e-01</td>\n",
              "      <td>2.780287e-01</td>\n",
              "      <td>2.781167e-01</td>\n",
              "      <td>126.620000</td>\n",
              "    </tr>\n",
              "    <tr>\n",
              "      <th>max</th>\n",
              "      <td>4.729642e+00</td>\n",
              "      <td>4.891258e+00</td>\n",
              "      <td>3.512036e+00</td>\n",
              "      <td>1.670733e+00</td>\n",
              "      <td>2.053583e+00</td>\n",
              "      <td>2.813165e+00</td>\n",
              "      <td>2.456456e+00</td>\n",
              "      <td>2.456186e+00</td>\n",
              "      <td>149.750000</td>\n",
              "    </tr>\n",
              "  </tbody>\n",
              "</table>\n",
              "</div>\n",
              "      <button class=\"colab-df-convert\" onclick=\"convertToInteractive('df-a0afddf3-fa51-4c40-8847-7f6fe4097336')\"\n",
              "              title=\"Convert this dataframe to an interactive table.\"\n",
              "              style=\"display:none;\">\n",
              "        \n",
              "  <svg xmlns=\"http://www.w3.org/2000/svg\" height=\"24px\"viewBox=\"0 0 24 24\"\n",
              "       width=\"24px\">\n",
              "    <path d=\"M0 0h24v24H0V0z\" fill=\"none\"/>\n",
              "    <path d=\"M18.56 5.44l.94 2.06.94-2.06 2.06-.94-2.06-.94-.94-2.06-.94 2.06-2.06.94zm-11 1L8.5 8.5l.94-2.06 2.06-.94-2.06-.94L8.5 2.5l-.94 2.06-2.06.94zm10 10l.94 2.06.94-2.06 2.06-.94-2.06-.94-.94-2.06-.94 2.06-2.06.94z\"/><path d=\"M17.41 7.96l-1.37-1.37c-.4-.4-.92-.59-1.43-.59-.52 0-1.04.2-1.43.59L10.3 9.45l-7.72 7.72c-.78.78-.78 2.05 0 2.83L4 21.41c.39.39.9.59 1.41.59.51 0 1.02-.2 1.41-.59l7.78-7.78 2.81-2.81c.8-.78.8-2.07 0-2.86zM5.41 20L4 18.59l7.72-7.72 1.47 1.35L5.41 20z\"/>\n",
              "  </svg>\n",
              "      </button>\n",
              "      \n",
              "  <style>\n",
              "    .colab-df-container {\n",
              "      display:flex;\n",
              "      flex-wrap:wrap;\n",
              "      gap: 12px;\n",
              "    }\n",
              "\n",
              "    .colab-df-convert {\n",
              "      background-color: #E8F0FE;\n",
              "      border: none;\n",
              "      border-radius: 50%;\n",
              "      cursor: pointer;\n",
              "      display: none;\n",
              "      fill: #1967D2;\n",
              "      height: 32px;\n",
              "      padding: 0 0 0 0;\n",
              "      width: 32px;\n",
              "    }\n",
              "\n",
              "    .colab-df-convert:hover {\n",
              "      background-color: #E2EBFA;\n",
              "      box-shadow: 0px 1px 2px rgba(60, 64, 67, 0.3), 0px 1px 3px 1px rgba(60, 64, 67, 0.15);\n",
              "      fill: #174EA6;\n",
              "    }\n",
              "\n",
              "    [theme=dark] .colab-df-convert {\n",
              "      background-color: #3B4455;\n",
              "      fill: #D2E3FC;\n",
              "    }\n",
              "\n",
              "    [theme=dark] .colab-df-convert:hover {\n",
              "      background-color: #434B5C;\n",
              "      box-shadow: 0px 1px 3px 1px rgba(0, 0, 0, 0.15);\n",
              "      filter: drop-shadow(0px 1px 2px rgba(0, 0, 0, 0.3));\n",
              "      fill: #FFFFFF;\n",
              "    }\n",
              "  </style>\n",
              "\n",
              "      <script>\n",
              "        const buttonEl =\n",
              "          document.querySelector('#df-a0afddf3-fa51-4c40-8847-7f6fe4097336 button.colab-df-convert');\n",
              "        buttonEl.style.display =\n",
              "          google.colab.kernel.accessAllowed ? 'block' : 'none';\n",
              "\n",
              "        async function convertToInteractive(key) {\n",
              "          const element = document.querySelector('#df-a0afddf3-fa51-4c40-8847-7f6fe4097336');\n",
              "          const dataTable =\n",
              "            await google.colab.kernel.invokeFunction('convertToInteractive',\n",
              "                                                     [key], {});\n",
              "          if (!dataTable) return;\n",
              "\n",
              "          const docLinkHtml = 'Like what you see? Visit the ' +\n",
              "            '<a target=\"_blank\" href=https://colab.research.google.com/notebooks/data_table.ipynb>data table notebook</a>'\n",
              "            + ' to learn more about interactive tables.';\n",
              "          element.innerHTML = '';\n",
              "          dataTable['output_type'] = 'display_data';\n",
              "          await google.colab.output.renderOutput(dataTable, element);\n",
              "          const docLink = document.createElement('div');\n",
              "          docLink.innerHTML = docLinkHtml;\n",
              "          element.appendChild(docLink);\n",
              "        }\n",
              "      </script>\n",
              "    </div>\n",
              "  </div>\n",
              "  "
            ]
          },
          "metadata": {},
          "execution_count": 85
        }
      ]
    },
    {
      "cell_type": "markdown",
      "source": [
        "### mengecek missing value dan data duplikat"
      ],
      "metadata": {
        "id": "KEySeV-U9Y4u"
      }
    },
    {
      "cell_type": "code",
      "source": [
        "# mengecek missing value\n",
        "print(df.isnull().sum().to_markdown())"
      ],
      "metadata": {
        "colab": {
          "base_uri": "https://localhost:8080/"
        },
        "id": "5VMcHiIe9c6K",
        "outputId": "91eea981-3882-45cb-c0cf-520827166b75"
      },
      "execution_count": 86,
      "outputs": [
        {
          "output_type": "stream",
          "name": "stdout",
          "text": [
            "|                          |   0 |\n",
            "|:-------------------------|----:|\n",
            "| food_category            |   0 |\n",
            "| food_department          |   0 |\n",
            "| food_family              |   0 |\n",
            "| store_sales(in millions) |   0 |\n",
            "| store_cost(in millions)  |   0 |\n",
            "| unit_sales(in millions)  |   0 |\n",
            "| promotion_name           |   0 |\n",
            "| sales_country            |   0 |\n",
            "| units_per_case           |   0 |\n",
            "| store_type               |   0 |\n",
            "| store_city               |   0 |\n",
            "| store_state              |   0 |\n",
            "| store_sqft               |   0 |\n",
            "| grocery_sqft             |   0 |\n",
            "| frozen_sqft              |   0 |\n",
            "| meat_sqft                |   0 |\n",
            "| coffee_bar               |   0 |\n",
            "| video_store              |   0 |\n",
            "| salad_bar                |   0 |\n",
            "| prepared_food            |   0 |\n",
            "| florist                  |   0 |\n",
            "| media_type               |   0 |\n",
            "| cost                     |   0 |\n"
          ]
        }
      ]
    },
    {
      "cell_type": "code",
      "source": [
        "# duplicate data\n",
        "df.duplicated().sum()"
      ],
      "metadata": {
        "colab": {
          "base_uri": "https://localhost:8080/"
        },
        "id": "frZaTQg09c_y",
        "outputId": "5dd0f4ba-87be-425c-d108-4da155043863"
      },
      "execution_count": 87,
      "outputs": [
        {
          "output_type": "execute_result",
          "data": {
            "text/plain": [
              "67"
            ]
          },
          "metadata": {},
          "execution_count": 87
        }
      ]
    },
    {
      "cell_type": "markdown",
      "source": [
        "tidak terdapat missing value, namun terdapat data duplikat sehingga perlu di drop"
      ],
      "metadata": {
        "id": "gUnbbG0Q9iBa"
      }
    },
    {
      "cell_type": "code",
      "source": [
        "# drop duplicate data\n",
        "df.drop_duplicates(inplace=True)"
      ],
      "metadata": {
        "id": "-NZ9Iq3P9nEa"
      },
      "execution_count": 88,
      "outputs": []
    },
    {
      "cell_type": "code",
      "source": [
        "df.duplicated().sum()"
      ],
      "metadata": {
        "colab": {
          "base_uri": "https://localhost:8080/"
        },
        "id": "x1kjgu9V9ndl",
        "outputId": "ed04edd5-f419-4edb-ab5b-c4cf9a2c9432"
      },
      "execution_count": 89,
      "outputs": [
        {
          "output_type": "execute_result",
          "data": {
            "text/plain": [
              "0"
            ]
          },
          "metadata": {},
          "execution_count": 89
        }
      ]
    },
    {
      "cell_type": "markdown",
      "source": [
        "### encoding variabel"
      ],
      "metadata": {
        "id": "-DbnIzL89NiN"
      }
    },
    {
      "cell_type": "code",
      "source": [
        "# separating categorical and numerical columns\n",
        "num_cols   = ['store_sales(in millions)','store_cost(in millions)','unit_sales(in millions)','units_per_case','store_sqft',\n",
        "              'grocery_sqft','frozen_sqft','meat_sqft','cost']\n",
        "\n",
        "# multi category columns\n",
        "multi_cols = ['food_category','food_department','food_family','promotion_name','sales_country',\n",
        "              'store_type','store_city','store_state','coffee_bar','video_store','salad_bar',\n",
        "              'prepared_food','florist','media_type']"
      ],
      "metadata": {
        "id": "OyYX4LHE94v0"
      },
      "execution_count": 92,
      "outputs": []
    },
    {
      "cell_type": "code",
      "source": [
        "# encoding variabel\n",
        "from sklearn.preprocessing import LabelEncoder\n",
        "\n",
        "label = LabelEncoder()\n",
        "for i in df.columns:\n",
        "    if df[i].dtypes == object:\n",
        "        df[i]= label.fit_transform(df[i])"
      ],
      "metadata": {
        "id": "YKgxjzByY-eQ"
      },
      "execution_count": 90,
      "outputs": []
    },
    {
      "cell_type": "code",
      "source": [
        "df"
      ],
      "metadata": {
        "colab": {
          "base_uri": "https://localhost:8080/",
          "height": 505
        },
        "id": "x_RiRBN8Y_rJ",
        "outputId": "ee03b26d-6d32-47a2-bc3c-1a8308800783"
      },
      "execution_count": 93,
      "outputs": [
        {
          "output_type": "execute_result",
          "data": {
            "text/plain": [
              "       food_category  food_department  food_family  store_sales(in millions)  \\\n",
              "0                  4               12            1                  0.236488   \n",
              "1                  4               12            1                 -0.294836   \n",
              "2                  4               12            1                 -0.826160   \n",
              "3                  4               12            1                 -0.826160   \n",
              "4                  4               12            1                 -0.710655   \n",
              "...              ...              ...          ...                       ...   \n",
              "60423             42                7            2                 -1.091822   \n",
              "60424             42                7            2                 -1.426787   \n",
              "60425             42                7            2                 -0.294836   \n",
              "60426             42                7            2                  0.502150   \n",
              "60427             42                7            2                  0.767812   \n",
              "\n",
              "       store_cost(in millions)  unit_sales(in millions)  promotion_name  \\\n",
              "0                     0.071397                 1.095634               0   \n",
              "1                    -0.017247                -0.112567               6   \n",
              "2                    -0.865693                -1.320767              18   \n",
              "3                    -0.992327                -1.320767               6   \n",
              "4                    -0.819995                -0.112567              11   \n",
              "...                        ...                      ...             ...   \n",
              "60423                -0.891020                -2.528968              48   \n",
              "60424                -1.461422                -2.528968              24   \n",
              "60425                -0.055237                -1.320767              47   \n",
              "60426                -0.036242                -0.112567              31   \n",
              "60427                 1.109794                 1.095634              38   \n",
              "\n",
              "       sales_country  units_per_case  store_type  ...  grocery_sqft  \\\n",
              "0                  2       -0.181380           0  ...     -0.116316   \n",
              "1                  2       -0.181380           0  ...     -0.116316   \n",
              "2                  2       -0.181380           0  ...     -0.116316   \n",
              "3                  2       -0.181380           0  ...     -0.116316   \n",
              "4                  2        0.988376           0  ...     -0.116316   \n",
              "...              ...             ...         ...  ...           ...   \n",
              "60423              2        0.695937           3  ...     -0.956213   \n",
              "60424              2        1.670733           3  ...     -0.956213   \n",
              "60425              2        0.695937           3  ...     -0.956213   \n",
              "60426              0        0.695937           2  ...      2.088882   \n",
              "60427              0        0.988376           2  ...      2.088882   \n",
              "\n",
              "       frozen_sqft  meat_sqft  coffee_bar  video_store  salad_bar  \\\n",
              "0         0.064818   0.064879           1            1          1   \n",
              "1         0.064818   0.064879           1            1          1   \n",
              "2         0.064818   0.064879           1            1          1   \n",
              "3         0.064818   0.064879           1            1          1   \n",
              "4         0.064818   0.064879           1            1          1   \n",
              "...            ...        ...         ...          ...        ...   \n",
              "60423    -0.646518  -0.646230           1            0          0   \n",
              "60424    -0.646518  -0.646230           1            0          0   \n",
              "60425    -0.646518  -0.646230           1            0          0   \n",
              "60426    -0.710608  -0.710963           1            0          0   \n",
              "60427    -0.710608  -0.710963           1            0          0   \n",
              "\n",
              "       prepared_food  florist  media_type    cost  \n",
              "0                  1        1           3  126.62  \n",
              "1                  1        1           3   59.86  \n",
              "2                  1        1           3   84.16  \n",
              "3                  1        1           5   95.78  \n",
              "4                  1        1           7   50.79  \n",
              "...              ...      ...         ...     ...  \n",
              "60423              0        0           5   95.25  \n",
              "60424              0        0           9   69.42  \n",
              "60425              0        0          11   67.51  \n",
              "60426              0        1           9  132.88  \n",
              "60427              0        1           3   87.76  \n",
              "\n",
              "[60361 rows x 23 columns]"
            ],
            "text/html": [
              "\n",
              "  <div id=\"df-45ff5476-e478-4827-b083-c2c39f0c12c8\">\n",
              "    <div class=\"colab-df-container\">\n",
              "      <div>\n",
              "<style scoped>\n",
              "    .dataframe tbody tr th:only-of-type {\n",
              "        vertical-align: middle;\n",
              "    }\n",
              "\n",
              "    .dataframe tbody tr th {\n",
              "        vertical-align: top;\n",
              "    }\n",
              "\n",
              "    .dataframe thead th {\n",
              "        text-align: right;\n",
              "    }\n",
              "</style>\n",
              "<table border=\"1\" class=\"dataframe\">\n",
              "  <thead>\n",
              "    <tr style=\"text-align: right;\">\n",
              "      <th></th>\n",
              "      <th>food_category</th>\n",
              "      <th>food_department</th>\n",
              "      <th>food_family</th>\n",
              "      <th>store_sales(in millions)</th>\n",
              "      <th>store_cost(in millions)</th>\n",
              "      <th>unit_sales(in millions)</th>\n",
              "      <th>promotion_name</th>\n",
              "      <th>sales_country</th>\n",
              "      <th>units_per_case</th>\n",
              "      <th>store_type</th>\n",
              "      <th>...</th>\n",
              "      <th>grocery_sqft</th>\n",
              "      <th>frozen_sqft</th>\n",
              "      <th>meat_sqft</th>\n",
              "      <th>coffee_bar</th>\n",
              "      <th>video_store</th>\n",
              "      <th>salad_bar</th>\n",
              "      <th>prepared_food</th>\n",
              "      <th>florist</th>\n",
              "      <th>media_type</th>\n",
              "      <th>cost</th>\n",
              "    </tr>\n",
              "  </thead>\n",
              "  <tbody>\n",
              "    <tr>\n",
              "      <th>0</th>\n",
              "      <td>4</td>\n",
              "      <td>12</td>\n",
              "      <td>1</td>\n",
              "      <td>0.236488</td>\n",
              "      <td>0.071397</td>\n",
              "      <td>1.095634</td>\n",
              "      <td>0</td>\n",
              "      <td>2</td>\n",
              "      <td>-0.181380</td>\n",
              "      <td>0</td>\n",
              "      <td>...</td>\n",
              "      <td>-0.116316</td>\n",
              "      <td>0.064818</td>\n",
              "      <td>0.064879</td>\n",
              "      <td>1</td>\n",
              "      <td>1</td>\n",
              "      <td>1</td>\n",
              "      <td>1</td>\n",
              "      <td>1</td>\n",
              "      <td>3</td>\n",
              "      <td>126.62</td>\n",
              "    </tr>\n",
              "    <tr>\n",
              "      <th>1</th>\n",
              "      <td>4</td>\n",
              "      <td>12</td>\n",
              "      <td>1</td>\n",
              "      <td>-0.294836</td>\n",
              "      <td>-0.017247</td>\n",
              "      <td>-0.112567</td>\n",
              "      <td>6</td>\n",
              "      <td>2</td>\n",
              "      <td>-0.181380</td>\n",
              "      <td>0</td>\n",
              "      <td>...</td>\n",
              "      <td>-0.116316</td>\n",
              "      <td>0.064818</td>\n",
              "      <td>0.064879</td>\n",
              "      <td>1</td>\n",
              "      <td>1</td>\n",
              "      <td>1</td>\n",
              "      <td>1</td>\n",
              "      <td>1</td>\n",
              "      <td>3</td>\n",
              "      <td>59.86</td>\n",
              "    </tr>\n",
              "    <tr>\n",
              "      <th>2</th>\n",
              "      <td>4</td>\n",
              "      <td>12</td>\n",
              "      <td>1</td>\n",
              "      <td>-0.826160</td>\n",
              "      <td>-0.865693</td>\n",
              "      <td>-1.320767</td>\n",
              "      <td>18</td>\n",
              "      <td>2</td>\n",
              "      <td>-0.181380</td>\n",
              "      <td>0</td>\n",
              "      <td>...</td>\n",
              "      <td>-0.116316</td>\n",
              "      <td>0.064818</td>\n",
              "      <td>0.064879</td>\n",
              "      <td>1</td>\n",
              "      <td>1</td>\n",
              "      <td>1</td>\n",
              "      <td>1</td>\n",
              "      <td>1</td>\n",
              "      <td>3</td>\n",
              "      <td>84.16</td>\n",
              "    </tr>\n",
              "    <tr>\n",
              "      <th>3</th>\n",
              "      <td>4</td>\n",
              "      <td>12</td>\n",
              "      <td>1</td>\n",
              "      <td>-0.826160</td>\n",
              "      <td>-0.992327</td>\n",
              "      <td>-1.320767</td>\n",
              "      <td>6</td>\n",
              "      <td>2</td>\n",
              "      <td>-0.181380</td>\n",
              "      <td>0</td>\n",
              "      <td>...</td>\n",
              "      <td>-0.116316</td>\n",
              "      <td>0.064818</td>\n",
              "      <td>0.064879</td>\n",
              "      <td>1</td>\n",
              "      <td>1</td>\n",
              "      <td>1</td>\n",
              "      <td>1</td>\n",
              "      <td>1</td>\n",
              "      <td>5</td>\n",
              "      <td>95.78</td>\n",
              "    </tr>\n",
              "    <tr>\n",
              "      <th>4</th>\n",
              "      <td>4</td>\n",
              "      <td>12</td>\n",
              "      <td>1</td>\n",
              "      <td>-0.710655</td>\n",
              "      <td>-0.819995</td>\n",
              "      <td>-0.112567</td>\n",
              "      <td>11</td>\n",
              "      <td>2</td>\n",
              "      <td>0.988376</td>\n",
              "      <td>0</td>\n",
              "      <td>...</td>\n",
              "      <td>-0.116316</td>\n",
              "      <td>0.064818</td>\n",
              "      <td>0.064879</td>\n",
              "      <td>1</td>\n",
              "      <td>1</td>\n",
              "      <td>1</td>\n",
              "      <td>1</td>\n",
              "      <td>1</td>\n",
              "      <td>7</td>\n",
              "      <td>50.79</td>\n",
              "    </tr>\n",
              "    <tr>\n",
              "      <th>...</th>\n",
              "      <td>...</td>\n",
              "      <td>...</td>\n",
              "      <td>...</td>\n",
              "      <td>...</td>\n",
              "      <td>...</td>\n",
              "      <td>...</td>\n",
              "      <td>...</td>\n",
              "      <td>...</td>\n",
              "      <td>...</td>\n",
              "      <td>...</td>\n",
              "      <td>...</td>\n",
              "      <td>...</td>\n",
              "      <td>...</td>\n",
              "      <td>...</td>\n",
              "      <td>...</td>\n",
              "      <td>...</td>\n",
              "      <td>...</td>\n",
              "      <td>...</td>\n",
              "      <td>...</td>\n",
              "      <td>...</td>\n",
              "      <td>...</td>\n",
              "    </tr>\n",
              "    <tr>\n",
              "      <th>60423</th>\n",
              "      <td>42</td>\n",
              "      <td>7</td>\n",
              "      <td>2</td>\n",
              "      <td>-1.091822</td>\n",
              "      <td>-0.891020</td>\n",
              "      <td>-2.528968</td>\n",
              "      <td>48</td>\n",
              "      <td>2</td>\n",
              "      <td>0.695937</td>\n",
              "      <td>3</td>\n",
              "      <td>...</td>\n",
              "      <td>-0.956213</td>\n",
              "      <td>-0.646518</td>\n",
              "      <td>-0.646230</td>\n",
              "      <td>1</td>\n",
              "      <td>0</td>\n",
              "      <td>0</td>\n",
              "      <td>0</td>\n",
              "      <td>0</td>\n",
              "      <td>5</td>\n",
              "      <td>95.25</td>\n",
              "    </tr>\n",
              "    <tr>\n",
              "      <th>60424</th>\n",
              "      <td>42</td>\n",
              "      <td>7</td>\n",
              "      <td>2</td>\n",
              "      <td>-1.426787</td>\n",
              "      <td>-1.461422</td>\n",
              "      <td>-2.528968</td>\n",
              "      <td>24</td>\n",
              "      <td>2</td>\n",
              "      <td>1.670733</td>\n",
              "      <td>3</td>\n",
              "      <td>...</td>\n",
              "      <td>-0.956213</td>\n",
              "      <td>-0.646518</td>\n",
              "      <td>-0.646230</td>\n",
              "      <td>1</td>\n",
              "      <td>0</td>\n",
              "      <td>0</td>\n",
              "      <td>0</td>\n",
              "      <td>0</td>\n",
              "      <td>9</td>\n",
              "      <td>69.42</td>\n",
              "    </tr>\n",
              "    <tr>\n",
              "      <th>60425</th>\n",
              "      <td>42</td>\n",
              "      <td>7</td>\n",
              "      <td>2</td>\n",
              "      <td>-0.294836</td>\n",
              "      <td>-0.055237</td>\n",
              "      <td>-1.320767</td>\n",
              "      <td>47</td>\n",
              "      <td>2</td>\n",
              "      <td>0.695937</td>\n",
              "      <td>3</td>\n",
              "      <td>...</td>\n",
              "      <td>-0.956213</td>\n",
              "      <td>-0.646518</td>\n",
              "      <td>-0.646230</td>\n",
              "      <td>1</td>\n",
              "      <td>0</td>\n",
              "      <td>0</td>\n",
              "      <td>0</td>\n",
              "      <td>0</td>\n",
              "      <td>11</td>\n",
              "      <td>67.51</td>\n",
              "    </tr>\n",
              "    <tr>\n",
              "      <th>60426</th>\n",
              "      <td>42</td>\n",
              "      <td>7</td>\n",
              "      <td>2</td>\n",
              "      <td>0.502150</td>\n",
              "      <td>-0.036242</td>\n",
              "      <td>-0.112567</td>\n",
              "      <td>31</td>\n",
              "      <td>0</td>\n",
              "      <td>0.695937</td>\n",
              "      <td>2</td>\n",
              "      <td>...</td>\n",
              "      <td>2.088882</td>\n",
              "      <td>-0.710608</td>\n",
              "      <td>-0.710963</td>\n",
              "      <td>1</td>\n",
              "      <td>0</td>\n",
              "      <td>0</td>\n",
              "      <td>0</td>\n",
              "      <td>1</td>\n",
              "      <td>9</td>\n",
              "      <td>132.88</td>\n",
              "    </tr>\n",
              "    <tr>\n",
              "      <th>60427</th>\n",
              "      <td>42</td>\n",
              "      <td>7</td>\n",
              "      <td>2</td>\n",
              "      <td>0.767812</td>\n",
              "      <td>1.109794</td>\n",
              "      <td>1.095634</td>\n",
              "      <td>38</td>\n",
              "      <td>0</td>\n",
              "      <td>0.988376</td>\n",
              "      <td>2</td>\n",
              "      <td>...</td>\n",
              "      <td>2.088882</td>\n",
              "      <td>-0.710608</td>\n",
              "      <td>-0.710963</td>\n",
              "      <td>1</td>\n",
              "      <td>0</td>\n",
              "      <td>0</td>\n",
              "      <td>0</td>\n",
              "      <td>1</td>\n",
              "      <td>3</td>\n",
              "      <td>87.76</td>\n",
              "    </tr>\n",
              "  </tbody>\n",
              "</table>\n",
              "<p>60361 rows × 23 columns</p>\n",
              "</div>\n",
              "      <button class=\"colab-df-convert\" onclick=\"convertToInteractive('df-45ff5476-e478-4827-b083-c2c39f0c12c8')\"\n",
              "              title=\"Convert this dataframe to an interactive table.\"\n",
              "              style=\"display:none;\">\n",
              "        \n",
              "  <svg xmlns=\"http://www.w3.org/2000/svg\" height=\"24px\"viewBox=\"0 0 24 24\"\n",
              "       width=\"24px\">\n",
              "    <path d=\"M0 0h24v24H0V0z\" fill=\"none\"/>\n",
              "    <path d=\"M18.56 5.44l.94 2.06.94-2.06 2.06-.94-2.06-.94-.94-2.06-.94 2.06-2.06.94zm-11 1L8.5 8.5l.94-2.06 2.06-.94-2.06-.94L8.5 2.5l-.94 2.06-2.06.94zm10 10l.94 2.06.94-2.06 2.06-.94-2.06-.94-.94-2.06-.94 2.06-2.06.94z\"/><path d=\"M17.41 7.96l-1.37-1.37c-.4-.4-.92-.59-1.43-.59-.52 0-1.04.2-1.43.59L10.3 9.45l-7.72 7.72c-.78.78-.78 2.05 0 2.83L4 21.41c.39.39.9.59 1.41.59.51 0 1.02-.2 1.41-.59l7.78-7.78 2.81-2.81c.8-.78.8-2.07 0-2.86zM5.41 20L4 18.59l7.72-7.72 1.47 1.35L5.41 20z\"/>\n",
              "  </svg>\n",
              "      </button>\n",
              "      \n",
              "  <style>\n",
              "    .colab-df-container {\n",
              "      display:flex;\n",
              "      flex-wrap:wrap;\n",
              "      gap: 12px;\n",
              "    }\n",
              "\n",
              "    .colab-df-convert {\n",
              "      background-color: #E8F0FE;\n",
              "      border: none;\n",
              "      border-radius: 50%;\n",
              "      cursor: pointer;\n",
              "      display: none;\n",
              "      fill: #1967D2;\n",
              "      height: 32px;\n",
              "      padding: 0 0 0 0;\n",
              "      width: 32px;\n",
              "    }\n",
              "\n",
              "    .colab-df-convert:hover {\n",
              "      background-color: #E2EBFA;\n",
              "      box-shadow: 0px 1px 2px rgba(60, 64, 67, 0.3), 0px 1px 3px 1px rgba(60, 64, 67, 0.15);\n",
              "      fill: #174EA6;\n",
              "    }\n",
              "\n",
              "    [theme=dark] .colab-df-convert {\n",
              "      background-color: #3B4455;\n",
              "      fill: #D2E3FC;\n",
              "    }\n",
              "\n",
              "    [theme=dark] .colab-df-convert:hover {\n",
              "      background-color: #434B5C;\n",
              "      box-shadow: 0px 1px 3px 1px rgba(0, 0, 0, 0.15);\n",
              "      filter: drop-shadow(0px 1px 2px rgba(0, 0, 0, 0.3));\n",
              "      fill: #FFFFFF;\n",
              "    }\n",
              "  </style>\n",
              "\n",
              "      <script>\n",
              "        const buttonEl =\n",
              "          document.querySelector('#df-45ff5476-e478-4827-b083-c2c39f0c12c8 button.colab-df-convert');\n",
              "        buttonEl.style.display =\n",
              "          google.colab.kernel.accessAllowed ? 'block' : 'none';\n",
              "\n",
              "        async function convertToInteractive(key) {\n",
              "          const element = document.querySelector('#df-45ff5476-e478-4827-b083-c2c39f0c12c8');\n",
              "          const dataTable =\n",
              "            await google.colab.kernel.invokeFunction('convertToInteractive',\n",
              "                                                     [key], {});\n",
              "          if (!dataTable) return;\n",
              "\n",
              "          const docLinkHtml = 'Like what you see? Visit the ' +\n",
              "            '<a target=\"_blank\" href=https://colab.research.google.com/notebooks/data_table.ipynb>data table notebook</a>'\n",
              "            + ' to learn more about interactive tables.';\n",
              "          element.innerHTML = '';\n",
              "          dataTable['output_type'] = 'display_data';\n",
              "          await google.colab.output.renderOutput(dataTable, element);\n",
              "          const docLink = document.createElement('div');\n",
              "          docLink.innerHTML = docLinkHtml;\n",
              "          element.appendChild(docLink);\n",
              "        }\n",
              "      </script>\n",
              "    </div>\n",
              "  </div>\n",
              "  "
            ]
          },
          "metadata": {},
          "execution_count": 93
        }
      ]
    },
    {
      "cell_type": "markdown",
      "source": [
        "## modeling"
      ],
      "metadata": {
        "id": "GSJihdKztFTK"
      }
    },
    {
      "cell_type": "code",
      "source": [
        "# seperating dependent and independent variables \n",
        "X = df.drop(labels='cost',axis=1)\n",
        "y = df['cost']"
      ],
      "metadata": {
        "id": "42ze3fh5tGrC"
      },
      "execution_count": 96,
      "outputs": []
    },
    {
      "cell_type": "code",
      "source": [
        "from sklearn.model_selection import train_test_split\n",
        "\n",
        "# split data training dan testing dengan perbandingan masing-masing 80:20\n",
        "X_train, X_test, y_train, y_test = train_test_split(X, y, test_size=0.2, random_state=1)"
      ],
      "metadata": {
        "id": "3SRTDExstx9x"
      },
      "execution_count": 97,
      "outputs": []
    },
    {
      "cell_type": "code",
      "source": [
        "X_train.shape"
      ],
      "metadata": {
        "colab": {
          "base_uri": "https://localhost:8080/"
        },
        "id": "id55IfKWgUGj",
        "outputId": "e491a4c0-be1a-473d-fb6a-e7ee7b312fa0"
      },
      "execution_count": 98,
      "outputs": [
        {
          "output_type": "execute_result",
          "data": {
            "text/plain": [
              "(48288, 22)"
            ]
          },
          "metadata": {},
          "execution_count": 98
        }
      ]
    },
    {
      "cell_type": "code",
      "source": [
        "X_test.shape"
      ],
      "metadata": {
        "colab": {
          "base_uri": "https://localhost:8080/"
        },
        "id": "GwJDiAahge5T",
        "outputId": "64d666fa-b955-4c9f-822b-2ca5b2230349"
      },
      "execution_count": 99,
      "outputs": [
        {
          "output_type": "execute_result",
          "data": {
            "text/plain": [
              "(12073, 22)"
            ]
          },
          "metadata": {},
          "execution_count": 99
        }
      ]
    },
    {
      "cell_type": "code",
      "source": [
        "y_train.shape"
      ],
      "metadata": {
        "colab": {
          "base_uri": "https://localhost:8080/"
        },
        "id": "f5n0K0_Jgi6l",
        "outputId": "79174519-a305-4ae8-a5e5-d8c86db29934"
      },
      "execution_count": 100,
      "outputs": [
        {
          "output_type": "execute_result",
          "data": {
            "text/plain": [
              "(48288,)"
            ]
          },
          "metadata": {},
          "execution_count": 100
        }
      ]
    },
    {
      "cell_type": "code",
      "source": [
        "y_test.shape"
      ],
      "metadata": {
        "colab": {
          "base_uri": "https://localhost:8080/"
        },
        "id": "LvsepQG8gi3P",
        "outputId": "d349347e-0bfa-4afc-a5a3-15d30c5d649a"
      },
      "execution_count": 101,
      "outputs": [
        {
          "output_type": "execute_result",
          "data": {
            "text/plain": [
              "(12073,)"
            ]
          },
          "metadata": {},
          "execution_count": 101
        }
      ]
    },
    {
      "cell_type": "code",
      "source": [
        "df.shape"
      ],
      "metadata": {
        "colab": {
          "base_uri": "https://localhost:8080/"
        },
        "id": "31EpClsPgvGf",
        "outputId": "8b0b8a74-10a7-480b-cfe1-08d983d29e49"
      },
      "execution_count": 102,
      "outputs": [
        {
          "output_type": "execute_result",
          "data": {
            "text/plain": [
              "(60361, 23)"
            ]
          },
          "metadata": {},
          "execution_count": 102
        }
      ]
    },
    {
      "cell_type": "code",
      "source": [
        "from sklearn.metrics import mean_squared_error\n",
        "import math\n",
        "from sklearn.metrics import r2_score"
      ],
      "metadata": {
        "id": "eqKVEraEwi6Q"
      },
      "execution_count": 103,
      "outputs": []
    },
    {
      "cell_type": "markdown",
      "source": [
        "### linear regression"
      ],
      "metadata": {
        "id": "acotOSv-wK8w"
      }
    },
    {
      "cell_type": "code",
      "source": [
        "from sklearn.linear_model import LinearRegression\n",
        "model_linreg = LinearRegression()\n",
        "model_linreg.fit(X_train, y_train)"
      ],
      "metadata": {
        "colab": {
          "base_uri": "https://localhost:8080/"
        },
        "id": "qX9kmccewKa4",
        "outputId": "5aadd3ab-54d0-4e0c-e255-88ed232355f6"
      },
      "execution_count": 104,
      "outputs": [
        {
          "output_type": "execute_result",
          "data": {
            "text/plain": [
              "LinearRegression()"
            ]
          },
          "metadata": {},
          "execution_count": 104
        }
      ]
    },
    {
      "cell_type": "code",
      "source": [
        "#error training Linear Regression\n",
        "predicted_linreg = model_linreg.predict(X_train)\n",
        "print(\"Hasil MSE dari LinearRegression data training\",mean_squared_error(y_train, predicted_linreg))\n",
        "print(\"Hasil RMSE dari LinearRegression data training\", math.sqrt(mean_squared_error(y_train, predicted_linreg)))\n",
        "print('Rsquare Linear Regressor: ', r2_score(y_train, predicted_linreg))"
      ],
      "metadata": {
        "colab": {
          "base_uri": "https://localhost:8080/"
        },
        "id": "xhLvQiGQwcAW",
        "outputId": "e2b71e0d-3025-4a13-d440-9bd8f0467607"
      },
      "execution_count": 105,
      "outputs": [
        {
          "output_type": "stream",
          "name": "stdout",
          "text": [
            "Hasil MSE dari LinearRegression data training 870.0147271449989\n",
            "Hasil RMSE dari LinearRegression data training 29.49601205493717\n",
            "Rsquare Linear Regressor:  0.03271425782849047\n"
          ]
        }
      ]
    },
    {
      "cell_type": "code",
      "source": [
        "#error testing Linear Regression\n",
        "predicted_linreg1 = model_linreg.predict(X_test)\n",
        "print(\"Hasil MSE dari LinearRegression data testing\",mean_squared_error(y_test, predicted_linreg1))\n",
        "print(\"Hasil RMSE dari LinearRegression data testing\", math.sqrt(mean_squared_error(y_test, predicted_linreg1)))\n",
        "print('Rsquare Linear Regressor: ', r2_score(y_test, predicted_linreg1))"
      ],
      "metadata": {
        "colab": {
          "base_uri": "https://localhost:8080/"
        },
        "id": "Z-J1JFNlwgLD",
        "outputId": "236e015f-8c73-4dc5-e8a7-c580a47a49b9"
      },
      "execution_count": 106,
      "outputs": [
        {
          "output_type": "stream",
          "name": "stdout",
          "text": [
            "Hasil MSE dari LinearRegression data testing 872.2784387268556\n",
            "Hasil RMSE dari LinearRegression data testing 29.53436030671488\n",
            "Rsquare Linear Regressor:  0.036980679670279626\n"
          ]
        }
      ]
    },
    {
      "cell_type": "markdown",
      "source": [
        "### xgboost regressor"
      ],
      "metadata": {
        "id": "JhBOx6zXtclG"
      }
    },
    {
      "cell_type": "code",
      "source": [
        "## XGBoost Regressor\n",
        "from xgboost import XGBRegressor\n",
        "import xgboost as xgb\n",
        "\n",
        "model_xgb = XGBRegressor(objective ='reg:linear', colsample_bytree = 0.3, learning_rate = 0.1,\n",
        "                         max_depth = 5, alpha = 10, n_estimators = 1000)\n",
        "model_xgb.fit(X_train, y_train)"
      ],
      "metadata": {
        "colab": {
          "base_uri": "https://localhost:8080/"
        },
        "id": "ZEcgzbZitHKo",
        "outputId": "4be12f6c-243f-47ea-dce3-8f5eda320917"
      },
      "execution_count": 107,
      "outputs": [
        {
          "output_type": "stream",
          "name": "stdout",
          "text": [
            "[08:06:01] WARNING: /workspace/src/objective/regression_obj.cu:152: reg:linear is now deprecated in favor of reg:squarederror.\n"
          ]
        },
        {
          "output_type": "execute_result",
          "data": {
            "text/plain": [
              "XGBRegressor(alpha=10, colsample_bytree=0.3, max_depth=5, n_estimators=1000)"
            ]
          },
          "metadata": {},
          "execution_count": 107
        }
      ]
    },
    {
      "cell_type": "code",
      "source": [
        "#error training XGBoost \n",
        "predicted_xgb = model_xgb.predict(X_train)\n",
        "print(\"Hasil MSE dari XGBoost data training\",mean_squared_error(y_train, predicted_xgb))\n",
        "print(\"Hasil RMSE dari XGBoost data training\", math.sqrt(mean_squared_error(y_train, predicted_xgb)))\n",
        "print('Rsquare XGBoost: ', r2_score(y_train, predicted_xgb))"
      ],
      "metadata": {
        "colab": {
          "base_uri": "https://localhost:8080/"
        },
        "id": "mGPxd9f4tHDG",
        "outputId": "7d5e3dd6-3699-4ea4-d932-1c02aef68cc2"
      },
      "execution_count": 108,
      "outputs": [
        {
          "output_type": "stream",
          "name": "stdout",
          "text": [
            "Hasil MSE dari XGBoost data training 6.8362988634528845\n",
            "Hasil RMSE dari XGBoost data training 2.6146316879156966\n",
            "Rsquare XGBoost:  0.992399376454763\n"
          ]
        }
      ]
    },
    {
      "cell_type": "code",
      "source": [
        "#error testing XGBoost\n",
        "predicted_xgb1 = model_xgb.predict(X_test)\n",
        "print(\"Hasil MSE dari XGBoost data testing\",mean_squared_error(y_test, predicted_xgb1))\n",
        "print(\"Hasil RMSE dari XGBoost data testing\", math.sqrt(mean_squared_error(y_test, predicted_xgb1)))\n",
        "print('Rsquare XGBoost: ', r2_score(y_test, predicted_xgb1))"
      ],
      "metadata": {
        "colab": {
          "base_uri": "https://localhost:8080/"
        },
        "id": "JmjQTW5kxSPt",
        "outputId": "8a6ca76b-88de-42c4-f528-30937eeeb649"
      },
      "execution_count": 109,
      "outputs": [
        {
          "output_type": "stream",
          "name": "stdout",
          "text": [
            "Hasil MSE dari XGBoost data testing 9.988943818035569\n",
            "Hasil RMSE dari XGBoost data testing 3.160529040846733\n",
            "Rsquare XGBoost:  0.9889719320581892\n"
          ]
        }
      ]
    },
    {
      "cell_type": "markdown",
      "source": [
        "### decision tree regressor"
      ],
      "metadata": {
        "id": "eG26eKIBxgRR"
      }
    },
    {
      "cell_type": "code",
      "source": [
        "## Decision Tree Regressor\n",
        "from sklearn.tree import DecisionTreeRegressor\n",
        "model_dtr = DecisionTreeRegressor()\n",
        "model_dtr.fit(X_train, y_train)"
      ],
      "metadata": {
        "colab": {
          "base_uri": "https://localhost:8080/"
        },
        "id": "HFZEyQ6cxSMV",
        "outputId": "8e214e0d-b20d-4cfc-bd16-02f355617aab"
      },
      "execution_count": 110,
      "outputs": [
        {
          "output_type": "execute_result",
          "data": {
            "text/plain": [
              "DecisionTreeRegressor()"
            ]
          },
          "metadata": {},
          "execution_count": 110
        }
      ]
    },
    {
      "cell_type": "code",
      "source": [
        "#error training DTR\n",
        "predicted_dtr = model_dtr.predict(X_train)\n",
        "print(\"Hasil MSE dari DecisionTree data training\",mean_squared_error(y_train, predicted_dtr))\n",
        "print(\"Hasil RMSE dari DecisionTree data training\", math.sqrt(mean_squared_error(y_train, predicted_dtr)))\n",
        "print('Rsquare DecisionTree: ', r2_score(y_train, predicted_dtr))"
      ],
      "metadata": {
        "colab": {
          "base_uri": "https://localhost:8080/"
        },
        "id": "BTi4FRF0xnPX",
        "outputId": "983bce30-f991-40e5-951e-bd674f1011f2"
      },
      "execution_count": 111,
      "outputs": [
        {
          "output_type": "stream",
          "name": "stdout",
          "text": [
            "Hasil MSE dari DecisionTree data training 8.649919630710328e-26\n",
            "Hasil RMSE dari DecisionTree data training 2.9410745707496654e-13\n",
            "Rsquare DecisionTree:  1.0\n"
          ]
        }
      ]
    },
    {
      "cell_type": "code",
      "source": [
        "#error testing DTR\n",
        "predicted_dtr1 = model_dtr.predict(X_test)\n",
        "print(\"Hasil MSE dari DecisionTree data testing\",mean_squared_error(y_test, predicted_dtr1))\n",
        "print(\"Hasil RMSE dari DecisionTree data testing\", math.sqrt(mean_squared_error(y_test, predicted_dtr1)))\n",
        "print('Rsquare DecisionTree: ', r2_score(y_test, predicted_dtr1))"
      ],
      "metadata": {
        "colab": {
          "base_uri": "https://localhost:8080/"
        },
        "id": "C3AnUmJTxn2m",
        "outputId": "29eab44c-8d89-47eb-f31c-a03a8b350947"
      },
      "execution_count": 112,
      "outputs": [
        {
          "output_type": "stream",
          "name": "stdout",
          "text": [
            "Hasil MSE dari DecisionTree data testing 3.312774223473868\n",
            "Hasil RMSE dari DecisionTree data testing 1.82010280574309\n",
            "Rsquare DecisionTree:  0.996342606397847\n"
          ]
        }
      ]
    },
    {
      "cell_type": "markdown",
      "source": [
        "### support vector regressor"
      ],
      "metadata": {
        "id": "-QV_nChvx-XW"
      }
    },
    {
      "cell_type": "code",
      "source": [
        "## support vector regressor\n",
        "from sklearn.svm import SVR\n",
        "model_svm = SVR()\n",
        "model_svm.fit(X_train, y_train)"
      ],
      "metadata": {
        "colab": {
          "base_uri": "https://localhost:8080/"
        },
        "id": "vL8UoMLyyCp5",
        "outputId": "d0e6379f-faf1-42e3-ad20-1b5e393322a1"
      },
      "execution_count": 113,
      "outputs": [
        {
          "output_type": "execute_result",
          "data": {
            "text/plain": [
              "SVR()"
            ]
          },
          "metadata": {},
          "execution_count": 113
        }
      ]
    },
    {
      "cell_type": "code",
      "source": [
        "#error training support vector regressor\n",
        "predicted_svm = model_svm.predict(X_train)\n",
        "print(\"Hasil MSE dari SupportVectorRegressor data training\",mean_squared_error(y_train, predicted_svm))\n",
        "print(\"Hasil RMSE dari SupportVectorRegressor data training\", math.sqrt(mean_squared_error(y_train, predicted_svm)))\n",
        "print('Rsquare SupportVectorRegressor: ', r2_score(y_train, predicted_svm))"
      ],
      "metadata": {
        "colab": {
          "base_uri": "https://localhost:8080/"
        },
        "id": "WUDDmRZ9Dx79",
        "outputId": "7303092c-86b1-4bdc-b0d5-4437f8149595"
      },
      "execution_count": 114,
      "outputs": [
        {
          "output_type": "stream",
          "name": "stdout",
          "text": [
            "Hasil MSE dari SupportVectorRegressor data training 884.4719216764912\n",
            "Hasil RMSE dari SupportVectorRegressor data training 29.74007265755232\n",
            "Rsquare SupportVectorRegressor:  0.0166406929728673\n"
          ]
        }
      ]
    },
    {
      "cell_type": "code",
      "source": [
        "#error testing support vector regressor\n",
        "predicted_svm1 = model_svm.predict(X_test)\n",
        "print(\"Hasil MSE dari SupportVectorRegressor data testing\",mean_squared_error(y_test, predicted_svm1))\n",
        "print(\"Hasil RMSE dari SupportVectorRegressor data testing\", math.sqrt(mean_squared_error(y_test, predicted_svm1)))\n",
        "print('Rsquare SupportVectorRegressor : ', r2_score(y_test, predicted_svm1))"
      ],
      "metadata": {
        "colab": {
          "base_uri": "https://localhost:8080/"
        },
        "id": "-85TCcgNyDKK",
        "outputId": "c0342762-ef13-4cf2-80b5-bbf7c92f460d"
      },
      "execution_count": 115,
      "outputs": [
        {
          "output_type": "stream",
          "name": "stdout",
          "text": [
            "Hasil MSE dari SupportVectorRegressor data testing 892.6283798440253\n",
            "Hasil RMSE dari SupportVectorRegressor data testing 29.87688705076259\n",
            "Rsquare SupportVectorRegressor :  0.014513786539216866\n"
          ]
        }
      ]
    },
    {
      "cell_type": "markdown",
      "source": [
        "### random forest"
      ],
      "metadata": {
        "id": "LoeBcqV5CgIJ"
      }
    },
    {
      "cell_type": "code",
      "source": [
        "# random forest regressor\n",
        "from sklearn.ensemble import RandomForestRegressor\n",
        "model_rf = RandomForestRegressor()\n",
        "model_rf.fit(X_train, y_train)"
      ],
      "metadata": {
        "id": "-yHsGEFLCiUN",
        "colab": {
          "base_uri": "https://localhost:8080/"
        },
        "outputId": "aaace2d0-ea97-4251-a0bf-34657b5bd322"
      },
      "execution_count": 116,
      "outputs": [
        {
          "output_type": "execute_result",
          "data": {
            "text/plain": [
              "RandomForestRegressor()"
            ]
          },
          "metadata": {},
          "execution_count": 116
        }
      ]
    },
    {
      "cell_type": "code",
      "source": [
        "#error training random forest\n",
        "predicted_rf = model_rf.predict(X_train)\n",
        "print(\"Hasil MSE dari RandomForest data training\",mean_squared_error(y_train, predicted_rf))\n",
        "print(\"Hasil RMSE dari RandomForest data training\", math.sqrt(mean_squared_error(y_train, predicted_rf)))\n",
        "print('Rsquare RandomForest : ', r2_score(y_train, predicted_rf))"
      ],
      "metadata": {
        "colab": {
          "base_uri": "https://localhost:8080/"
        },
        "id": "ARYJRSNwCid1",
        "outputId": "837606f8-e820-41c8-9a68-d1a9fe4ab79d"
      },
      "execution_count": 117,
      "outputs": [
        {
          "output_type": "stream",
          "name": "stdout",
          "text": [
            "Hasil MSE dari RandomForest data training 0.27924295008532646\n",
            "Hasil RMSE dari RandomForest data training 0.5284344330996291\n",
            "Rsquare RandomForest :  0.9996895366069195\n"
          ]
        }
      ]
    },
    {
      "cell_type": "code",
      "source": [
        "#error testing random forest\n",
        "predicted_rf1 = model_rf.predict(X_test)\n",
        "print(\"Hasil MSE dari RandomForest data testing\",mean_squared_error(y_test, predicted_rf1))\n",
        "print(\"Hasil RMSE dari RandomForest data testing\", math.sqrt(mean_squared_error(y_test, predicted_rf1)))\n",
        "print('Rsquare RandomForest : ', r2_score(y_test, predicted_rf1))"
      ],
      "metadata": {
        "id": "BWL9Z6_pCiai",
        "colab": {
          "base_uri": "https://localhost:8080/"
        },
        "outputId": "41770ff7-ec96-46df-c2d6-8cb511f53436"
      },
      "execution_count": 118,
      "outputs": [
        {
          "output_type": "stream",
          "name": "stdout",
          "text": [
            "Hasil MSE dari RandomForest data testing 1.5735921231061036\n",
            "Hasil RMSE dari RandomForest data testing 1.2544290028160636\n",
            "Rsquare RandomForest :  0.9982627111371896\n"
          ]
        }
      ]
    },
    {
      "cell_type": "markdown",
      "source": [
        "## evaluation"
      ],
      "metadata": {
        "id": "JfuI8FdfBTup"
      }
    },
    {
      "cell_type": "code",
      "source": [
        "print('Linear Regressor R2 Score on Validation set :', r2_score(y_test, predicted_linreg1))\n",
        "print('XGBoost R2 Score on Validation set :', r2_score(y_test, predicted_xgb1))\n",
        "print('DecisionTree R2 Score on Validation set :', r2_score(y_test, predicted_dtr1))\n",
        "print('SupportVectorRegressor R2 Score on Validation set :', r2_score(y_test, predicted_svm1))\n",
        "print('Random Forest R2 Score on Validation set :', r2_score(y_test, predicted_rf1))"
      ],
      "metadata": {
        "colab": {
          "base_uri": "https://localhost:8080/"
        },
        "id": "t0ZyKf-7-Ztk",
        "outputId": "869f32ab-ac2b-4e75-c80b-6f8c59e80933"
      },
      "execution_count": 119,
      "outputs": [
        {
          "output_type": "stream",
          "name": "stdout",
          "text": [
            "Linear Regressor R2 Score on Validation set : 0.036980679670279626\n",
            "XGBoost R2 Score on Validation set : 0.9889719320581892\n",
            "DecisionTree R2 Score on Validation set : 0.996342606397847\n",
            "SupportVectorRegressor R2 Score on Validation set : 0.014513786539216866\n",
            "Random Forest R2 Score on Validation set : 0.9982627111371896\n"
          ]
        }
      ]
    },
    {
      "cell_type": "markdown",
      "source": [
        "Berdasarkan nilai Rsquare tertinggi, maka model terbaik yaitu Random Forest"
      ],
      "metadata": {
        "id": "EEMPv5lhBhxN"
      }
    },
    {
      "cell_type": "markdown",
      "source": [
        "### perbandingan model"
      ],
      "metadata": {
        "id": "WQ-TpL3Z6r6a"
      }
    },
    {
      "cell_type": "code",
      "source": [
        "prediksi= {\"nilai aktual\": y_test, \"nilai prediksi regresi linear\": predicted_linreg1, \"nilai prediksi xgboost\": predicted_xgb1, \"nilai prediksi decision tree\": predicted_dtr1, \"nilai prediksi support vector\": predicted_svm1, \"nilai prediksi random forest\": predicted_rf1}\n",
        "prediksi_df = pd.DataFrame(prediksi)\n",
        "prediksi_df = prediksi_df.reset_index(drop=True)\n",
        "prediksi_df"
      ],
      "metadata": {
        "colab": {
          "base_uri": "https://localhost:8080/",
          "height": 485
        },
        "id": "So0vBCgd3E8X",
        "outputId": "edda2120-5586-4823-c948-57de50540d73"
      },
      "execution_count": 120,
      "outputs": [
        {
          "output_type": "execute_result",
          "data": {
            "text/plain": [
              "       nilai aktual  nilai prediksi regresi linear  nilai prediksi xgboost  \\\n",
              "0             65.70                      91.811156               65.863014   \n",
              "1             68.15                     100.091410               66.794624   \n",
              "2            103.65                     100.127702              113.403725   \n",
              "3            121.44                     102.001495              121.304512   \n",
              "4             81.85                     104.087019               81.996071   \n",
              "...             ...                            ...                     ...   \n",
              "12068        131.75                      90.062464              126.889175   \n",
              "12069         68.97                      97.457408               71.768250   \n",
              "12070         89.37                      98.108370               91.370544   \n",
              "12071        140.57                     104.393948              138.887436   \n",
              "12072        145.31                     109.368160              143.277359   \n",
              "\n",
              "       nilai prediksi decision tree  nilai prediksi support vector  \\\n",
              "0                             65.70                      91.975268   \n",
              "1                             68.15                      96.151099   \n",
              "2                            103.65                      86.716689   \n",
              "3                            121.44                     104.948062   \n",
              "4                             81.85                     104.953983   \n",
              "...                             ...                            ...   \n",
              "12068                        131.75                      93.708774   \n",
              "12069                         68.97                     113.341409   \n",
              "12070                         89.37                     100.984575   \n",
              "12071                        140.57                     104.154396   \n",
              "12072                        145.31                     104.506793   \n",
              "\n",
              "       nilai prediksi random forest  \n",
              "0                             65.70  \n",
              "1                             68.15  \n",
              "2                            103.65  \n",
              "3                            121.44  \n",
              "4                             81.85  \n",
              "...                             ...  \n",
              "12068                        131.75  \n",
              "12069                         68.97  \n",
              "12070                         89.37  \n",
              "12071                        140.57  \n",
              "12072                        145.31  \n",
              "\n",
              "[12073 rows x 6 columns]"
            ],
            "text/html": [
              "\n",
              "  <div id=\"df-95ffdbdb-c26d-4ae7-a7ec-4e1442d698e5\">\n",
              "    <div class=\"colab-df-container\">\n",
              "      <div>\n",
              "<style scoped>\n",
              "    .dataframe tbody tr th:only-of-type {\n",
              "        vertical-align: middle;\n",
              "    }\n",
              "\n",
              "    .dataframe tbody tr th {\n",
              "        vertical-align: top;\n",
              "    }\n",
              "\n",
              "    .dataframe thead th {\n",
              "        text-align: right;\n",
              "    }\n",
              "</style>\n",
              "<table border=\"1\" class=\"dataframe\">\n",
              "  <thead>\n",
              "    <tr style=\"text-align: right;\">\n",
              "      <th></th>\n",
              "      <th>nilai aktual</th>\n",
              "      <th>nilai prediksi regresi linear</th>\n",
              "      <th>nilai prediksi xgboost</th>\n",
              "      <th>nilai prediksi decision tree</th>\n",
              "      <th>nilai prediksi support vector</th>\n",
              "      <th>nilai prediksi random forest</th>\n",
              "    </tr>\n",
              "  </thead>\n",
              "  <tbody>\n",
              "    <tr>\n",
              "      <th>0</th>\n",
              "      <td>65.70</td>\n",
              "      <td>91.811156</td>\n",
              "      <td>65.863014</td>\n",
              "      <td>65.70</td>\n",
              "      <td>91.975268</td>\n",
              "      <td>65.70</td>\n",
              "    </tr>\n",
              "    <tr>\n",
              "      <th>1</th>\n",
              "      <td>68.15</td>\n",
              "      <td>100.091410</td>\n",
              "      <td>66.794624</td>\n",
              "      <td>68.15</td>\n",
              "      <td>96.151099</td>\n",
              "      <td>68.15</td>\n",
              "    </tr>\n",
              "    <tr>\n",
              "      <th>2</th>\n",
              "      <td>103.65</td>\n",
              "      <td>100.127702</td>\n",
              "      <td>113.403725</td>\n",
              "      <td>103.65</td>\n",
              "      <td>86.716689</td>\n",
              "      <td>103.65</td>\n",
              "    </tr>\n",
              "    <tr>\n",
              "      <th>3</th>\n",
              "      <td>121.44</td>\n",
              "      <td>102.001495</td>\n",
              "      <td>121.304512</td>\n",
              "      <td>121.44</td>\n",
              "      <td>104.948062</td>\n",
              "      <td>121.44</td>\n",
              "    </tr>\n",
              "    <tr>\n",
              "      <th>4</th>\n",
              "      <td>81.85</td>\n",
              "      <td>104.087019</td>\n",
              "      <td>81.996071</td>\n",
              "      <td>81.85</td>\n",
              "      <td>104.953983</td>\n",
              "      <td>81.85</td>\n",
              "    </tr>\n",
              "    <tr>\n",
              "      <th>...</th>\n",
              "      <td>...</td>\n",
              "      <td>...</td>\n",
              "      <td>...</td>\n",
              "      <td>...</td>\n",
              "      <td>...</td>\n",
              "      <td>...</td>\n",
              "    </tr>\n",
              "    <tr>\n",
              "      <th>12068</th>\n",
              "      <td>131.75</td>\n",
              "      <td>90.062464</td>\n",
              "      <td>126.889175</td>\n",
              "      <td>131.75</td>\n",
              "      <td>93.708774</td>\n",
              "      <td>131.75</td>\n",
              "    </tr>\n",
              "    <tr>\n",
              "      <th>12069</th>\n",
              "      <td>68.97</td>\n",
              "      <td>97.457408</td>\n",
              "      <td>71.768250</td>\n",
              "      <td>68.97</td>\n",
              "      <td>113.341409</td>\n",
              "      <td>68.97</td>\n",
              "    </tr>\n",
              "    <tr>\n",
              "      <th>12070</th>\n",
              "      <td>89.37</td>\n",
              "      <td>98.108370</td>\n",
              "      <td>91.370544</td>\n",
              "      <td>89.37</td>\n",
              "      <td>100.984575</td>\n",
              "      <td>89.37</td>\n",
              "    </tr>\n",
              "    <tr>\n",
              "      <th>12071</th>\n",
              "      <td>140.57</td>\n",
              "      <td>104.393948</td>\n",
              "      <td>138.887436</td>\n",
              "      <td>140.57</td>\n",
              "      <td>104.154396</td>\n",
              "      <td>140.57</td>\n",
              "    </tr>\n",
              "    <tr>\n",
              "      <th>12072</th>\n",
              "      <td>145.31</td>\n",
              "      <td>109.368160</td>\n",
              "      <td>143.277359</td>\n",
              "      <td>145.31</td>\n",
              "      <td>104.506793</td>\n",
              "      <td>145.31</td>\n",
              "    </tr>\n",
              "  </tbody>\n",
              "</table>\n",
              "<p>12073 rows × 6 columns</p>\n",
              "</div>\n",
              "      <button class=\"colab-df-convert\" onclick=\"convertToInteractive('df-95ffdbdb-c26d-4ae7-a7ec-4e1442d698e5')\"\n",
              "              title=\"Convert this dataframe to an interactive table.\"\n",
              "              style=\"display:none;\">\n",
              "        \n",
              "  <svg xmlns=\"http://www.w3.org/2000/svg\" height=\"24px\"viewBox=\"0 0 24 24\"\n",
              "       width=\"24px\">\n",
              "    <path d=\"M0 0h24v24H0V0z\" fill=\"none\"/>\n",
              "    <path d=\"M18.56 5.44l.94 2.06.94-2.06 2.06-.94-2.06-.94-.94-2.06-.94 2.06-2.06.94zm-11 1L8.5 8.5l.94-2.06 2.06-.94-2.06-.94L8.5 2.5l-.94 2.06-2.06.94zm10 10l.94 2.06.94-2.06 2.06-.94-2.06-.94-.94-2.06-.94 2.06-2.06.94z\"/><path d=\"M17.41 7.96l-1.37-1.37c-.4-.4-.92-.59-1.43-.59-.52 0-1.04.2-1.43.59L10.3 9.45l-7.72 7.72c-.78.78-.78 2.05 0 2.83L4 21.41c.39.39.9.59 1.41.59.51 0 1.02-.2 1.41-.59l7.78-7.78 2.81-2.81c.8-.78.8-2.07 0-2.86zM5.41 20L4 18.59l7.72-7.72 1.47 1.35L5.41 20z\"/>\n",
              "  </svg>\n",
              "      </button>\n",
              "      \n",
              "  <style>\n",
              "    .colab-df-container {\n",
              "      display:flex;\n",
              "      flex-wrap:wrap;\n",
              "      gap: 12px;\n",
              "    }\n",
              "\n",
              "    .colab-df-convert {\n",
              "      background-color: #E8F0FE;\n",
              "      border: none;\n",
              "      border-radius: 50%;\n",
              "      cursor: pointer;\n",
              "      display: none;\n",
              "      fill: #1967D2;\n",
              "      height: 32px;\n",
              "      padding: 0 0 0 0;\n",
              "      width: 32px;\n",
              "    }\n",
              "\n",
              "    .colab-df-convert:hover {\n",
              "      background-color: #E2EBFA;\n",
              "      box-shadow: 0px 1px 2px rgba(60, 64, 67, 0.3), 0px 1px 3px 1px rgba(60, 64, 67, 0.15);\n",
              "      fill: #174EA6;\n",
              "    }\n",
              "\n",
              "    [theme=dark] .colab-df-convert {\n",
              "      background-color: #3B4455;\n",
              "      fill: #D2E3FC;\n",
              "    }\n",
              "\n",
              "    [theme=dark] .colab-df-convert:hover {\n",
              "      background-color: #434B5C;\n",
              "      box-shadow: 0px 1px 3px 1px rgba(0, 0, 0, 0.15);\n",
              "      filter: drop-shadow(0px 1px 2px rgba(0, 0, 0, 0.3));\n",
              "      fill: #FFFFFF;\n",
              "    }\n",
              "  </style>\n",
              "\n",
              "      <script>\n",
              "        const buttonEl =\n",
              "          document.querySelector('#df-95ffdbdb-c26d-4ae7-a7ec-4e1442d698e5 button.colab-df-convert');\n",
              "        buttonEl.style.display =\n",
              "          google.colab.kernel.accessAllowed ? 'block' : 'none';\n",
              "\n",
              "        async function convertToInteractive(key) {\n",
              "          const element = document.querySelector('#df-95ffdbdb-c26d-4ae7-a7ec-4e1442d698e5');\n",
              "          const dataTable =\n",
              "            await google.colab.kernel.invokeFunction('convertToInteractive',\n",
              "                                                     [key], {});\n",
              "          if (!dataTable) return;\n",
              "\n",
              "          const docLinkHtml = 'Like what you see? Visit the ' +\n",
              "            '<a target=\"_blank\" href=https://colab.research.google.com/notebooks/data_table.ipynb>data table notebook</a>'\n",
              "            + ' to learn more about interactive tables.';\n",
              "          element.innerHTML = '';\n",
              "          dataTable['output_type'] = 'display_data';\n",
              "          await google.colab.output.renderOutput(dataTable, element);\n",
              "          const docLink = document.createElement('div');\n",
              "          docLink.innerHTML = docLinkHtml;\n",
              "          element.appendChild(docLink);\n",
              "        }\n",
              "      </script>\n",
              "    </div>\n",
              "  </div>\n",
              "  "
            ]
          },
          "metadata": {},
          "execution_count": 120
        }
      ]
    },
    {
      "cell_type": "code",
      "source": [
        "prediksi_df.max()"
      ],
      "metadata": {
        "colab": {
          "base_uri": "https://localhost:8080/"
        },
        "id": "r4ChccD75XZh",
        "outputId": "d30fe2eb-ddf0-44ec-c39e-a35d3bed0361"
      },
      "execution_count": 121,
      "outputs": [
        {
          "output_type": "execute_result",
          "data": {
            "text/plain": [
              "nilai aktual                     149.750000\n",
              "nilai prediksi regresi linear    117.650783\n",
              "nilai prediksi xgboost           153.421814\n",
              "nilai prediksi decision tree     149.750000\n",
              "nilai prediksi support vector    118.162642\n",
              "nilai prediksi random forest     149.080000\n",
              "dtype: float64"
            ]
          },
          "metadata": {},
          "execution_count": 121
        }
      ]
    },
    {
      "cell_type": "code",
      "source": [
        "prediksi_df.min()"
      ],
      "metadata": {
        "colab": {
          "base_uri": "https://localhost:8080/"
        },
        "id": "zvmQShPA5cat",
        "outputId": "3a658544-9522-4c95-baeb-6fa233250208"
      },
      "execution_count": 122,
      "outputs": [
        {
          "output_type": "execute_result",
          "data": {
            "text/plain": [
              "nilai aktual                     50.790000\n",
              "nilai prediksi regresi linear    86.887025\n",
              "nilai prediksi xgboost           48.398613\n",
              "nilai prediksi decision tree     50.790000\n",
              "nilai prediksi support vector    77.873328\n",
              "nilai prediksi random forest     50.790000\n",
              "dtype: float64"
            ]
          },
          "metadata": {},
          "execution_count": 122
        }
      ]
    },
    {
      "cell_type": "code",
      "source": [
        "prediksi = pd.DataFrame({\"nilai aktual\": y_test, \"nilai prediksi regresi linear\": predicted_linreg1, \"nilai prediksi xgboost\": predicted_xgb1, \"nilai prediksi decision tree\": predicted_dtr1, \"nilai prediksi support vector\": predicted_svm1, \"nilai prediksi random forest\": predicted_rf1})\n",
        "figs=plt.figure(figsize=(16,9))\n",
        "prediksi = prediksi.reset_index(drop=True)\n",
        "plt.plot(prediksi[:25])\n",
        "plt.legend([\"nilai aktual\", \"nilai prediksi regresi linear\", \"nilai prediksi xgboost\", \"nilai prediksi decision tree\", \"nilai prediksi support vector\", \"nilai prediksi random forest\"])\n",
        "plt.title(\"nilai aktual dan prediksi cost\")\n",
        "plt.ylim(45,160)\n",
        "plt.show()"
      ],
      "metadata": {
        "colab": {
          "base_uri": "https://localhost:8080/",
          "height": 553
        },
        "id": "hvqyA3wb4oF1",
        "outputId": "85207f06-672c-4fa1-c339-eafb1b671867"
      },
      "execution_count": 123,
      "outputs": [
        {
          "output_type": "display_data",
          "data": {
            "text/plain": [
              "<Figure size 1152x648 with 1 Axes>"
            ],
            "image/png": "[encoded data removed]"
          },
          "metadata": {
            "needs_background": "light"
          }
        }
      ]
    },
    {
      "cell_type": "markdown",
      "source": [
        "### prediction"
      ],
      "metadata": {
        "id": "waWs46nXz1PJ"
      }
    },
    {
      "cell_type": "code",
      "source": [
        "# mencari pengaruh jenis promosi\n",
        "# masukin angka\n",
        "\n",
        "newbusiness = []   \n",
        "newbusiness.append({'food_category':4, 'food_department':12, 'food_family':1,'store_sales(in millions)':7.36,'store_cost(in millions)':2.7232,\n",
        "                    'unit_sales(in millions)':4, 'promotion_name':0,'sales_country':2,'units_per_case':17, 'store_type':0,\n",
        "                    'store_city':12, 'store_state':5,'store_sqft':27694,'grocery_sqft':18670, 'frozen_sqft':5415,\n",
        "                    'meat_sqft':3610, 'coffee_bar':1, 'video_store':1, 'salad_bar':1, 'prepared_food':1,\n",
        "                    'florist':1, 'media_type':3\n",
        "                    })   \n",
        "newbusiness.append({'food_category':4, 'food_department':12, 'food_family':1,'store_sales(in millions)':7.36,'store_cost(in millions)':2.7232,\n",
        "                    'unit_sales(in millions)':4, 'promotion_name':6,'sales_country':2,'units_per_case':17, 'store_type':0,\n",
        "                    'store_city':12, 'store_state':5,'store_sqft':27694,'grocery_sqft':18670, 'frozen_sqft':5415,\n",
        "                    'meat_sqft':3610, 'coffee_bar':1, 'video_store':1, 'salad_bar':1, 'prepared_food':1,\n",
        "                    'florist':1, 'media_type':3\n",
        "                    }) \n",
        "newbusiness.append({'food_category':4, 'food_department':12, 'food_family':1,'store_sales(in millions)':7.36,'store_cost(in millions)':2.7232,\n",
        "                    'unit_sales(in millions)':4, 'promotion_name':18,'sales_country':2,'units_per_case':17, 'store_type':0,\n",
        "                    'store_city':12, 'store_state':5,'store_sqft':27694,'grocery_sqft':18670, 'frozen_sqft':5415,\n",
        "                    'meat_sqft':3610, 'coffee_bar':1, 'video_store':1, 'salad_bar':1, 'prepared_food':1,\n",
        "                    'florist':1, 'media_type':3\n",
        "                    }) \n",
        "newbusiness.append({'food_category':4, 'food_department':12, 'food_family':1,'store_sales(in millions)':7.36,'store_cost(in millions)':2.7232,\n",
        "                    'unit_sales(in millions)':4, 'promotion_name':11,'sales_country':2,'units_per_case':17, 'store_type':0,\n",
        "                    'store_city':12, 'store_state':5,'store_sqft':27694,'grocery_sqft':18670, 'frozen_sqft':5415,\n",
        "                    'meat_sqft':3610, 'coffee_bar':1, 'video_store':1, 'salad_bar':1, 'prepared_food':1,\n",
        "                    'florist':1, 'media_type':3\n",
        "                    }) \n",
        "newbusiness.append({'food_category':4, 'food_department':12, 'food_family':1,'store_sales(in millions)':7.36,'store_cost(in millions)':2.7232,\n",
        "                    'unit_sales(in millions)':4, 'promotion_name':16,'sales_country':2,'units_per_case':17, 'store_type':0,\n",
        "                    'store_city':12, 'store_state':5,'store_sqft':27694,'grocery_sqft':18670, 'frozen_sqft':5415,\n",
        "                    'meat_sqft':3610, 'coffee_bar':1, 'video_store':1, 'salad_bar':1, 'prepared_food':1,\n",
        "                    'florist':1, 'media_type':3\n",
        "                    }) \n",
        "newbusiness.append({'food_category':4, 'food_department':12, 'food_family':1,'store_sales(in millions)':7.36,'store_cost(in millions)':2.7232,\n",
        "                    'unit_sales(in millions)':4, 'promotion_name':0,'sales_country':2,'units_per_case':17, 'store_type':0,\n",
        "                    'store_city':12, 'store_state':5,'store_sqft':27694,'grocery_sqft':18670, 'frozen_sqft':5415,\n",
        "                    'meat_sqft':3610, 'coffee_bar':1, 'video_store':1, 'salad_bar':1, 'prepared_food':1,\n",
        "                    'florist':1, 'media_type':3\n",
        "                    }) \n",
        "newbusiness = pd.DataFrame(newbusiness)\n"
      ],
      "metadata": {
        "id": "aeg0UV11wvXv"
      },
      "execution_count": 126,
      "outputs": []
    },
    {
      "cell_type": "markdown",
      "source": [
        "Keterangan promotion_name \n",
        "\n",
        "0: Bag Stuffers\n",
        "\n",
        "6 : Cash Register Lottery\n",
        "\n",
        "18 : High Roller Savings\n",
        "\n",
        "11 : Double Down Sale\n",
        "\n",
        "16 : Green Light Days\n"
      ],
      "metadata": {
        "id": "XPM9nqvsBCiR"
      }
    },
    {
      "cell_type": "code",
      "source": [
        "newbusiness"
      ],
      "metadata": {
        "colab": {
          "base_uri": "https://localhost:8080/",
          "height": 348
        },
        "id": "pZHeMli6PdfT",
        "outputId": "b9c5fc92-2587-46a1-f30a-268bc2ebc826"
      },
      "execution_count": 127,
      "outputs": [
        {
          "output_type": "execute_result",
          "data": {
            "text/plain": [
              "   food_category  food_department  food_family  store_sales(in millions)  \\\n",
              "0              4               12            1                      7.36   \n",
              "1              4               12            1                      7.36   \n",
              "2              4               12            1                      7.36   \n",
              "3              4               12            1                      7.36   \n",
              "4              4               12            1                      7.36   \n",
              "5              4               12            1                      7.36   \n",
              "\n",
              "   store_cost(in millions)  unit_sales(in millions)  promotion_name  \\\n",
              "0                   2.7232                        4               0   \n",
              "1                   2.7232                        4               6   \n",
              "2                   2.7232                        4              18   \n",
              "3                   2.7232                        4              11   \n",
              "4                   2.7232                        4              16   \n",
              "5                   2.7232                        4               0   \n",
              "\n",
              "   sales_country  units_per_case  store_type  ...  store_sqft  grocery_sqft  \\\n",
              "0              2              17           0  ...       27694         18670   \n",
              "1              2              17           0  ...       27694         18670   \n",
              "2              2              17           0  ...       27694         18670   \n",
              "3              2              17           0  ...       27694         18670   \n",
              "4              2              17           0  ...       27694         18670   \n",
              "5              2              17           0  ...       27694         18670   \n",
              "\n",
              "   frozen_sqft  meat_sqft  coffee_bar  video_store  salad_bar  prepared_food  \\\n",
              "0         5415       3610           1            1          1              1   \n",
              "1         5415       3610           1            1          1              1   \n",
              "2         5415       3610           1            1          1              1   \n",
              "3         5415       3610           1            1          1              1   \n",
              "4         5415       3610           1            1          1              1   \n",
              "5         5415       3610           1            1          1              1   \n",
              "\n",
              "   florist  media_type  \n",
              "0        1           3  \n",
              "1        1           3  \n",
              "2        1           3  \n",
              "3        1           3  \n",
              "4        1           3  \n",
              "5        1           3  \n",
              "\n",
              "[6 rows x 22 columns]"
            ],
            "text/html": [
              "\n",
              "  <div id=\"df-36267a73-3008-429d-ae2a-5bc4b89d5c79\">\n",
              "    <div class=\"colab-df-container\">\n",
              "      <div>\n",
              "<style scoped>\n",
              "    .dataframe tbody tr th:only-of-type {\n",
              "        vertical-align: middle;\n",
              "    }\n",
              "\n",
              "    .dataframe tbody tr th {\n",
              "        vertical-align: top;\n",
              "    }\n",
              "\n",
              "    .dataframe thead th {\n",
              "        text-align: right;\n",
              "    }\n",
              "</style>\n",
              "<table border=\"1\" class=\"dataframe\">\n",
              "  <thead>\n",
              "    <tr style=\"text-align: right;\">\n",
              "      <th></th>\n",
              "      <th>food_category</th>\n",
              "      <th>food_department</th>\n",
              "      <th>food_family</th>\n",
              "      <th>store_sales(in millions)</th>\n",
              "      <th>store_cost(in millions)</th>\n",
              "      <th>unit_sales(in millions)</th>\n",
              "      <th>promotion_name</th>\n",
              "      <th>sales_country</th>\n",
              "      <th>units_per_case</th>\n",
              "      <th>store_type</th>\n",
              "      <th>...</th>\n",
              "      <th>store_sqft</th>\n",
              "      <th>grocery_sqft</th>\n",
              "      <th>frozen_sqft</th>\n",
              "      <th>meat_sqft</th>\n",
              "      <th>coffee_bar</th>\n",
              "      <th>video_store</th>\n",
              "      <th>salad_bar</th>\n",
              "      <th>prepared_food</th>\n",
              "      <th>florist</th>\n",
              "      <th>media_type</th>\n",
              "    </tr>\n",
              "  </thead>\n",
              "  <tbody>\n",
              "    <tr>\n",
              "      <th>0</th>\n",
              "      <td>4</td>\n",
              "      <td>12</td>\n",
              "      <td>1</td>\n",
              "      <td>7.36</td>\n",
              "      <td>2.7232</td>\n",
              "      <td>4</td>\n",
              "      <td>0</td>\n",
              "      <td>2</td>\n",
              "      <td>17</td>\n",
              "      <td>0</td>\n",
              "      <td>...</td>\n",
              "      <td>27694</td>\n",
              "      <td>18670</td>\n",
              "      <td>5415</td>\n",
              "      <td>3610</td>\n",
              "      <td>1</td>\n",
              "      <td>1</td>\n",
              "      <td>1</td>\n",
              "      <td>1</td>\n",
              "      <td>1</td>\n",
              "      <td>3</td>\n",
              "    </tr>\n",
              "    <tr>\n",
              "      <th>1</th>\n",
              "      <td>4</td>\n",
              "      <td>12</td>\n",
              "      <td>1</td>\n",
              "      <td>7.36</td>\n",
              "      <td>2.7232</td>\n",
              "      <td>4</td>\n",
              "      <td>6</td>\n",
              "      <td>2</td>\n",
              "      <td>17</td>\n",
              "      <td>0</td>\n",
              "      <td>...</td>\n",
              "      <td>27694</td>\n",
              "      <td>18670</td>\n",
              "      <td>5415</td>\n",
              "      <td>3610</td>\n",
              "      <td>1</td>\n",
              "      <td>1</td>\n",
              "      <td>1</td>\n",
              "      <td>1</td>\n",
              "      <td>1</td>\n",
              "      <td>3</td>\n",
              "    </tr>\n",
              "    <tr>\n",
              "      <th>2</th>\n",
              "      <td>4</td>\n",
              "      <td>12</td>\n",
              "      <td>1</td>\n",
              "      <td>7.36</td>\n",
              "      <td>2.7232</td>\n",
              "      <td>4</td>\n",
              "      <td>18</td>\n",
              "      <td>2</td>\n",
              "      <td>17</td>\n",
              "      <td>0</td>\n",
              "      <td>...</td>\n",
              "      <td>27694</td>\n",
              "      <td>18670</td>\n",
              "      <td>5415</td>\n",
              "      <td>3610</td>\n",
              "      <td>1</td>\n",
              "      <td>1</td>\n",
              "      <td>1</td>\n",
              "      <td>1</td>\n",
              "      <td>1</td>\n",
              "      <td>3</td>\n",
              "    </tr>\n",
              "    <tr>\n",
              "      <th>3</th>\n",
              "      <td>4</td>\n",
              "      <td>12</td>\n",
              "      <td>1</td>\n",
              "      <td>7.36</td>\n",
              "      <td>2.7232</td>\n",
              "      <td>4</td>\n",
              "      <td>11</td>\n",
              "      <td>2</td>\n",
              "      <td>17</td>\n",
              "      <td>0</td>\n",
              "      <td>...</td>\n",
              "      <td>27694</td>\n",
              "      <td>18670</td>\n",
              "      <td>5415</td>\n",
              "      <td>3610</td>\n",
              "      <td>1</td>\n",
              "      <td>1</td>\n",
              "      <td>1</td>\n",
              "      <td>1</td>\n",
              "      <td>1</td>\n",
              "      <td>3</td>\n",
              "    </tr>\n",
              "    <tr>\n",
              "      <th>4</th>\n",
              "      <td>4</td>\n",
              "      <td>12</td>\n",
              "      <td>1</td>\n",
              "      <td>7.36</td>\n",
              "      <td>2.7232</td>\n",
              "      <td>4</td>\n",
              "      <td>16</td>\n",
              "      <td>2</td>\n",
              "      <td>17</td>\n",
              "      <td>0</td>\n",
              "      <td>...</td>\n",
              "      <td>27694</td>\n",
              "      <td>18670</td>\n",
              "      <td>5415</td>\n",
              "      <td>3610</td>\n",
              "      <td>1</td>\n",
              "      <td>1</td>\n",
              "      <td>1</td>\n",
              "      <td>1</td>\n",
              "      <td>1</td>\n",
              "      <td>3</td>\n",
              "    </tr>\n",
              "    <tr>\n",
              "      <th>5</th>\n",
              "      <td>4</td>\n",
              "      <td>12</td>\n",
              "      <td>1</td>\n",
              "      <td>7.36</td>\n",
              "      <td>2.7232</td>\n",
              "      <td>4</td>\n",
              "      <td>0</td>\n",
              "      <td>2</td>\n",
              "      <td>17</td>\n",
              "      <td>0</td>\n",
              "      <td>...</td>\n",
              "      <td>27694</td>\n",
              "      <td>18670</td>\n",
              "      <td>5415</td>\n",
              "      <td>3610</td>\n",
              "      <td>1</td>\n",
              "      <td>1</td>\n",
              "      <td>1</td>\n",
              "      <td>1</td>\n",
              "      <td>1</td>\n",
              "      <td>3</td>\n",
              "    </tr>\n",
              "  </tbody>\n",
              "</table>\n",
              "<p>6 rows × 22 columns</p>\n",
              "</div>\n",
              "      <button class=\"colab-df-convert\" onclick=\"convertToInteractive('df-36267a73-3008-429d-ae2a-5bc4b89d5c79')\"\n",
              "              title=\"Convert this dataframe to an interactive table.\"\n",
              "              style=\"display:none;\">\n",
              "        \n",
              "  <svg xmlns=\"http://www.w3.org/2000/svg\" height=\"24px\"viewBox=\"0 0 24 24\"\n",
              "       width=\"24px\">\n",
              "    <path d=\"M0 0h24v24H0V0z\" fill=\"none\"/>\n",
              "    <path d=\"M18.56 5.44l.94 2.06.94-2.06 2.06-.94-2.06-.94-.94-2.06-.94 2.06-2.06.94zm-11 1L8.5 8.5l.94-2.06 2.06-.94-2.06-.94L8.5 2.5l-.94 2.06-2.06.94zm10 10l.94 2.06.94-2.06 2.06-.94-2.06-.94-.94-2.06-.94 2.06-2.06.94z\"/><path d=\"M17.41 7.96l-1.37-1.37c-.4-.4-.92-.59-1.43-.59-.52 0-1.04.2-1.43.59L10.3 9.45l-7.72 7.72c-.78.78-.78 2.05 0 2.83L4 21.41c.39.39.9.59 1.41.59.51 0 1.02-.2 1.41-.59l7.78-7.78 2.81-2.81c.8-.78.8-2.07 0-2.86zM5.41 20L4 18.59l7.72-7.72 1.47 1.35L5.41 20z\"/>\n",
              "  </svg>\n",
              "      </button>\n",
              "      \n",
              "  <style>\n",
              "    .colab-df-container {\n",
              "      display:flex;\n",
              "      flex-wrap:wrap;\n",
              "      gap: 12px;\n",
              "    }\n",
              "\n",
              "    .colab-df-convert {\n",
              "      background-color: #E8F0FE;\n",
              "      border: none;\n",
              "      border-radius: 50%;\n",
              "      cursor: pointer;\n",
              "      display: none;\n",
              "      fill: #1967D2;\n",
              "      height: 32px;\n",
              "      padding: 0 0 0 0;\n",
              "      width: 32px;\n",
              "    }\n",
              "\n",
              "    .colab-df-convert:hover {\n",
              "      background-color: #E2EBFA;\n",
              "      box-shadow: 0px 1px 2px rgba(60, 64, 67, 0.3), 0px 1px 3px 1px rgba(60, 64, 67, 0.15);\n",
              "      fill: #174EA6;\n",
              "    }\n",
              "\n",
              "    [theme=dark] .colab-df-convert {\n",
              "      background-color: #3B4455;\n",
              "      fill: #D2E3FC;\n",
              "    }\n",
              "\n",
              "    [theme=dark] .colab-df-convert:hover {\n",
              "      background-color: #434B5C;\n",
              "      box-shadow: 0px 1px 3px 1px rgba(0, 0, 0, 0.15);\n",
              "      filter: drop-shadow(0px 1px 2px rgba(0, 0, 0, 0.3));\n",
              "      fill: #FFFFFF;\n",
              "    }\n",
              "  </style>\n",
              "\n",
              "      <script>\n",
              "        const buttonEl =\n",
              "          document.querySelector('#df-36267a73-3008-429d-ae2a-5bc4b89d5c79 button.colab-df-convert');\n",
              "        buttonEl.style.display =\n",
              "          google.colab.kernel.accessAllowed ? 'block' : 'none';\n",
              "\n",
              "        async function convertToInteractive(key) {\n",
              "          const element = document.querySelector('#df-36267a73-3008-429d-ae2a-5bc4b89d5c79');\n",
              "          const dataTable =\n",
              "            await google.colab.kernel.invokeFunction('convertToInteractive',\n",
              "                                                     [key], {});\n",
              "          if (!dataTable) return;\n",
              "\n",
              "          const docLinkHtml = 'Like what you see? Visit the ' +\n",
              "            '<a target=\"_blank\" href=https://colab.research.google.com/notebooks/data_table.ipynb>data table notebook</a>'\n",
              "            + ' to learn more about interactive tables.';\n",
              "          element.innerHTML = '';\n",
              "          dataTable['output_type'] = 'display_data';\n",
              "          await google.colab.output.renderOutput(dataTable, element);\n",
              "          const docLink = document.createElement('div');\n",
              "          docLink.innerHTML = docLinkHtml;\n",
              "          element.appendChild(docLink);\n",
              "        }\n",
              "      </script>\n",
              "    </div>\n",
              "  </div>\n",
              "  "
            ]
          },
          "metadata": {},
          "execution_count": 127
        }
      ]
    },
    {
      "cell_type": "code",
      "source": [
        "newbusiness['Predicted Cost'] = model_rf.predict(newbusiness).astype(float)\n",
        "newbusiness = newbusiness[['Predicted Cost','food_category','food_department','food_family','store_sales(in millions)','store_cost(in millions)',\n",
        "            'unit_sales(in millions)', 'promotion_name','sales_country','units_per_case', 'store_type',\n",
        "            'store_city', 'store_state','store_sqft','grocery_sqft', 'frozen_sqft',\n",
        "            'meat_sqft', 'coffee_bar', 'video_store', 'salad_bar', 'prepared_food',\n",
        "            'florist', 'media_type']]\n",
        "newbusiness"
      ],
      "metadata": {
        "colab": {
          "base_uri": "https://localhost:8080/",
          "height": 348
        },
        "id": "GsznMxfYKq5n",
        "outputId": "26a82027-6665-47d8-9ef2-7c969d2bb7ff"
      },
      "execution_count": 128,
      "outputs": [
        {
          "output_type": "execute_result",
          "data": {
            "text/plain": [
              "   Predicted Cost  food_category  food_department  food_family  \\\n",
              "0        124.6910              4               12            1   \n",
              "1         73.2644              4               12            1   \n",
              "2         76.1165              4               12            1   \n",
              "3         78.1156              4               12            1   \n",
              "4         73.0812              4               12            1   \n",
              "5        124.6910              4               12            1   \n",
              "\n",
              "   store_sales(in millions)  store_cost(in millions)  unit_sales(in millions)  \\\n",
              "0                      7.36                   2.7232                        4   \n",
              "1                      7.36                   2.7232                        4   \n",
              "2                      7.36                   2.7232                        4   \n",
              "3                      7.36                   2.7232                        4   \n",
              "4                      7.36                   2.7232                        4   \n",
              "5                      7.36                   2.7232                        4   \n",
              "\n",
              "   promotion_name  sales_country  units_per_case  ...  store_sqft  \\\n",
              "0               0              2              17  ...       27694   \n",
              "1               6              2              17  ...       27694   \n",
              "2              18              2              17  ...       27694   \n",
              "3              11              2              17  ...       27694   \n",
              "4              16              2              17  ...       27694   \n",
              "5               0              2              17  ...       27694   \n",
              "\n",
              "   grocery_sqft  frozen_sqft  meat_sqft  coffee_bar  video_store  salad_bar  \\\n",
              "0         18670         5415       3610           1            1          1   \n",
              "1         18670         5415       3610           1            1          1   \n",
              "2         18670         5415       3610           1            1          1   \n",
              "3         18670         5415       3610           1            1          1   \n",
              "4         18670         5415       3610           1            1          1   \n",
              "5         18670         5415       3610           1            1          1   \n",
              "\n",
              "   prepared_food  florist  media_type  \n",
              "0              1        1           3  \n",
              "1              1        1           3  \n",
              "2              1        1           3  \n",
              "3              1        1           3  \n",
              "4              1        1           3  \n",
              "5              1        1           3  \n",
              "\n",
              "[6 rows x 23 columns]"
            ],
            "text/html": [
              "\n",
              "  <div id=\"df-e43122e1-d12b-4411-9678-8ace598cf90e\">\n",
              "    <div class=\"colab-df-container\">\n",
              "      <div>\n",
              "<style scoped>\n",
              "    .dataframe tbody tr th:only-of-type {\n",
              "        vertical-align: middle;\n",
              "    }\n",
              "\n",
              "    .dataframe tbody tr th {\n",
              "        vertical-align: top;\n",
              "    }\n",
              "\n",
              "    .dataframe thead th {\n",
              "        text-align: right;\n",
              "    }\n",
              "</style>\n",
              "<table border=\"1\" class=\"dataframe\">\n",
              "  <thead>\n",
              "    <tr style=\"text-align: right;\">\n",
              "      <th></th>\n",
              "      <th>Predicted Cost</th>\n",
              "      <th>food_category</th>\n",
              "      <th>food_department</th>\n",
              "      <th>food_family</th>\n",
              "      <th>store_sales(in millions)</th>\n",
              "      <th>store_cost(in millions)</th>\n",
              "      <th>unit_sales(in millions)</th>\n",
              "      <th>promotion_name</th>\n",
              "      <th>sales_country</th>\n",
              "      <th>units_per_case</th>\n",
              "      <th>...</th>\n",
              "      <th>store_sqft</th>\n",
              "      <th>grocery_sqft</th>\n",
              "      <th>frozen_sqft</th>\n",
              "      <th>meat_sqft</th>\n",
              "      <th>coffee_bar</th>\n",
              "      <th>video_store</th>\n",
              "      <th>salad_bar</th>\n",
              "      <th>prepared_food</th>\n",
              "      <th>florist</th>\n",
              "      <th>media_type</th>\n",
              "    </tr>\n",
              "  </thead>\n",
              "  <tbody>\n",
              "    <tr>\n",
              "      <th>0</th>\n",
              "      <td>124.6910</td>\n",
              "      <td>4</td>\n",
              "      <td>12</td>\n",
              "      <td>1</td>\n",
              "      <td>7.36</td>\n",
              "      <td>2.7232</td>\n",
              "      <td>4</td>\n",
              "      <td>0</td>\n",
              "      <td>2</td>\n",
              "      <td>17</td>\n",
              "      <td>...</td>\n",
              "      <td>27694</td>\n",
              "      <td>18670</td>\n",
              "      <td>5415</td>\n",
              "      <td>3610</td>\n",
              "      <td>1</td>\n",
              "      <td>1</td>\n",
              "      <td>1</td>\n",
              "      <td>1</td>\n",
              "      <td>1</td>\n",
              "      <td>3</td>\n",
              "    </tr>\n",
              "    <tr>\n",
              "      <th>1</th>\n",
              "      <td>73.2644</td>\n",
              "      <td>4</td>\n",
              "      <td>12</td>\n",
              "      <td>1</td>\n",
              "      <td>7.36</td>\n",
              "      <td>2.7232</td>\n",
              "      <td>4</td>\n",
              "      <td>6</td>\n",
              "      <td>2</td>\n",
              "      <td>17</td>\n",
              "      <td>...</td>\n",
              "      <td>27694</td>\n",
              "      <td>18670</td>\n",
              "      <td>5415</td>\n",
              "      <td>3610</td>\n",
              "      <td>1</td>\n",
              "      <td>1</td>\n",
              "      <td>1</td>\n",
              "      <td>1</td>\n",
              "      <td>1</td>\n",
              "      <td>3</td>\n",
              "    </tr>\n",
              "    <tr>\n",
              "      <th>2</th>\n",
              "      <td>76.1165</td>\n",
              "      <td>4</td>\n",
              "      <td>12</td>\n",
              "      <td>1</td>\n",
              "      <td>7.36</td>\n",
              "      <td>2.7232</td>\n",
              "      <td>4</td>\n",
              "      <td>18</td>\n",
              "      <td>2</td>\n",
              "      <td>17</td>\n",
              "      <td>...</td>\n",
              "      <td>27694</td>\n",
              "      <td>18670</td>\n",
              "      <td>5415</td>\n",
              "      <td>3610</td>\n",
              "      <td>1</td>\n",
              "      <td>1</td>\n",
              "      <td>1</td>\n",
              "      <td>1</td>\n",
              "      <td>1</td>\n",
              "      <td>3</td>\n",
              "    </tr>\n",
              "    <tr>\n",
              "      <th>3</th>\n",
              "      <td>78.1156</td>\n",
              "      <td>4</td>\n",
              "      <td>12</td>\n",
              "      <td>1</td>\n",
              "      <td>7.36</td>\n",
              "      <td>2.7232</td>\n",
              "      <td>4</td>\n",
              "      <td>11</td>\n",
              "      <td>2</td>\n",
              "      <td>17</td>\n",
              "      <td>...</td>\n",
              "      <td>27694</td>\n",
              "      <td>18670</td>\n",
              "      <td>5415</td>\n",
              "      <td>3610</td>\n",
              "      <td>1</td>\n",
              "      <td>1</td>\n",
              "      <td>1</td>\n",
              "      <td>1</td>\n",
              "      <td>1</td>\n",
              "      <td>3</td>\n",
              "    </tr>\n",
              "    <tr>\n",
              "      <th>4</th>\n",
              "      <td>73.0812</td>\n",
              "      <td>4</td>\n",
              "      <td>12</td>\n",
              "      <td>1</td>\n",
              "      <td>7.36</td>\n",
              "      <td>2.7232</td>\n",
              "      <td>4</td>\n",
              "      <td>16</td>\n",
              "      <td>2</td>\n",
              "      <td>17</td>\n",
              "      <td>...</td>\n",
              "      <td>27694</td>\n",
              "      <td>18670</td>\n",
              "      <td>5415</td>\n",
              "      <td>3610</td>\n",
              "      <td>1</td>\n",
              "      <td>1</td>\n",
              "      <td>1</td>\n",
              "      <td>1</td>\n",
              "      <td>1</td>\n",
              "      <td>3</td>\n",
              "    </tr>\n",
              "    <tr>\n",
              "      <th>5</th>\n",
              "      <td>124.6910</td>\n",
              "      <td>4</td>\n",
              "      <td>12</td>\n",
              "      <td>1</td>\n",
              "      <td>7.36</td>\n",
              "      <td>2.7232</td>\n",
              "      <td>4</td>\n",
              "      <td>0</td>\n",
              "      <td>2</td>\n",
              "      <td>17</td>\n",
              "      <td>...</td>\n",
              "      <td>27694</td>\n",
              "      <td>18670</td>\n",
              "      <td>5415</td>\n",
              "      <td>3610</td>\n",
              "      <td>1</td>\n",
              "      <td>1</td>\n",
              "      <td>1</td>\n",
              "      <td>1</td>\n",
              "      <td>1</td>\n",
              "      <td>3</td>\n",
              "    </tr>\n",
              "  </tbody>\n",
              "</table>\n",
              "<p>6 rows × 23 columns</p>\n",
              "</div>\n",
              "      <button class=\"colab-df-convert\" onclick=\"convertToInteractive('df-e43122e1-d12b-4411-9678-8ace598cf90e')\"\n",
              "              title=\"Convert this dataframe to an interactive table.\"\n",
              "              style=\"display:none;\">\n",
              "        \n",
              "  <svg xmlns=\"http://www.w3.org/2000/svg\" height=\"24px\"viewBox=\"0 0 24 24\"\n",
              "       width=\"24px\">\n",
              "    <path d=\"M0 0h24v24H0V0z\" fill=\"none\"/>\n",
              "    <path d=\"M18.56 5.44l.94 2.06.94-2.06 2.06-.94-2.06-.94-.94-2.06-.94 2.06-2.06.94zm-11 1L8.5 8.5l.94-2.06 2.06-.94-2.06-.94L8.5 2.5l-.94 2.06-2.06.94zm10 10l.94 2.06.94-2.06 2.06-.94-2.06-.94-.94-2.06-.94 2.06-2.06.94z\"/><path d=\"M17.41 7.96l-1.37-1.37c-.4-.4-.92-.59-1.43-.59-.52 0-1.04.2-1.43.59L10.3 9.45l-7.72 7.72c-.78.78-.78 2.05 0 2.83L4 21.41c.39.39.9.59 1.41.59.51 0 1.02-.2 1.41-.59l7.78-7.78 2.81-2.81c.8-.78.8-2.07 0-2.86zM5.41 20L4 18.59l7.72-7.72 1.47 1.35L5.41 20z\"/>\n",
              "  </svg>\n",
              "      </button>\n",
              "      \n",
              "  <style>\n",
              "    .colab-df-container {\n",
              "      display:flex;\n",
              "      flex-wrap:wrap;\n",
              "      gap: 12px;\n",
              "    }\n",
              "\n",
              "    .colab-df-convert {\n",
              "      background-color: #E8F0FE;\n",
              "      border: none;\n",
              "      border-radius: 50%;\n",
              "      cursor: pointer;\n",
              "      display: none;\n",
              "      fill: #1967D2;\n",
              "      height: 32px;\n",
              "      padding: 0 0 0 0;\n",
              "      width: 32px;\n",
              "    }\n",
              "\n",
              "    .colab-df-convert:hover {\n",
              "      background-color: #E2EBFA;\n",
              "      box-shadow: 0px 1px 2px rgba(60, 64, 67, 0.3), 0px 1px 3px 1px rgba(60, 64, 67, 0.15);\n",
              "      fill: #174EA6;\n",
              "    }\n",
              "\n",
              "    [theme=dark] .colab-df-convert {\n",
              "      background-color: #3B4455;\n",
              "      fill: #D2E3FC;\n",
              "    }\n",
              "\n",
              "    [theme=dark] .colab-df-convert:hover {\n",
              "      background-color: #434B5C;\n",
              "      box-shadow: 0px 1px 3px 1px rgba(0, 0, 0, 0.15);\n",
              "      filter: drop-shadow(0px 1px 2px rgba(0, 0, 0, 0.3));\n",
              "      fill: #FFFFFF;\n",
              "    }\n",
              "  </style>\n",
              "\n",
              "      <script>\n",
              "        const buttonEl =\n",
              "          document.querySelector('#df-e43122e1-d12b-4411-9678-8ace598cf90e button.colab-df-convert');\n",
              "        buttonEl.style.display =\n",
              "          google.colab.kernel.accessAllowed ? 'block' : 'none';\n",
              "\n",
              "        async function convertToInteractive(key) {\n",
              "          const element = document.querySelector('#df-e43122e1-d12b-4411-9678-8ace598cf90e');\n",
              "          const dataTable =\n",
              "            await google.colab.kernel.invokeFunction('convertToInteractive',\n",
              "                                                     [key], {});\n",
              "          if (!dataTable) return;\n",
              "\n",
              "          const docLinkHtml = 'Like what you see? Visit the ' +\n",
              "            '<a target=\"_blank\" href=https://colab.research.google.com/notebooks/data_table.ipynb>data table notebook</a>'\n",
              "            + ' to learn more about interactive tables.';\n",
              "          element.innerHTML = '';\n",
              "          dataTable['output_type'] = 'display_data';\n",
              "          await google.colab.output.renderOutput(dataTable, element);\n",
              "          const docLink = document.createElement('div');\n",
              "          docLink.innerHTML = docLinkHtml;\n",
              "          element.appendChild(docLink);\n",
              "        }\n",
              "      </script>\n",
              "    </div>\n",
              "  </div>\n",
              "  "
            ]
          },
          "metadata": {},
          "execution_count": 128
        }
      ]
    },
    {
      "cell_type": "code",
      "source": [
        "prediksicost_stupen=newbusiness.to_excel('/content/prediksicost_stupen1.xlsx')"
      ],
      "metadata": {
        "id": "M7j7FzSZPm2c"
      },
      "execution_count": 129,
      "outputs": []
    },
    {
      "cell_type": "markdown",
      "source": [
        "### variabel importance random forest"
      ],
      "metadata": {
        "id": "1WHg-cuRz_BY"
      }
    },
    {
      "cell_type": "code",
      "source": [
        "# random forest\n",
        "model_rf.feature_importances_"
      ],
      "metadata": {
        "colab": {
          "base_uri": "https://localhost:8080/"
        },
        "id": "-af3qtsoFZEW",
        "outputId": "bfa95e02-9ba6-4b77-d4d2-caebb46e9dfa"
      },
      "execution_count": 130,
      "outputs": [
        {
          "output_type": "execute_result",
          "data": {
            "text/plain": [
              "array([2.67077192e-04, 2.25565693e-04, 4.53821476e-05, 5.19011261e-04,\n",
              "       5.29397173e-04, 2.80591699e-04, 4.36046302e-01, 1.89762280e-02,\n",
              "       4.41559694e-04, 3.14121866e-02, 4.30306368e-02, 4.09690880e-02,\n",
              "       4.49760845e-02, 4.48311950e-02, 3.89956937e-02, 3.64502407e-02,\n",
              "       8.05989159e-03, 1.42025830e-02, 3.24402741e-03, 4.41822187e-03,\n",
              "       9.57933434e-03, 2.22499701e-01])"
            ]
          },
          "metadata": {},
          "execution_count": 130
        }
      ]
    },
    {
      "cell_type": "code",
      "source": [
        "predictors=['food_category','food_department','food_family','store_sales(in millions)','store_cost(in millions)',\n",
        "            'unit_sales(in millions)', 'promotion_name','sales_country','units_per_case', 'store_type',\n",
        "            'store_city', 'store_state','store_sqft','grocery_sqft', 'frozen_sqft',\n",
        "            'meat_sqft', 'coffee_bar', 'video_store', 'salad_bar', 'prepared_food',\n",
        "            'florist', 'media_type']"
      ],
      "metadata": {
        "id": "5J6NQ3KY6-IP"
      },
      "execution_count": 131,
      "outputs": []
    },
    {
      "cell_type": "code",
      "source": [
        "importances=list(model_rf.feature_importances_)\n",
        "importances"
      ],
      "metadata": {
        "colab": {
          "base_uri": "https://localhost:8080/"
        },
        "id": "26vBnWUa7Aqt",
        "outputId": "af959e75-a9fc-4744-c7df-1c8cad9dc6e0"
      },
      "execution_count": 132,
      "outputs": [
        {
          "output_type": "execute_result",
          "data": {
            "text/plain": [
              "[0.0002670771924157861,\n",
              " 0.00022556569291499323,\n",
              " 4.5382147609050397e-05,\n",
              " 0.0005190112605275799,\n",
              " 0.000529397173075466,\n",
              " 0.0002805916992604176,\n",
              " 0.43604630228142566,\n",
              " 0.018976228041291645,\n",
              " 0.0004415596936907612,\n",
              " 0.03141218663214296,\n",
              " 0.0430306368112977,\n",
              " 0.040969088022466044,\n",
              " 0.044976084540827056,\n",
              " 0.04483119501794015,\n",
              " 0.038995693659613785,\n",
              " 0.036450240692831835,\n",
              " 0.00805989159162754,\n",
              " 0.014202582969197592,\n",
              " 0.0032440274123062135,\n",
              " 0.00441822186568474,\n",
              " 0.009579334343041509,\n",
              " 0.22249970125881147]"
            ]
          },
          "metadata": {},
          "execution_count": 132
        }
      ]
    },
    {
      "cell_type": "code",
      "source": [
        "predictors_list=list(predictors)\n",
        "predictors_list"
      ],
      "metadata": {
        "colab": {
          "base_uri": "https://localhost:8080/"
        },
        "id": "3nAaEsnu7YSO",
        "outputId": "e144ce56-a7c7-48e5-ade5-898e9c02e3fd"
      },
      "execution_count": 133,
      "outputs": [
        {
          "output_type": "execute_result",
          "data": {
            "text/plain": [
              "['food_category',\n",
              " 'food_department',\n",
              " 'food_family',\n",
              " 'store_sales(in millions)',\n",
              " 'store_cost(in millions)',\n",
              " 'unit_sales(in millions)',\n",
              " 'promotion_name',\n",
              " 'sales_country',\n",
              " 'units_per_case',\n",
              " 'store_type',\n",
              " 'store_city',\n",
              " 'store_state',\n",
              " 'store_sqft',\n",
              " 'grocery_sqft',\n",
              " 'frozen_sqft',\n",
              " 'meat_sqft',\n",
              " 'coffee_bar',\n",
              " 'video_store',\n",
              " 'salad_bar',\n",
              " 'prepared_food',\n",
              " 'florist',\n",
              " 'media_type']"
            ]
          },
          "metadata": {},
          "execution_count": 133
        }
      ]
    },
    {
      "cell_type": "code",
      "source": [
        "feature_importances= [(predictors, round(importance, 5)) for predictors, importance in zip(predictors_list,importances)]\n",
        "feature_importances"
      ],
      "metadata": {
        "colab": {
          "base_uri": "https://localhost:8080/"
        },
        "id": "Bxotc1rI7AoH",
        "outputId": "28f65e0d-b653-475d-988a-1039d3c049f4"
      },
      "execution_count": 134,
      "outputs": [
        {
          "output_type": "execute_result",
          "data": {
            "text/plain": [
              "[('food_category', 0.00027),\n",
              " ('food_department', 0.00023),\n",
              " ('food_family', 5e-05),\n",
              " ('store_sales(in millions)', 0.00052),\n",
              " ('store_cost(in millions)', 0.00053),\n",
              " ('unit_sales(in millions)', 0.00028),\n",
              " ('promotion_name', 0.43605),\n",
              " ('sales_country', 0.01898),\n",
              " ('units_per_case', 0.00044),\n",
              " ('store_type', 0.03141),\n",
              " ('store_city', 0.04303),\n",
              " ('store_state', 0.04097),\n",
              " ('store_sqft', 0.04498),\n",
              " ('grocery_sqft', 0.04483),\n",
              " ('frozen_sqft', 0.039),\n",
              " ('meat_sqft', 0.03645),\n",
              " ('coffee_bar', 0.00806),\n",
              " ('video_store', 0.0142),\n",
              " ('salad_bar', 0.00324),\n",
              " ('prepared_food', 0.00442),\n",
              " ('florist', 0.00958),\n",
              " ('media_type', 0.2225)]"
            ]
          },
          "metadata": {},
          "execution_count": 134
        }
      ]
    },
    {
      "cell_type": "code",
      "source": [
        "feature_importances= sorted(feature_importances, key=lambda x:x[1], reverse=True)\n",
        "feature_importances"
      ],
      "metadata": {
        "colab": {
          "base_uri": "https://localhost:8080/"
        },
        "id": "PI8b-YbP74XS",
        "outputId": "a0eee237-e184-4844-f014-7d1004fdca3c"
      },
      "execution_count": 135,
      "outputs": [
        {
          "output_type": "execute_result",
          "data": {
            "text/plain": [
              "[('promotion_name', 0.43605),\n",
              " ('media_type', 0.2225),\n",
              " ('store_sqft', 0.04498),\n",
              " ('grocery_sqft', 0.04483),\n",
              " ('store_city', 0.04303),\n",
              " ('store_state', 0.04097),\n",
              " ('frozen_sqft', 0.039),\n",
              " ('meat_sqft', 0.03645),\n",
              " ('store_type', 0.03141),\n",
              " ('sales_country', 0.01898),\n",
              " ('video_store', 0.0142),\n",
              " ('florist', 0.00958),\n",
              " ('coffee_bar', 0.00806),\n",
              " ('prepared_food', 0.00442),\n",
              " ('salad_bar', 0.00324),\n",
              " ('store_cost(in millions)', 0.00053),\n",
              " ('store_sales(in millions)', 0.00052),\n",
              " ('units_per_case', 0.00044),\n",
              " ('unit_sales(in millions)', 0.00028),\n",
              " ('food_category', 0.00027),\n",
              " ('food_department', 0.00023),\n",
              " ('food_family', 5e-05)]"
            ]
          },
          "metadata": {},
          "execution_count": 135
        }
      ]
    },
    {
      "cell_type": "code",
      "source": [
        "[print('Variable :{:30} Importance: {}'.format(*pair)) for pair in feature_importances]"
      ],
      "metadata": {
        "colab": {
          "base_uri": "https://localhost:8080/"
        },
        "id": "OiQQu7R674LF",
        "outputId": "20c1a1dd-9697-4fcf-b4d1-372feb871153"
      },
      "execution_count": 136,
      "outputs": [
        {
          "output_type": "stream",
          "name": "stdout",
          "text": [
            "Variable :promotion_name                 Importance: 0.43605\n",
            "Variable :media_type                     Importance: 0.2225\n",
            "Variable :store_sqft                     Importance: 0.04498\n",
            "Variable :grocery_sqft                   Importance: 0.04483\n",
            "Variable :store_city                     Importance: 0.04303\n",
            "Variable :store_state                    Importance: 0.04097\n",
            "Variable :frozen_sqft                    Importance: 0.039\n",
            "Variable :meat_sqft                      Importance: 0.03645\n",
            "Variable :store_type                     Importance: 0.03141\n",
            "Variable :sales_country                  Importance: 0.01898\n",
            "Variable :video_store                    Importance: 0.0142\n",
            "Variable :florist                        Importance: 0.00958\n",
            "Variable :coffee_bar                     Importance: 0.00806\n",
            "Variable :prepared_food                  Importance: 0.00442\n",
            "Variable :salad_bar                      Importance: 0.00324\n",
            "Variable :store_cost(in millions)        Importance: 0.00053\n",
            "Variable :store_sales(in millions)       Importance: 0.00052\n",
            "Variable :units_per_case                 Importance: 0.00044\n",
            "Variable :unit_sales(in millions)        Importance: 0.00028\n",
            "Variable :food_category                  Importance: 0.00027\n",
            "Variable :food_department                Importance: 0.00023\n",
            "Variable :food_family                    Importance: 5e-05\n"
          ]
        },
        {
          "output_type": "execute_result",
          "data": {
            "text/plain": [
              "[None,\n",
              " None,\n",
              " None,\n",
              " None,\n",
              " None,\n",
              " None,\n",
              " None,\n",
              " None,\n",
              " None,\n",
              " None,\n",
              " None,\n",
              " None,\n",
              " None,\n",
              " None,\n",
              " None,\n",
              " None,\n",
              " None,\n",
              " None,\n",
              " None,\n",
              " None,\n",
              " None,\n",
              " None]"
            ]
          },
          "metadata": {},
          "execution_count": 136
        }
      ]
    },
    {
      "cell_type": "code",
      "source": [
        "features = predictors\n",
        "importances = model_rf.feature_importances_\n",
        "indices = np.argsort(importances)\n",
        "\n",
        "\n",
        "figs=plt.figure(figsize=(12,6))\n",
        "plt.title('Feature Importances')\n",
        "plt.barh(range(len(indices)), importances[indices], color='b', align='center')\n",
        "plt.yticks(range(len(indices)), [features[i] for i in indices])\n",
        "plt.xlabel('Relative Importance')\n",
        "plt.show()"
      ],
      "metadata": {
        "colab": {
          "base_uri": "https://localhost:8080/",
          "height": 404
        },
        "id": "6l7zsDOi_fce",
        "outputId": "526f1fd0-5237-4ac2-95d8-4c0253aa33b0"
      },
      "execution_count": 137,
      "outputs": [
        {
          "output_type": "display_data",
          "data": {
            "text/plain": [
              "<Figure size 864x432 with 1 Axes>"
            ],
            "image/png": "[encoded data removed]"
          },
          "metadata": {
            "needs_background": "light"
          }
        }
      ]
    },
    {
      "cell_type": "markdown",
      "source": [
        "## deployment"
      ],
      "metadata": {
        "id": "yP3siAdhJ_WK"
      }
    },
    {
      "cell_type": "markdown",
      "source": [
        "Berdasarkan hasil analisis yang dilakukan, kami membuat beberapa strategi dalam menjalankan usaha food mart agar lebih maksimal\n",
        "- penggunaan promosi yang menarik banyak pelanggan seperti weekend \n",
        "markdown, price saver, two day sale, dan price winter digunakan untuk mempromosikan produk yang penjualannya masih rendah seperti candles, canned sarden, hygiene, dan cold remedies. sementara untuk promosi yang kurang menarik konsumen bisa ditingkatkan atau difokuskan ke produk yang memiliki penjualan banyak untuk mempertahankan produk tersebut. hal ini dilakukan untuk meminimalisir biaya dan memaksimalkan keuntungan\n",
        "- perusahaan bisa memaksimalkan keuntungan dengan cara membuat produk makanan olahan sendiri atau menyediakan restoran untuk pelanggan, hal ini karena selama ini penjualan makanan tertinggi adalah makanan yang siap makan.\n",
        "- Pada dasarnya usaha foodmart bekerja dengan cara membeli dari pihak lain dan menjualnya kembali, dengan hal tersebut foodmart sangat bergantung pada sektor lain, misalnya pada saat harga hasil pertanian naik foodmart harus menaikan harga yang merugikan foodmart konsumen. Untuk mencegah hal tersebut perusahaan bisa memperluas usaha di bidang pertanian dan peternakan yang merupakan sektor penting bagi usaha foodmart dengan cara menjalankan sendiri atau bekerja sama misalnya menyediakan alat pertanian dan peternakan, pupuk, dan lain sebagainya.\n",
        "- Promosi memiliki fleksibilitas dan  biaya yang tinggi yang sangat berpengaruh terhadap kondisi keuangan,  penggunaan biaya khususnya biaya promosi disesuaikan dengan kondisi keuangan perusahaan dan keadaan perekonomian, biaya promosi bisa di tingkatan pada saat kondisi keuangan dalam kondisi baik dan harga di tingkat eceran rendah, hal ini karena ketika harga eceran di tingkat rendah keinginan membeli dari konsumen sangat tinggi, hal ini bisa dimanfaatkan oleh perusahaan untuk mendapatkan menaikan penjualan dengan cara menambah promosi dan begitupun sebaliknya  jika kondisi keuangan perusahaan tidak baik dan harga eceran dalam tingkat yang tinggi.\n",
        "- Melakukan promosi yang intens untuk menaikan penjualan pada coffee bar, dan salad bar. Ini dilakukan karena penjualan tertinggi adalah produk siap makan, sementara coffee bar dan salad bar masih memiliki pengaruh yang kecil terhadap penjualan.\n",
        "- Berdasarkan data penjualan, 71% adalah makanan dan barang non konsumsi sebesar 19% dan sisanya adalah minuman data ini merupakan hal wajar bagi foodmart karena sebagian besar barang yang tersedia merupakan makanan. Hal ini menunjukan jumlah barang yang dijual menentukan tingkat penjualan, maka  dengan menambah stok barang non konsumsi maka penjualan barang non konsumsi bisa dimaksimalkan dengan target 30% dari semua penjualan, angka tersebut adalah angka yang normal untuk foodmart yang tidak hanya menjual makanan. \n",
        "\n",
        "\n"
      ],
      "metadata": {
        "id": "Mn_mld5aBqEU"
      }
    }
  ]
}